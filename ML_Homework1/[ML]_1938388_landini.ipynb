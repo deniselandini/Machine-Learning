{
  "nbformat": 4,
  "nbformat_minor": 0,
  "metadata": {
    "colab": {
      "name": "denise_landini_1938388 .ipynb",
      "provenance": [],
      "collapsed_sections": [
        "juw_Rw6sJm1C",
        "F7q9CwP9J2dR",
        "KpdgxeyrNTay",
        "X0451dKyjc6P",
        "bJXBPFVoMl_s",
        "-ZnHXpTZMv9H",
        "4dOuPJUcF8PW",
        "DWwqbuAQkL59",
        "HhsuDzK9GTI8",
        "zPhOGOIdOAiL",
        "aGO1TbV-Og4F"
      ]
    },
    "kernelspec": {
      "name": "python3",
      "display_name": "Python 3"
    }
  },
  "cells": [
    {
      "cell_type": "markdown",
      "metadata": {
        "id": "siL8lRQNltUm"
      },
      "source": [
        "# **HOMEWORK 1 - Machine Learning**\n",
        "*Denise Landini - 1938388*"
      ]
    },
    {
      "cell_type": "markdown",
      "metadata": {
        "id": "juw_Rw6sJm1C"
      },
      "source": [
        "# **Import needed libraries**"
      ]
    },
    {
      "cell_type": "code",
      "metadata": {
        "id": "l-gzxcp0fz7G"
      },
      "source": [
        "import pandas as pd\n",
        "import numpy as np\n",
        "import time\n",
        "\n",
        "from sklearn.model_selection import train_test_split,cross_val_score, ShuffleSplit, GridSearchCV\n",
        "from sklearn.ensemble import RandomForestClassifier\n",
        "from sklearn.feature_extraction.text import *\n",
        "from sklearn.naive_bayes import GaussianNB\n",
        "from sklearn.metrics import confusion_matrix, classification_report\n",
        "from sklearn.naive_bayes import *\n",
        "import matplotlib.pyplot as pl\n",
        "from mlxtend.plotting import plot_confusion_matrix\n",
        "from mlxtend.evaluate import confusion_matrix\n",
        "\n",
        "from google.colab import drive"
      ],
      "execution_count": 41,
      "outputs": []
    },
    {
      "cell_type": "markdown",
      "metadata": {
        "id": "F7q9CwP9J2dR"
      },
      "source": [
        "# **Load data**"
      ]
    },
    {
      "cell_type": "code",
      "metadata": {
        "id": "jjpF0gp7kuP-",
        "colab": {
          "base_uri": "https://localhost:8080/"
        },
        "outputId": "474ba91e-2c34-4eb1-fc2c-60344352eb8b"
      },
      "source": [
        "drive.mount('/content/drive')"
      ],
      "execution_count": 42,
      "outputs": [
        {
          "output_type": "stream",
          "text": [
            "Drive already mounted at /content/drive; to attempt to forcibly remount, call drive.mount(\"/content/drive\", force_remount=True).\n"
          ],
          "name": "stdout"
        }
      ]
    },
    {
      "cell_type": "code",
      "metadata": {
        "colab": {
          "base_uri": "https://localhost:8080/"
        },
        "id": "un4eruLNUHIB",
        "outputId": "77a06afc-6a74-4292-b4e6-87ef9b293955"
      },
      "source": [
        "%ls '/content/drive/My Drive/homework_classification/'"
      ],
      "execution_count": 3,
      "outputs": [
        {
          "output_type": "stream",
          "text": [
            "blindtest.json  dataset.json  nodupblindtest.json  noduplicatedataset.json\n"
          ],
          "name": "stdout"
        }
      ]
    },
    {
      "cell_type": "markdown",
      "metadata": {
        "id": "r5jZQKMGkZcR"
      },
      "source": [
        "**Dataset with duplicates**"
      ]
    },
    {
      "cell_type": "code",
      "metadata": {
        "id": "FPZnZna6k7z7",
        "colab": {
          "base_uri": "https://localhost:8080/"
        },
        "outputId": "47c5fcc2-c4d8-4886-dcf3-f2757d8192b4"
      },
      "source": [
        "filename= '/content/drive/My Drive/homework_classification/dataset.json'\n",
        "db = pd.read_json(filename, lines=True)\n",
        "print(len(db))"
      ],
      "execution_count": 43,
      "outputs": [
        {
          "output_type": "stream",
          "text": [
            "14397\n"
          ],
          "name": "stdout"
        }
      ]
    },
    {
      "cell_type": "markdown",
      "metadata": {
        "id": "kFW0JLkskfbT"
      },
      "source": [
        "**Dataset without duplicates**"
      ]
    },
    {
      "cell_type": "code",
      "metadata": {
        "colab": {
          "base_uri": "https://localhost:8080/"
        },
        "id": "dzQbjlXDT_2H",
        "outputId": "b49b576a-7849-4a9c-f14a-9705887db2cd"
      },
      "source": [
        "filename= '/content/drive/My Drive/homework_classification/noduplicatedataset.json'\n",
        "db = pd.read_json(filename, lines=True)\n",
        "print(len(db))"
      ],
      "execution_count": 4,
      "outputs": [
        {
          "output_type": "stream",
          "text": [
            "6073\n"
          ],
          "name": "stdout"
        }
      ]
    },
    {
      "cell_type": "markdown",
      "metadata": {
        "id": "wEFU9N5zNX3X"
      },
      "source": [
        "# **Method 1** "
      ]
    },
    {
      "cell_type": "markdown",
      "metadata": {
        "id": "KpdgxeyrNTay"
      },
      "source": [
        "### Pre-processing \n"
      ]
    },
    {
      "cell_type": "markdown",
      "metadata": {
        "id": "gIyxJuegFbcy"
      },
      "source": [
        "**Tfidf Vectorizer**"
      ]
    },
    {
      "cell_type": "code",
      "metadata": {
        "id": "buAWxrCwn76b"
      },
      "source": [
        "data = db.lista_asm\n",
        "labels = db.semantic\n",
        "\n",
        "vectorizer = TfidfVectorizer()\n",
        "\n",
        "X_all = vectorizer.fit_transform(data)\n",
        "y_all = labels"
      ],
      "execution_count": 5,
      "outputs": []
    },
    {
      "cell_type": "markdown",
      "metadata": {
        "id": "X0451dKyjc6P"
      },
      "source": [
        "### Split Data "
      ]
    },
    {
      "cell_type": "code",
      "metadata": {
        "id": "a1xxAV0CvWE7",
        "colab": {
          "base_uri": "https://localhost:8080/"
        },
        "outputId": "8ac6686e-261b-41c5-801f-e40dfdee507c"
      },
      "source": [
        "X_train, X_test, y_train, y_test = train_test_split(X_all, y_all, \n",
        "          test_size=0.2, random_state=15)\n",
        "print(\"Train: %d - Test: %d\" %(X_train.shape[0],X_test.shape[0]))"
      ],
      "execution_count": 6,
      "outputs": [
        {
          "output_type": "stream",
          "text": [
            "Train: 4858 - Test: 1215\n"
          ],
          "name": "stdout"
        }
      ]
    },
    {
      "cell_type": "markdown",
      "metadata": {
        "id": "bJXBPFVoMl_s"
      },
      "source": [
        "## Models "
      ]
    },
    {
      "cell_type": "markdown",
      "metadata": {
        "id": "F2-lV1muENUE"
      },
      "source": [
        "**Bernoulli NB Model**"
      ]
    },
    {
      "cell_type": "code",
      "metadata": {
        "id": "UO5VuP6pwHIX",
        "colab": {
          "base_uri": "https://localhost:8080/"
        },
        "outputId": "bc7078cd-855a-476e-9f6c-9ad39453a3db"
      },
      "source": [
        "start_time = time.time()\n",
        "model = BernoulliNB()\n",
        "model.fit(X_train, y_train)\n",
        "print('Bernoulli Model created')\n",
        "print(\"Time: %s s\" % round(time.time() - start_time, 4))"
      ],
      "execution_count": 7,
      "outputs": [
        {
          "output_type": "stream",
          "text": [
            "Bernoulli Model created\n",
            "Time: 0.0375 s\n"
          ],
          "name": "stdout"
        }
      ]
    },
    {
      "cell_type": "markdown",
      "metadata": {
        "id": "Q0qymA5cAjWW"
      },
      "source": [
        "**Multinomial NB Model**"
      ]
    },
    {
      "cell_type": "code",
      "metadata": {
        "colab": {
          "base_uri": "https://localhost:8080/"
        },
        "id": "CE9GaRYJAV3e",
        "outputId": "b49296c0-9b8f-4199-8a0f-20409b631599"
      },
      "source": [
        "start_time = time.time()\n",
        "model = MultinomialNB()\n",
        "model.fit(X_train, y_train)\n",
        "print('Multinomial Model created')\n",
        "print(\"Time: %s s\" % round(time.time() - start_time, 4))"
      ],
      "execution_count": 11,
      "outputs": [
        {
          "output_type": "stream",
          "text": [
            "Multinomial Model created\n",
            "Time: 0.0417 s\n"
          ],
          "name": "stdout"
        }
      ]
    },
    {
      "cell_type": "markdown",
      "metadata": {
        "id": "b9HH6hH4EgTz"
      },
      "source": [
        "**Random forest classifier**"
      ]
    },
    {
      "cell_type": "code",
      "metadata": {
        "colab": {
          "base_uri": "https://localhost:8080/"
        },
        "id": "OFqjDzGg9GSv",
        "outputId": "b352997b-45ec-4bd0-b8de-cb5fbc655c57"
      },
      "source": [
        "start_time = time.time()\n",
        "model = RandomForestClassifier()\n",
        "model.fit(X_train, y_train)\n",
        "print('Random forest classifier created')\n",
        "print(\"Time: %s s\" % round(time.time() - start_time, 4))"
      ],
      "execution_count": 15,
      "outputs": [
        {
          "output_type": "stream",
          "text": [
            "Random forest classifier created\n",
            "Time: 3.0208 s\n"
          ],
          "name": "stdout"
        }
      ]
    },
    {
      "cell_type": "markdown",
      "metadata": {
        "id": "i_jHeqPsMnkZ"
      },
      "source": [
        "**Gaussian NB Model**"
      ]
    },
    {
      "cell_type": "code",
      "metadata": {
        "colab": {
          "base_uri": "https://localhost:8080/"
        },
        "id": "FQxSVGmfMUy4",
        "outputId": "2941aa79-f955-429a-bdf7-ab6b572eea90"
      },
      "source": [
        "model = GaussianNB()\n",
        "X_train = X_train.toarray()\n",
        "start_time = time.time()\n",
        "model.fit(X_train, y_train)\n",
        "print(\"Gaussian Model created\")\n",
        "print(\"Time: %s s\" % round(time.time() - start_time, 4))\n",
        "X_test = X_test.toarray()"
      ],
      "execution_count": 19,
      "outputs": [
        {
          "output_type": "stream",
          "text": [
            "Gaussian Model created\n",
            "Time: 1.7501 s\n"
          ],
          "name": "stdout"
        }
      ]
    },
    {
      "cell_type": "markdown",
      "metadata": {
        "id": "-ZnHXpTZMv9H"
      },
      "source": [
        "## Evaluation"
      ]
    },
    {
      "cell_type": "markdown",
      "metadata": {
        "id": "pDFqKeYQEm2I"
      },
      "source": [
        "**Evaluation test set**"
      ]
    },
    {
      "cell_type": "code",
      "metadata": {
        "id": "OaOLeOrLEqU0"
      },
      "source": [
        "y_pred = model.predict(X_test)"
      ],
      "execution_count": 20,
      "outputs": []
    },
    {
      "cell_type": "markdown",
      "metadata": {
        "id": "UWjIwoKTEsrn"
      },
      "source": [
        "**Confusion matrix**"
      ]
    },
    {
      "cell_type": "code",
      "metadata": {
        "id": "5EWq8TlRw29y",
        "colab": {
          "base_uri": "https://localhost:8080/",
          "height": 279
        },
        "outputId": "e1bbbdd4-cc41-4c55-829b-61d9dee8998e"
      },
      "source": [
        "cm= confusion_matrix(y_test,y_pred)\n",
        "fig, ax = plot_confusion_matrix(conf_mat=cm,\n",
        "                                colorbar=True,\n",
        "                                show_absolute=True,\n",
        "                                show_normed=True\n",
        "                                )"
      ],
      "execution_count": 21,
      "outputs": [
        {
          "output_type": "display_data",
          "data": {
            "image/png": "[encoded data removed]",
            "text/plain": [
              "<Figure size 432x288 with 2 Axes>"
            ]
          },
          "metadata": {
            "tags": [],
            "needs_background": "light"
          }
        }
      ]
    },
    {
      "cell_type": "markdown",
      "metadata": {
        "id": "e9auLyTtEzyb"
      },
      "source": [
        "**Classification report**"
      ]
    },
    {
      "cell_type": "code",
      "metadata": {
        "colab": {
          "base_uri": "https://localhost:8080/"
        },
        "id": "en1VuWuI8iqA",
        "outputId": "f1a471ed-cf95-4913-d23c-33059f822df9"
      },
      "source": [
        "print(classification_report(y_test, y_pred))"
      ],
      "execution_count": 22,
      "outputs": [
        {
          "output_type": "stream",
          "text": [
            "              precision    recall  f1-score   support\n",
            "\n",
            "  encryption       0.88      0.96      0.92       256\n",
            "        math       0.91      0.86      0.88       456\n",
            "        sort       0.41      0.58      0.48       112\n",
            "      string       0.95      0.83      0.89       391\n",
            "\n",
            "    accuracy                           0.85      1215\n",
            "   macro avg       0.79      0.81      0.79      1215\n",
            "weighted avg       0.87      0.85      0.86      1215\n",
            "\n"
          ],
          "name": "stdout"
        }
      ]
    },
    {
      "cell_type": "markdown",
      "metadata": {
        "id": "0PldctXzNoif"
      },
      "source": [
        "# **Method 2**"
      ]
    },
    {
      "cell_type": "markdown",
      "metadata": {
        "id": "4dOuPJUcF8PW"
      },
      "source": [
        "## Pre-processing"
      ]
    },
    {
      "cell_type": "code",
      "metadata": {
        "colab": {
          "base_uri": "https://localhost:8080/"
        },
        "id": "L8Wq1D0MN7c0",
        "outputId": "d7d60102-face-4687-83af-84267d5555bf"
      },
      "source": [
        "a = []\n",
        "for j in db.lista_asm:\n",
        "  app = j.split(\"', '\")\n",
        "  for i in range(len(app)):\n",
        "    if i == 0:\n",
        "      a.append(app[i].split(\" \")[0][2:])\n",
        "    else:\n",
        "      a.append(app[i].split(\" \")[0])\n",
        "\n",
        "a = list(set(a))\n",
        "\n",
        "class_enc = [\"and\", \"or\", \"xor\", \"not\", \"cmp\", \"test\", \"jmp\", \"je\", \"jne\", \"jg\", \"jge\", \"jl\", \"jle\", 'jbe', 'jb', 'jae', 'ja']\n",
        "class_sort = [\"call\", \"mov\", \"lea\", \"cmp\", \"jmp\", \"je\", \"jne\", \"jg\", \"jge\", \"jl\", \"jle\", 'jbe', 'jb', 'jae', 'ja']\n",
        "class_math = [\"add\", \"mul\", \"imul\", \"div\", \"cdq\", \"idiv\", \"sub\", \"inc\", \"dec\", \"neg\"]\n",
        "for j in a:\n",
        "  if j[0] == 'f':\n",
        "    class_math.append(j)\n",
        "class_str_man = [\"mov\", \"lea\", \"cmp\", \"pop\", \"push\", \"jmp\", \"je\", \"jne\", \"jg\", \"jge\", \"jl\", \"jle\", 'jbe', 'jb', 'jae', 'ja']\n",
        "loop_names = []\n",
        "for j in a:\n",
        "  if j not in class_enc and j not in class_sort and j not in class_math and j not in class_str_man:\n",
        "    loop_names.append(j)\n",
        "\n",
        "mat = []\n",
        "for j in db.lista_asm:\n",
        "  j_split = j.split(\"', '\")\n",
        "  row = []\n",
        "\n",
        "  count = 0\n",
        "  for i in j_split:\n",
        "    for label in class_enc:\n",
        "      if i.find(label) != -1:\n",
        "        count += 1\n",
        "        break\n",
        "  row.append(count)\n",
        "\n",
        "  count = 0\n",
        "  for i in j_split:\n",
        "    for label in class_sort:\n",
        "      if i.find(label) != -1:\n",
        "        count += 1\n",
        "        break\n",
        "  row.append(count)\n",
        "\n",
        "  count = 0\n",
        "  for i in j_split:\n",
        "    for label in class_math:\n",
        "      if i.find(label) != -1:\n",
        "        count += 1\n",
        "        break\n",
        "  row.append(count)\n",
        "\n",
        "  count = 0\n",
        "  for i in j_split:\n",
        "    for label in class_str_man:\n",
        "      if i.find(label) != -1:\n",
        "        count += 1\n",
        "        break\n",
        "  row.append(count)\n",
        "\n",
        "  count = 0\n",
        "  for i in j_split:\n",
        "    for label in loop_names:\n",
        "      if i.find(label) != -1:\n",
        "        count += 1\n",
        "        break\n",
        "  row.append(count)\n",
        "\n",
        "  mat.append(row)\n",
        "\n",
        "print(mat)"
      ],
      "execution_count": 23,
      "outputs": [
        {
          "output_type": "stream",
          "text": [
            "[[66, 79, 5, 77, 6], [21, 19, 6, 20, 25], [171, 245, 40, 247, 216], [7, 9, 1, 8, 3], [43, 48, 7, 45, 9], [144, 131, 2, 120, 39], [125, 216, 60, 226, 155], [61, 63, 2, 67, 54], [59, 92, 26, 104, 33], [34, 47, 6, 43, 5], [10, 23, 8, 30, 5], [69, 93, 12, 104, 56], [18, 16, 4, 16, 9], [57, 99, 12, 111, 31], [15, 20, 4, 25, 22], [49, 58, 9, 84, 12], [5, 7, 1, 8, 3], [832, 973, 223, 980, 564], [18, 18, 4, 18, 10], [48, 50, 3, 50, 3], [3, 3, 0, 3, 1], [22, 20, 3, 20, 20], [480, 94, 1, 100, 106], [154, 233, 39, 223, 62], [12, 11, 5, 14, 18], [2787, 3734, 580, 3354, 197], [23, 21, 3, 21, 21], [18, 24, 7, 34, 3], [42, 43, 3, 45, 5], [79, 113, 26, 123, 39], [4, 8, 3, 10, 11], [5, 6, 1, 8, 3], [181, 291, 13, 306, 151], [74, 140, 10, 120, 17], [51, 88, 17, 89, 13], [28, 22, 6, 24, 12], [120, 114, 13, 122, 10], [5, 6, 1, 6, 3], [44, 71, 13, 83, 23], [28, 31, 0, 39, 8], [20, 28, 4, 38, 3], [27, 44, 3, 60, 8], [20, 32, 7, 45, 10], [65, 72, 4, 72, 58], [5, 5, 1, 5, 2], [369, 354, 74, 338, 332], [71, 74, 11, 75, 9], [8, 8, 2, 9, 8], [24, 25, 5, 25, 4], [39, 46, 15, 58, 17], [67, 71, 22, 86, 36], [66, 74, 8, 76, 7], [197, 330, 49, 315, 123], [6, 6, 1, 8, 4], [172, 256, 4, 274, 167], [24, 32, 8, 55, 23], [42, 65, 6, 79, 23], [54, 96, 28, 106, 56], [5, 7, 1, 8, 3], [8, 10, 1, 10, 5], [268, 660, 162, 629, 146], [229, 259, 31, 242, 14], [97, 126, 10, 143, 25], [11, 24, 3, 33, 4], [4, 6, 1, 7, 2], [68, 50, 18, 49, 83], [9, 10, 1, 10, 4], [56, 64, 9, 72, 15], [15, 18, 4, 20, 1], [638, 1056, 162, 1060, 402], [34, 38, 14, 42, 14], [42, 40, 4, 40, 31], [54, 65, 9, 75, 6], [5, 7, 1, 11, 3], [35, 28, 6, 28, 39], [62, 64, 9, 65, 7], [35, 51, 16, 59, 15], [86, 99, 52, 100, 57], [4, 5, 1, 6, 2], [14, 15, 4, 14, 23], [50, 56, 6, 58, 7], [2, 9, 1, 8, 3], [19, 29, 5, 33, 5], [126, 166, 5, 177, 114], [5, 7, 1, 8, 3], [507, 307, 41, 320, 146], [4, 6, 1, 7, 2], [43, 47, 4, 49, 7], [5, 7, 1, 8, 3], [47, 51, 10, 50, 7], [144, 131, 2, 120, 39], [182, 233, 6, 226, 56], [85, 132, 23, 127, 40], [108, 158, 7, 150, 42], [22, 32, 8, 44, 11], [166, 285, 57, 297, 223], [11, 12, 2, 12, 9], [75, 100, 31, 108, 33], [65, 70, 4, 72, 4], [329, 297, 36, 315, 122], [45, 68, 19, 74, 35], [8, 11, 2, 10, 9], [28, 31, 3, 37, 10], [14, 22, 2, 22, 13], [22, 18, 3, 18, 5], [7, 8, 1, 8, 3], [2, 5, 0, 7, 1], [23, 20, 5, 42, 19], [202, 212, 25, 227, 99], [31, 52, 12, 61, 12], [6, 8, 1, 9, 4], [33, 35, 2, 39, 6], [19, 75, 19, 80, 6], [77, 89, 4, 90, 12], [415, 557, 12, 556, 344], [9, 11, 1, 11, 4], [373, 443, 47, 474, 187], [89, 103, 34, 127, 20], [25, 45, 54, 57, 14], [16, 17, 6, 17, 7], [120, 106, 45, 91, 139], [59, 66, 9, 74, 14], [54, 67, 4, 67, 9], [37, 52, 4, 65, 13], [35, 34, 5, 34, 29], [4, 5, 1, 5, 2], [51, 54, 19, 58, 81], [5, 7, 1, 8, 3], [136, 97, 0, 91, 48], [5, 8, 2, 7, 10], [40, 61, 9, 73, 16], [164, 225, 91, 231, 98], [40, 55, 8, 65, 8], [47, 88, 29, 91, 30], [777, 1009, 14, 1017, 644], [17, 26, 1, 25, 8], [37, 36, 4, 42, 13], [22, 24, 2, 24, 6], [8, 10, 1, 10, 4], [3, 7, 1, 11, 1], [60, 63, 21, 75, 52], [17, 16, 6, 17, 29], [38, 54, 6, 49, 10], [45, 52, 5, 54, 6], [22, 22, 2, 22, 5], [24, 21, 3, 21, 20], [98, 119, 10, 134, 35], [78, 100, 16, 96, 16], [98, 110, 17, 112, 11], [33, 52, 8, 63, 14], [94, 109, 11, 111, 13], [44, 38, 4, 45, 27], [39, 49, 4, 52, 18], [4, 4, 1, 3, 2], [29, 30, 3, 48, 11], [123, 155, 21, 145, 3], [48, 76, 2, 76, 67], [59, 71, 12, 66, 14], [6, 8, 1, 9, 4], [11, 29, 10, 29, 20], [3, 2, 1, 2, 2], [20, 34, 17, 37, 15], [155, 235, 39, 224, 62], [7, 29, 8, 44, 5], [28, 33, 3, 41, 7], [39, 57, 12, 64, 3], [53, 49, 4, 51, 7], [79, 90, 4, 94, 29], [35, 27, 8, 23, 47], [33, 56, 6, 68, 13], [29, 51, 4, 63, 10], [33, 54, 1, 60, 12], [43, 74, 8, 74, 7], [58, 163, 13, 164, 41], [86, 95, 12, 95, 13], [8, 9, 1, 9, 4], [7, 9, 1, 8, 3], [175, 232, 32, 224, 54], [48, 52, 4, 54, 4], [21, 31, 7, 43, 10], [47, 81, 3, 91, 19], [66, 92, 30, 96, 38], [95, 154, 24, 167, 53], [75, 104, 9, 119, 26], [61, 60, 7, 66, 52], [224, 288, 61, 289, 162], [13, 15, 7, 15, 26], [122, 158, 2, 140, 3], [27, 31, 5, 32, 3], [25, 35, 2, 35, 19], [49, 96, 22, 115, 28], [46, 67, 24, 79, 27], [6, 8, 1, 9, 4], [12, 17, 4, 16, 27], [29, 41, 13, 50, 5], [20, 18, 2, 17, 11], [5, 7, 1, 8, 3], [62, 67, 11, 67, 10], [32, 34, 5, 57, 10], [19, 27, 8, 27, 16], [155, 258, 4, 267, 155], [7, 9, 1, 8, 3], [17, 19, 7, 21, 29], [2, 4, 1, 5, 0], [52, 122, 13, 122, 5], [281, 441, 165, 444, 188], [151, 168, 36, 178, 34], [100, 96, 36, 108, 63], [10, 10, 4, 13, 14], [39, 69, 10, 76, 20], [243, 191, 98, 208, 76], [24, 20, 3, 20, 11], [9, 26, 0, 38, 1], [60, 163, 17, 182, 22], [46, 34, 6, 34, 41], [159, 270, 20, 285, 114], [19, 31, 7, 41, 10], [272, 292, 54, 302, 58], [145, 191, 19, 191, 26], [8, 13, 0, 12, 3], [118, 125, 6, 117, 23], [10, 12, 4, 12, 19], [9, 15, 3, 16, 21], [4, 5, 1, 5, 2], [38, 39, 3, 45, 14], [2, 2, 3, 1, 3], [64, 69, 14, 95, 18], [10, 17, 4, 21, 11], [4, 5, 1, 5, 2], [295, 708, 195, 686, 162], [1, 0, 0, 0, 1], [18, 21, 6, 21, 34], [108, 163, 2, 175, 109], [6, 8, 1, 8, 4], [50, 53, 3, 52, 11], [5, 6, 1, 6, 3], [14, 15, 5, 15, 25], [97, 105, 6, 105, 15], [65, 77, 13, 77, 22], [29, 33, 3, 34, 5], [198, 215, 75, 226, 139], [16, 17, 4, 17, 21], [43, 62, 4, 69, 10], [1250, 1379, 156, 1400, 601], [37, 39, 0, 43, 4], [36, 57, 5, 65, 18], [31, 42, 5, 41, 5], [2811, 3762, 774, 3383, 391], [126, 135, 10, 136, 14], [8, 10, 1, 10, 4], [32, 42, 6, 44, 5], [21, 41, 3, 44, 6], [40, 38, 2, 42, 16], [69, 76, 10, 78, 8], [41, 46, 5, 48, 7], [62, 109, 15, 118, 21], [62, 74, 19, 83, 18], [57, 58, 5, 60, 7], [48, 61, 19, 65, 76], [582, 532, 37, 538, 258], [272, 292, 54, 302, 58], [71, 83, 5, 83, 2], [20, 25, 2, 24, 12], [145, 192, 34, 189, 34], [25, 28, 3, 28, 7], [137, 441, 77, 443, 142], [8, 10, 1, 10, 4], [5, 7, 1, 8, 3], [8, 10, 1, 10, 4], [42, 60, 10, 71, 17], [31, 44, 8, 67, 17], [18, 18, 2, 18, 4], [27, 34, 3, 53, 9], [41, 39, 4, 39, 4], [14, 11, 5, 11, 22], [49, 83, 15, 91, 32], [39, 15, 27, 15, 28], [57, 60, 21, 60, 24], [33, 55, 8, 66, 15], [14, 15, 4, 32, 12], [3, 2, 1, 2, 2], [42, 39, 4, 39, 5], [3, 3, 1, 2, 1], [14, 25, 1, 24, 4], [33, 38, 3, 48, 10], [40, 32, 15, 32, 50], [44, 273, 8, 293, 114], [38, 63, 11, 75, 19], [18, 18, 6, 19, 28], [7, 13, 2, 12, 1], [42, 53, 7, 53, 3], [188, 205, 9, 217, 113], [20, 34, 17, 37, 15], [53, 91, 0, 103, 32], [93, 104, 19, 106, 15], [7, 9, 4, 12, 14], [26, 58, 4, 79, 11], [7, 13, 2, 12, 1], [43, 67, 7, 71, 7], [264, 312, 36, 312, 81], [10, 8, 16, 7, 32], [64, 65, 8, 67, 7], [13, 17, 3, 28, 7], [68, 105, 55, 114, 66], [121, 161, 48, 165, 58], [31, 48, 6, 56, 8], [57, 69, 5, 82, 16], [0, 0, 0, 0, 1], [10, 11, 1, 11, 4], [34, 43, 10, 50, 6], [46, 68, 9, 65, 3], [41, 50, 3, 50, 9], [130, 147, 44, 137, 169], [11, 15, 6, 15, 10], [214, 275, 60, 277, 160], [64, 90, 34, 89, 45], [144, 159, 32, 168, 28], [55, 58, 10, 67, 18], [135, 127, 25, 121, 128], [52, 46, 4, 46, 41], [47, 71, 4, 65, 9], [49, 57, 9, 83, 11], [72, 108, 8, 110, 28], [31, 48, 12, 50, 26], [161, 185, 12, 202, 35], [37, 76, 8, 95, 10], [251, 497, 134, 493, 222], [21, 33, 4, 39, 8], [10, 17, 4, 21, 11], [12, 13, 4, 30, 10], [67, 77, 21, 67, 86], [2, 2, 0, 2, 0], [56, 65, 3, 68, 10], [22, 42, 10, 50, 3], [29, 42, 5, 49, 10], [89, 95, 6, 95, 14], [24, 27, 7, 26, 33], [44, 58, 4, 75, 24], [10, 12, 3, 13, 8], [175, 366, 10, 378, 481], [72, 86, 11, 93, 92], [67, 112, 15, 121, 24], [60, 76, 13, 86, 19], [17, 16, 6, 26, 20], [10, 10, 4, 13, 14], [5, 6, 1, 6, 3], [45, 48, 3, 47, 10], [20, 23, 1, 22, 13], [79, 190, 121, 225, 61], [80, 53, 14, 52, 61], [23, 38, 10, 45, 10], [15, 13, 2, 14, 11], [15, 18, 1, 18, 6], [106, 160, 7, 152, 43], [40, 51, 6, 57, 6], [483, 141, 1, 147, 116], [13, 23, 2, 21, 2], [38, 147, 6, 166, 31], [7, 8, 1, 8, 3], [352, 567, 66, 555, 155], [2, 2, 0, 4, 1], [39, 33, 6, 33, 42], [50, 135, 79, 161, 32], [10, 22, 2, 24, 6], [26, 23, 1, 23, 9], [54, 67, 4, 67, 9], [17, 28, 3, 34, 3], [110, 114, 12, 116, 14], [72, 113, 17, 123, 31], [81, 106, 12, 120, 19], [114, 363, 3, 367, 81], [122, 323, 18, 309, 51], [64, 83, 11, 84, 13], [70, 89, 33, 99, 26], [16, 19, 6, 20, 28], [21, 32, 6, 39, 11], [19, 21, 9, 19, 35], [57, 53, 10, 62, 19], [11, 14, 4, 15, 23], [34, 57, 6, 73, 12], [6, 8, 1, 9, 4], [167, 204, 21, 197, 38], [55, 56, 7, 73, 17], [5, 7, 1, 8, 3], [255, 317, 88, 338, 182], [19, 15, 3, 15, 4], [10, 11, 1, 11, 4], [76, 142, 10, 122, 17], [16, 14, 0, 14, 6], [34, 45, 13, 46, 15], [140, 166, 18, 163, 44], [102, 159, 36, 173, 22], [7, 9, 1, 9, 3], [129, 147, 46, 139, 171], [37, 51, 1, 65, 16], [200, 178, 74, 192, 52], [705, 843, 184, 851, 460], [35, 32, 3, 31, 31], [37, 40, 2, 57, 7], [1386, 1542, 201, 1577, 707], [27, 29, 0, 37, 8], [16, 29, 2, 37, 5], [15, 34, 9, 45, 8], [18, 20, 8, 21, 35], [289, 537, 78, 536, 201], [95, 158, 23, 165, 52], [299, 321, 30, 329, 97], [80, 85, 27, 84, 79], [82, 106, 12, 116, 28], [35, 76, 8, 95, 10], [38, 56, 3, 68, 11], [72, 131, 21, 149, 22], [56, 73, 20, 80, 7], [14, 17, 3, 17, 9], [49, 91, 30, 94, 28], [53, 138, 78, 169, 47], [46, 76, 3, 70, 4], [31, 42, 13, 51, 5], [34, 38, 14, 42, 14], [5, 6, 1, 6, 3], [731, 217, 574, 229, 394], [53, 37, 5, 37, 42], [117, 125, 18, 131, 82], [20, 17, 3, 17, 18], [6, 11, 2, 14, 13], [2, 19, 4, 29, 1], [4, 4, 1, 4, 2], [11, 13, 2, 13, 6], [5, 7, 2, 5, 6], [173, 273, 71, 287, 87], [246, 245, 44, 234, 17], [28, 34, 8, 36, 15], [79, 92, 14, 90, 11], [4, 5, 1, 5, 2], [97, 137, 6, 135, 4], [63, 79, 3, 79, 6], [31, 53, 52, 65, 14], [33, 38, 8, 40, 15], [12, 11, 5, 14, 18], [62, 59, 7, 56, 59], [17, 15, 4, 15, 26], [731, 212, 577, 224, 394], [5, 7, 1, 8, 3], [154, 203, 28, 223, 47], [29, 37, 2, 39, 6], [241, 203, 55, 198, 222], [20, 26, 6, 26, 12], [111, 114, 17, 117, 12], [25, 33, 4, 41, 6], [88, 95, 13, 95, 15], [26, 24, 4, 23, 27], [34, 39, 3, 37, 30], [42, 56, 8, 54, 9], [11, 17, 3, 19, 20], [5, 7, 1, 7, 3], [54, 96, 28, 106, 56], [59, 64, 5, 66, 6], [15, 20, 3, 24, 20], [81, 136, 13, 144, 96], [103, 127, 11, 116, 27], [389, 523, 382, 497, 291], [12, 20, 2, 24, 4], [10, 11, 8, 14, 24], [22, 35, 4, 42, 5], [47, 51, 3, 68, 18], [286, 314, 23, 328, 93], [7, 9, 1, 9, 4], [17, 40, 39, 50, 19], [111, 133, 5, 133, 7], [11, 15, 5, 21, 6], [13, 16, 3, 14, 6], [27, 37, 7, 44, 11], [162, 189, 23, 198, 51], [42, 50, 3, 50, 10], [5, 5, 1, 9, 3], [36, 38, 3, 44, 14], [7, 9, 6, 10, 22], [75, 145, 16, 161, 46], [16, 29, 11, 37, 4], [13, 18, 3, 19, 2], [54, 96, 29, 101, 15], [107, 101, 0, 89, 45], [22, 62, 6, 68, 15], [15, 25, 1, 25, 10], [63, 64, 14, 86, 19], [11, 15, 5, 21, 6], [59, 52, 6, 52, 43], [172, 299, 41, 349, 46], [11, 11, 1, 10, 2], [228, 276, 24, 312, 55], [5, 7, 1, 7, 3], [60, 67, 6, 85, 18], [33, 52, 8, 64, 13], [106, 55, 64, 67, 90], [3, 7, 1, 11, 1], [39, 43, 5, 45, 7], [16, 15, 3, 15, 18], [10, 11, 5, 12, 21], [71, 75, 20, 96, 16], [210, 351, 47, 334, 122], [112, 126, 38, 121, 3], [14, 19, 2, 27, 5], [112, 113, 18, 119, 82], [8, 13, 1, 13, 3], [4, 5, 3, 6, 11], [31, 37, 1, 36, 5], [4, 6, 1, 7, 2], [12, 8, 2, 8, 6], [18, 18, 5, 18, 7], [134, 146, 44, 136, 171], [39, 46, 4, 49, 18], [28, 32, 2, 40, 7], [249, 376, 252, 353, 157], [45, 28, 6, 28, 38], [27, 28, 7, 56, 29], [75, 85, 5, 105, 10], [355, 374, 103, 358, 115], [34, 54, 3, 67, 11], [48, 68, 16, 75, 7], [28, 32, 8, 43, 12], [181, 290, 13, 302, 152], [95, 116, 16, 115, 10], [40, 46, 6, 49, 13], [123, 113, 3, 107, 43], [6, 8, 1, 9, 4], [36, 46, 13, 45, 56], [89, 130, 0, 132, 124], [10, 13, 2, 17, 4], [5, 6, 1, 6, 3], [9, 11, 1, 11, 5], [5, 6, 1, 6, 3], [9, 9, 1, 10, 4], [55, 84, 7, 77, 3], [100, 96, 36, 108, 63], [31, 22, 7, 22, 36], [49, 55, 18, 59, 86], [53, 49, 7, 49, 53], [11, 13, 2, 12, 4], [7, 30, 3, 32, 2], [32, 84, 73, 102, 42], [32, 23, 9, 21, 31], [124, 134, 20, 135, 22], [61, 67, 0, 67, 1], [7, 12, 2, 13, 15], [23, 20, 2, 19, 9], [76, 81, 13, 81, 9], [13, 14, 2, 16, 6], [57, 60, 13, 50, 64], [31, 44, 34, 40, 71], [30, 46, 2, 53, 11], [16, 20, 3, 22, 3], [16, 19, 3, 21, 1], [27, 23, 1, 23, 9], [81, 99, 10, 108, 20], [16, 24, 7, 23, 36], [69, 81, 8, 81, 6], [67, 75, 8, 77, 7], [18, 16, 4, 18, 14], [66, 96, 3, 96, 22], [31, 48, 8, 50, 18], [14, 17, 9, 15, 30], [20, 37, 2, 40, 9], [38, 26, 7, 26, 32], [6, 6, 1, 11, 4], [45, 84, 23, 88, 2], [48, 48, 5, 50, 1], [53, 70, 6, 89, 16], [44, 54, 8, 83, 9], [8, 10, 1, 10, 4], [4, 6, 1, 6, 2], [9, 16, 3, 17, 20], [36, 50, 10, 60, 7], [17, 13, 4, 13, 4], [24, 23, 2, 23, 5], [20, 30, 3, 34, 1], [46, 53, 6, 49, 41], [5, 7, 1, 8, 3], [71, 75, 5, 70, 53], [36, 35, 3, 35, 14], [31, 36, 6, 35, 29], [47, 88, 29, 91, 30], [282, 313, 123, 331, 184], [106, 59, 2, 67, 52], [6, 8, 2, 9, 1], [20, 19, 2, 18, 8], [43, 59, 3, 73, 14], [124, 232, 84, 229, 109], [74, 85, 4, 106, 10], [135, 150, 20, 162, 19], [87, 92, 23, 106, 105], [54, 59, 7, 58, 7], [34, 30, 8, 27, 37], [76, 82, 5, 84, 16], [7, 7, 1, 8, 5], [35, 43, 3, 47, 10], [31, 44, 8, 48, 18], [69, 73, 12, 75, 16], [11, 22, 2, 23, 2], [27, 22, 1, 22, 9], [103, 178, 39, 199, 49], [5, 7, 1, 8, 3], [147, 172, 20, 170, 45], [36, 55, 10, 56, 7], [161, 184, 27, 182, 35], [5, 6, 1, 6, 3], [57, 101, 26, 103, 27], [45, 65, 14, 77, 19], [3, 3, 1, 2, 1], [38, 52, 27, 66, 9], [90, 96, 12, 96, 16], [14, 15, 2, 23, 5], [7, 9, 3, 10, 7], [98, 106, 5, 105, 9], [107, 371, 61, 373, 122], [12, 17, 7, 16, 29], [67, 70, 1, 73, 6], [32, 50, 0, 59, 7], [38, 44, 13, 44, 57], [42, 64, 9, 76, 16], [185, 144, 114, 138, 243], [68, 103, 55, 109, 55], [118, 139, 28, 137, 31], [86, 160, 11, 162, 83], [13, 16, 3, 23, 4], [89, 108, 9, 130, 16], [58, 78, 50, 88, 36], [136, 142, 7, 145, 14], [166, 300, 16, 314, 20], [30, 32, 3, 50, 10], [45, 71, 4, 67, 7], [101, 103, 35, 122, 74], [107, 185, 42, 204, 48], [95, 127, 3, 135, 20], [136, 142, 7, 145, 14], [48, 57, 3, 79, 22], [337, 403, 78, 403, 163], [26, 29, 10, 33, 42], [28, 31, 0, 39, 8], [29, 30, 3, 48, 10], [17, 17, 0, 18, 3], [191, 250, 8, 227, 5], [19, 23, 7, 22, 33], [12, 14, 4, 14, 22], [5, 7, 1, 10, 3], [7, 13, 2, 12, 1], [360, 303, 84, 276, 310], [4, 5, 1, 5, 2], [101, 106, 25, 108, 45], [45, 54, 10, 54, 3], [181, 197, 14, 200, 15], [104, 88, 16, 98, 96], [30, 37, 5, 37, 2], [36, 46, 11, 51, 17], [34, 48, 4, 65, 13], [66, 79, 5, 77, 6], [485, 146, 1, 152, 116], [24, 31, 4, 31, 15], [7, 9, 1, 9, 4], [87, 99, 25, 96, 126], [58, 65, 9, 65, 7], [63, 89, 24, 101, 30], [57, 69, 5, 82, 16], [19, 18, 5, 18, 26], [8, 8, 1, 8, 5], [26, 28, 5, 28, 7], [22, 62, 5, 68, 15], [9, 10, 1, 10, 3], [874, 514, 0, 520, 468], [177, 372, 10, 384, 481], [83, 89, 15, 98, 30], [78, 85, 4, 86, 10], [6, 8, 1, 9, 4], [39, 103, 6, 119, 11], [16, 12, 4, 11, 25], [62, 71, 14, 62, 75], [557, 961, 126, 962, 351], [46, 46, 7, 45, 8], [74, 104, 11, 114, 15], [7, 8, 1, 7, 2], [66, 71, 15, 73, 21], [31, 36, 3, 35, 29], [106, 59, 2, 67, 52], [23, 20, 5, 42, 19], [76, 124, 17, 132, 21], [62, 68, 6, 85, 17], [69, 89, 6, 83, 3], [6, 7, 1, 8, 4], [78, 99, 20, 104, 49], [17, 15, 0, 15, 7], [31, 37, 4, 60, 13], [50, 51, 2, 53, 7], [50, 59, 6, 55, 42], [25, 36, 5, 35, 26], [118, 125, 6, 117, 23], [5, 7, 2, 5, 6], [89, 116, 5, 112, 14], [40, 36, 5, 53, 35], [213, 260, 43, 249, 11], [5, 6, 1, 6, 3], [15, 22, 2, 23, 2], [263, 615, 142, 617, 297], [118, 125, 6, 117, 23], [24, 25, 6, 25, 26], [20, 28, 5, 37, 8], [170, 172, 5, 172, 33], [13, 16, 3, 14, 6], [96, 91, 13, 101, 11], [124, 183, 74, 183, 86], [12, 11, 5, 14, 14], [117, 279, 13, 284, 36], [4, 5, 1, 6, 2], [146, 177, 39, 171, 44], [13, 17, 3, 28, 7], [15, 21, 1, 21, 9], [21, 29, 8, 52, 20], [431, 336, 158, 319, 121], [15, 15, 1, 14, 3], [45, 46, 3, 48, 7], [8, 14, 2, 12, 3], [268, 359, 122, 346, 125], [196, 223, 32, 218, 30], [498, 672, 257, 663, 672], [70, 76, 16, 76, 15], [40, 51, 9, 56, 11], [19, 16, 3, 16, 18], [28, 33, 3, 41, 7], [90, 166, 48, 195, 29], [52, 76, 6, 72, 8], [24, 18, 1, 18, 11], [46, 57, 38, 54, 37], [117, 138, 20, 129, 3], [49, 101, 28, 105, 3], [38, 36, 4, 40, 12], [5, 7, 1, 8, 3], [171, 174, 15, 176, 25], [122, 137, 21, 138, 25], [39, 64, 14, 71, 13], [29, 43, 28, 40, 59], [4, 6, 0, 12, 1], [166, 416, 107, 379, 57], [10, 11, 1, 11, 4], [4, 5, 1, 5, 2], [280, 308, 60, 308, 35], [53, 77, 0, 87, 39], [45, 53, 6, 49, 40], [46, 57, 38, 54, 37], [12, 12, 0, 12, 1], [24, 20, 1, 20, 6], [5, 7, 1, 7, 3], [5, 7, 1, 6, 1], [51, 57, 10, 57, 11], [17, 15, 4, 15, 24], [34, 32, 6, 26, 31], [50, 104, 9, 106, 32], [45, 62, 9, 70, 12], [22, 15, 6, 16, 23], [205, 232, 32, 228, 29], [5, 7, 1, 8, 3], [227, 295, 103, 299, 145], [27, 30, 7, 30, 7], [29, 31, 3, 34, 7], [30, 31, 3, 49, 10], [78, 97, 15, 94, 11], [10, 12, 1, 11, 4], [111, 107, 18, 111, 82], [228, 221, 14, 218, 27], [5, 7, 1, 8, 3], [72, 88, 10, 90, 95], [8, 14, 3, 15, 19], [165, 204, 26, 202, 22], [32, 36, 0, 50, 6], [46, 52, 4, 54, 7], [101, 103, 11, 102, 43], [38, 49, 13, 49, 61], [29, 48, 2, 59, 5], [6, 8, 1, 8, 3], [6, 10, 2, 11, 10], [69, 86, 14, 84, 5], [31, 37, 1, 36, 5], [34, 35, 10, 36, 50], [38, 25, 4, 25, 37], [42, 43, 3, 43, 19], [426, 581, 132, 583, 286], [67, 70, 18, 71, 1], [34, 33, 3, 51, 10], [7, 8, 1, 8, 3], [45, 58, 3, 59, 14], [18, 33, 4, 31, 30], [72, 87, 8, 97, 15], [37, 43, 5, 44, 1], [31, 33, 3, 51, 9], [73, 80, 12, 86, 21], [21, 42, 9, 47, 9], [48, 78, 6, 93, 28], [173, 200, 88, 219, 78], [7, 11, 4, 16, 13], [5, 8, 3, 9, 11], [77, 93, 23, 91, 7], [43, 54, 16, 51, 81], [5, 7, 3, 8, 13], [91, 107, 34, 118, 53], [32, 32, 7, 56, 12], [60, 159, 11, 165, 42], [152, 175, 23, 201, 47], [17, 26, 5, 35, 25], [26, 35, 7, 40, 8], [14, 15, 0, 15, 3], [62, 44, 14, 43, 60], [75, 118, 10, 117, 29], [44, 52, 7, 53, 3], [14, 14, 2, 25, 10], [44, 57, 8, 84, 23], [9, 10, 1, 10, 4], [26, 16, 6, 17, 24], [15, 20, 4, 20, 27], [20, 35, 4, 39, 4], [19, 29, 3, 33, 1], [4, 6, 0, 12, 1], [69, 75, 7, 78, 7], [120, 136, 15, 134, 17], [46, 73, 7, 88, 27], [6, 8, 1, 8, 3], [40, 52, 8, 49, 61], [17, 40, 39, 50, 19], [887, 1215, 134, 1234, 624], [191, 249, 8, 226, 5], [46, 74, 8, 91, 8], [67, 71, 22, 86, 36], [47, 65, 3, 66, 4], [63, 77, 13, 99, 16], [24, 33, 5, 30, 23], [6, 8, 1, 9, 4], [62, 71, 4, 71, 8], [15, 25, 3, 34, 3], [14, 15, 7, 15, 27], [65, 82, 8, 80, 11], [33, 44, 5, 56, 8], [6, 8, 1, 8, 4], [6, 6, 1, 11, 4], [17, 26, 1, 25, 8], [16, 19, 3, 21, 1], [5, 6, 1, 6, 3], [30, 34, 6, 33, 2], [29, 49, 2, 56, 10], [74, 96, 9, 115, 23], [12, 13, 2, 13, 9], [17, 32, 4, 30, 29], [127, 99, 18, 97, 114], [38, 51, 13, 50, 11], [27, 39, 5, 39, 15], [5, 7, 1, 8, 3], [6, 7, 1, 7, 4], [10, 13, 0, 13, 4], [7, 9, 1, 9, 4], [292, 437, 87, 435, 181], [100, 120, 14, 122, 20], [105, 137, 8, 128, 21], [120, 134, 20, 142, 36], [7, 9, 1, 14, 5], [12, 17, 7, 16, 29], [31, 22, 7, 22, 36], [23, 29, 6, 37, 10], [33, 51, 11, 60, 12], [127, 152, 25, 149, 43], [24, 21, 2, 21, 8], [35, 38, 3, 56, 11], [100, 117, 24, 118, 12], [8, 9, 1, 9, 3], [13, 13, 7, 12, 26], [46, 58, 6, 60, 16], [23, 24, 6, 29, 27], [16, 33, 6, 36, 11], [14, 18, 4, 20, 1], [30, 41, 37, 39, 76], [99, 122, 14, 115, 7], [91, 111, 6, 115, 22], [40, 30, 6, 29, 33], [37, 48, 16, 51, 59], [175, 188, 47, 198, 132], [77, 89, 4, 90, 12], [326, 359, 37, 357, 78], [35, 76, 8, 95, 10], [58, 66, 15, 67, 2], [58, 71, 6, 73, 11], [476, 710, 86, 695, 262], [44, 89, 24, 93, 8], [27, 34, 2, 54, 9], [37, 31, 7, 31, 42], [6, 8, 1, 9, 4], [4, 6, 1, 9, 2], [18, 17, 6, 17, 29], [26, 23, 1, 23, 8], [4, 4, 1, 3, 2], [55, 65, 9, 70, 40], [18, 16, 4, 16, 9], [203, 349, 103, 325, 96], [51, 38, 5, 38, 43], [343, 369, 2, 338, 36], [106, 59, 2, 67, 52], [34, 33, 3, 37, 8], [13, 45, 5, 62, 5], [179, 130, 58, 118, 166], [25, 33, 2, 33, 12], [10, 14, 3, 15, 19], [5, 6, 1, 6, 3], [38, 56, 3, 68, 11], [29, 49, 54, 61, 14], [10, 11, 1, 11, 4], [45, 57, 5, 73, 20], [163, 251, 61, 265, 37], [59, 72, 7, 72, 11], [2411, 3368, 774, 2987, 207], [165, 205, 26, 203, 22], [114, 345, 2, 343, 80], [58, 71, 6, 73, 11], [71, 80, 13, 82, 6], [41, 34, 7, 57, 41], [23, 20, 3, 20, 5], [231, 271, 27, 272, 61], [100, 104, 25, 103, 14], [90, 96, 8, 99, 12], [13, 16, 3, 18, 7], [24, 41, 4, 42, 6], [58, 69, 12, 64, 13], [142, 176, 21, 176, 9], [69, 75, 9, 77, 9], [12, 17, 5, 18, 24], [27, 38, 7, 47, 3], [132, 169, 14, 166, 18], [115, 133, 66, 150, 42], [41, 57, 4, 71, 16], [25, 25, 2, 25, 17], [87, 127, 15, 133, 20], [43, 44, 7, 48, 16], [19, 28, 1, 27, 8], [9, 11, 1, 11, 5], [147, 165, 7, 164, 18], [41, 53, 5, 53, 25], [34, 54, 3, 67, 11], [56, 63, 10, 59, 7], [40, 64, 7, 76, 15], [26, 31, 0, 42, 7], [48, 64, 10, 72, 13], [26, 36, 8, 41, 8], [38, 52, 9, 56, 19], [141, 161, 17, 155, 16], [198, 333, 85, 319, 67], [26, 33, 3, 34, 10], [75, 90, 10, 86, 9], [52, 58, 11, 60, 5], [59, 72, 14, 72, 26], [41, 39, 3, 41, 18], [36, 40, 10, 40, 16], [134, 164, 18, 160, 20], [5, 7, 1, 8, 3], [5, 7, 1, 8, 3], [31, 45, 7, 46, 8], [20, 31, 7, 43, 10], [91, 70, 10, 72, 70], [45, 71, 4, 67, 7], [16, 33, 6, 36, 9], [23, 23, 4, 25, 22], [63, 77, 10, 79, 13], [7, 8, 1, 8, 5], [166, 43, 66, 55, 90], [7, 11, 2, 12, 12], [77, 102, 7, 96, 10], [279, 310, 121, 328, 183], [22, 26, 8, 25, 1], [92, 66, 23, 64, 91], [33, 35, 2, 39, 6], [25, 28, 4, 30, 1], [45, 57, 4, 69, 22], [17, 23, 2, 23, 13], [52, 65, 7, 63, 5], [26, 16, 6, 17, 24], [56, 64, 9, 80, 13], [57, 74, 8, 73, 16], [11, 11, 1, 10, 2], [34, 38, 8, 38, 2], [266, 347, 129, 347, 156], [6, 8, 1, 8, 4], [47, 64, 4, 66, 3], [45, 61, 12, 59, 76], [30, 31, 10, 50, 9], [8, 14, 3, 15, 19], [28, 16, 7, 15, 34], [79, 79, 2, 83, 33], [14, 12, 5, 13, 23], [57, 72, 10, 76, 14], [512, 1355, 316, 1349, 530], [24, 34, 7, 43, 6], [8, 14, 2, 12, 3], [289, 352, 21, 383, 139], [4, 4, 1, 3, 2], [55, 63, 13, 59, 11], [146, 152, 23, 152, 15], [64, 104, 6, 99, 15], [199, 229, 31, 228, 29], [124, 154, 18, 150, 27], [62, 71, 23, 95, 18], [5, 6, 1, 6, 3], [30, 41, 2, 42, 3], [72, 79, 8, 79, 4], [68, 77, 9, 78, 4], [61, 94, 5, 94, 23], [6, 8, 1, 9, 4], [4, 11, 3, 14, 3], [61, 76, 22, 77, 101], [11, 29, 3, 40, 4], [42, 58, 35, 54, 88], [161, 255, 15, 246, 32], [90, 96, 8, 99, 12], [260, 271, 59, 268, 170], [16, 15, 6, 25, 15], [14, 15, 3, 19, 13], [172, 256, 4, 274, 167], [8, 9, 2, 8, 9], [17, 21, 0, 21, 10], [9, 10, 1, 10, 3], [35, 54, 13, 66, 12], [6, 8, 1, 7, 2], [108, 66, 2, 68, 52], [49, 55, 13, 55, 3], [58, 68, 65, 65, 127], [5, 6, 1, 6, 3], [29, 41, 13, 50, 5], [141, 173, 49, 170, 34], [55, 58, 13, 72, 23], [51, 60, 11, 67, 29], [61, 83, 10, 80, 15], [28, 49, 4, 62, 10], [10, 12, 5, 13, 21], [54, 67, 4, 67, 9], [14, 19, 2, 27, 5], [30, 32, 3, 50, 11], [75, 91, 27, 103, 31], [89, 134, 0, 134, 132], [57, 104, 22, 108, 27], [35, 55, 1, 63, 15], [45, 64, 15, 71, 6], [16, 17, 6, 17, 4], [20, 19, 2, 19, 15], [32, 84, 73, 102, 42], [30, 45, 39, 43, 85], [10, 13, 3, 24, 9], [26, 25, 6, 24, 27], [46, 91, 26, 95, 9], [35, 40, 3, 39, 32], [104, 112, 25, 110, 22], [1202, 1330, 203, 1340, 654], [47, 52, 1, 52, 9], [11, 12, 1, 12, 5], [35, 37, 3, 47, 9], [119, 63, 64, 75, 65], [83, 80, 27, 79, 80], [7, 7, 1, 6, 2], [82, 113, 10, 123, 17], [155, 176, 17, 170, 17], [94, 156, 22, 171, 22], [480, 135, 1, 141, 106], [27, 36, 8, 48, 12], [6, 6, 1, 6, 3], [80, 89, 12, 91, 13], [215, 242, 32, 238, 29], [44, 58, 4, 75, 24], [8, 20, 2, 19, 1], [60, 65, 15, 65, 7], [16, 17, 6, 17, 4], [63, 78, 4, 81, 5], [4, 5, 1, 5, 2], [4, 6, 1, 9, 2], [5, 7, 1, 7, 3], [8, 9, 3, 12, 10], [32, 28, 4, 28, 28], [104, 140, 21, 134, 5], [88, 93, 23, 107, 106], [82, 85, 7, 87, 7], [138, 80, 66, 92, 66], [7, 8, 2, 7, 8], [8, 10, 1, 10, 4], [47, 58, 6, 54, 59], [143, 186, 23, 182, 33], [121, 146, 17, 143, 29], [47, 52, 1, 52, 9], [8, 14, 3, 15, 19], [256, 300, 83, 315, 182], [14, 14, 2, 25, 10], [4, 6, 1, 10, 2], [5, 7, 1, 7, 3], [15, 19, 1, 17, 4], [85, 84, 21, 100, 89], [61, 106, 20, 111, 24], [4, 4, 1, 7, 2], [5, 7, 1, 10, 3], [19, 31, 7, 41, 10], [8, 9, 3, 14, 10], [64, 84, 42, 83, 45], [54, 73, 6, 71, 6], [55, 85, 12, 109, 13], [70, 97, 11, 111, 19], [41, 28, 5, 28, 35], [20, 27, 4, 25, 21], [18, 17, 6, 17, 29], [13, 44, 5, 61, 4], [54, 99, 29, 103, 3], [47, 67, 17, 74, 8], [21, 22, 4, 21, 16], [7, 7, 1, 10, 5], [294, 423, 207, 399, 164], [79, 90, 8, 93, 6], [209, 197, 45, 183, 173], [91, 99, 14, 99, 1], [401, 716, 91, 697, 236], [29, 47, 39, 45, 87], [3, 2, 1, 2, 2], [115, 136, 50, 153, 45], [11, 7, 3, 6, 10], [25, 35, 2, 35, 19], [37, 40, 2, 57, 7], [14, 27, 4, 33, 12], [21, 26, 5, 25, 23], [20, 49, 5, 61, 4], [57, 74, 8, 73, 16], [63, 92, 8, 106, 25], [5, 7, 1, 10, 3], [10, 17, 3, 16, 20], [46, 69, 12, 93, 16], [27, 34, 3, 53, 9], [58, 74, 15, 80, 39], [6, 6, 1, 6, 2], [137, 189, 29, 227, 39], [80, 98, 7, 94, 7], [65, 122, 48, 137, 70], [16, 18, 0, 18, 9], [30, 31, 8, 55, 12], [59, 69, 10, 70, 4], [65, 86, 8, 110, 14], [55, 82, 10, 84, 7], [82, 115, 12, 135, 19], [49, 56, 5, 58, 8], [58, 69, 10, 74, 47], [5, 7, 1, 8, 3], [35, 55, 10, 56, 7], [7, 11, 2, 10, 1], [600, 154, 1, 158, 106], [23, 25, 5, 36, 10], [9, 10, 5, 10, 18], [45, 51, 10, 55, 13], [15, 13, 4, 13, 11], [17, 16, 6, 26, 20], [4, 5, 1, 6, 2], [77, 89, 4, 90, 12], [10, 11, 1, 11, 5], [16, 19, 6, 19, 7], [44, 53, 11, 63, 6], [63, 79, 5, 78, 14], [10, 10, 3, 10, 8], [59, 103, 28, 108, 17], [10, 6, 15, 8, 8], [5, 9, 1, 8, 3], [51, 51, 4, 53, 1], [4, 4, 1, 3, 2], [55, 63, 13, 63, 29], [4, 4, 1, 3, 2], [7, 13, 2, 12, 1], [26, 35, 7, 40, 8], [10, 5, 16, 4, 28], [51, 71, 10, 88, 17], [21, 19, 3, 21, 10], [46, 52, 5, 54, 8], [27, 29, 0, 40, 7], [71, 73, 9, 75, 8], [39, 50, 4, 53, 18], [15, 14, 5, 16, 17], [5, 5, 1, 7, 3], [63, 79, 3, 79, 6], [66, 71, 9, 73, 4], [5, 7, 2, 6, 9], [7, 8, 1, 8, 3], [34, 39, 3, 38, 32], [157, 247, 31, 255, 197], [70, 87, 14, 85, 5], [5, 7, 1, 8, 3], [30, 29, 6, 47, 27], [10, 13, 6, 14, 24], [15, 25, 1, 25, 10], [41, 52, 1, 61, 16], [21, 31, 2, 39, 10], [12, 11, 4, 14, 14], [15, 20, 3, 22, 1], [70, 70, 7, 70, 22], [108, 66, 2, 68, 52], [62, 53, 5, 53, 36], [13, 10, 1, 17, 3], [100, 121, 14, 123, 20], [58, 71, 10, 82, 44], [21, 41, 2, 57, 6], [58, 65, 6, 82, 18], [24, 23, 2, 22, 15], [71, 100, 14, 128, 19], [11, 13, 2, 12, 4], [350, 459, 96, 444, 120], [97, 99, 8, 101, 14], [5, 5, 1, 6, 3], [14, 13, 2, 13, 13], [14, 20, 0, 20, 6], [26, 26, 4, 25, 23], [305, 340, 36, 312, 4], [15, 13, 7, 13, 25], [15, 13, 4, 13, 11], [127, 131, 19, 133, 9], [22, 20, 3, 20, 20], [6, 8, 1, 9, 4], [4, 6, 1, 7, 2], [119, 158, 25, 148, 9], [53, 70, 6, 89, 16], [31, 48, 6, 56, 8], [13, 37, 22, 44, 8], [77, 102, 7, 96, 10], [9, 8, 3, 11, 11], [4, 6, 1, 7, 2], [43, 57, 4, 74, 24], [28, 38, 9, 52, 13], [24, 25, 5, 25, 4], [940, 1082, 136, 1094, 474], [52, 76, 6, 72, 8], [21, 35, 9, 43, 8], [27, 40, 5, 37, 31], [4, 4, 1, 3, 2], [30, 35, 9, 54, 9], [29, 38, 7, 49, 10], [5, 5, 1, 10, 3], [26, 48, 3, 53, 7], [72, 131, 21, 149, 22], [205, 429, 110, 426, 195], [60, 130, 6, 130, 31], [86, 110, 12, 124, 20], [5, 7, 1, 7, 3], [21, 27, 4, 27, 32], [247, 249, 44, 238, 17], [34, 33, 11, 37, 11], [64, 75, 5, 78, 3], [86, 106, 6, 123, 21], [44, 47, 4, 49, 6], [52, 64, 16, 61, 81], [21, 32, 7, 42, 1], [95, 128, 15, 168, 26], [25, 40, 8, 51, 21], [28, 44, 2, 54, 14], [8, 12, 3, 13, 17], [916, 469, 0, 472, 468], [188, 143, 114, 137, 245], [36, 44, 5, 69, 11], [43, 50, 7, 47, 9], [4, 4, 1, 3, 2], [100, 78, 10, 80, 83], [124, 135, 13, 138, 20], [3, 3, 1, 5, 1], [50, 77, 14, 105, 14], [49, 78, 4, 80, 9], [7, 9, 1, 9, 3], [27, 38, 7, 47, 3], [143, 291, 83, 269, 75], [51, 52, 3, 52, 18], [107, 62, 2, 64, 52], [35, 52, 0, 61, 8], [40, 82, 22, 85, 2], [72, 86, 11, 93, 92], [12, 13, 4, 30, 10], [208, 123, 117, 121, 222], [3, 3, 1, 3, 1], [32, 34, 4, 51, 11], [169, 151, 14, 147, 118], [60, 130, 6, 130, 31], [2278, 1715, 6, 1715, 121], [65, 73, 10, 79, 21], [8, 9, 3, 16, 10], [15, 20, 3, 24, 22], [41, 42, 2, 48, 16], [14, 19, 1, 19, 10], [26, 47, 2, 47, 4], [27, 39, 2, 53, 14], [9, 15, 3, 16, 21], [19, 15, 4, 15, 25], [22, 43, 34, 41, 77], [88, 115, 31, 116, 42], [26, 27, 7, 26, 31], [38, 38, 12, 38, 24], [65, 75, 8, 74, 7], [37, 29, 7, 25, 46], [63, 69, 8, 71, 7], [13, 12, 1, 19, 3], [9, 9, 3, 10, 10], [20, 19, 2, 18, 8], [30, 33, 3, 34, 1], [22, 20, 3, 20, 20], [115, 99, 3, 93, 43], [37, 44, 16, 54, 6], [58, 58, 15, 48, 68], [118, 119, 13, 121, 16], [8, 6, 2, 5, 8], [32, 40, 7, 39, 23], [65, 71, 8, 73, 7], [35, 49, 5, 66, 11], [31, 36, 3, 34, 27], [121, 145, 17, 142, 29], [10, 12, 3, 14, 16], [47, 53, 3, 70, 19], [5, 8, 2, 7, 10], [49, 45, 3, 43, 38], [4, 6, 1, 7, 2], [204, 308, 73, 313, 53], [18, 20, 6, 20, 33], [40, 45, 7, 50, 7], [4, 4, 1, 3, 2], [31, 31, 5, 31, 26], [212, 256, 43, 247, 11], [20, 31, 7, 43, 10], [23, 34, 7, 42, 6], [26, 39, 7, 41, 12], [431, 765, 242, 766, 465], [31, 41, 3, 41, 3], [2, 5, 1, 6, 1], [122, 144, 14, 144, 20], [73, 80, 22, 79, 1], [8, 9, 2, 8, 9], [124, 157, 26, 177, 58], [7, 9, 1, 8, 2], [5, 6, 1, 6, 3], [35, 57, 7, 77, 11], [52, 83, 8, 77, 13], [4, 4, 1, 3, 2], [37, 44, 16, 54, 6], [17, 14, 6, 15, 27], [24, 16, 1, 16, 9], [76, 78, 36, 84, 34], [105, 137, 8, 128, 21], [20, 29, 2, 37, 10], [20, 16, 6, 17, 24], [5, 5, 1, 5, 2], [251, 417, 96, 393, 104], [21, 21, 3, 20, 5], [11, 15, 5, 21, 6], [9, 11, 1, 10, 4], [148, 161, 14, 158, 31], [7, 7, 1, 10, 5], [21, 20, 9, 18, 35], [3, 9, 1, 8, 3], [106, 149, 41, 159, 103], [19, 21, 9, 19, 35], [17, 15, 0, 15, 5], [55, 58, 10, 61, 4], [70, 76, 7, 77, 9], [8, 14, 3, 15, 19], [98, 106, 26, 104, 15], [34, 43, 28, 40, 59], [21, 32, 8, 44, 11], [54, 46, 16, 47, 49], [5, 6, 1, 6, 3], [31, 48, 3, 61, 11], [59, 68, 20, 68, 4], [181, 197, 14, 200, 15], [14, 14, 6, 16, 19], [8, 11, 2, 10, 9], [182, 194, 7, 171, 11], [137, 208, 4, 217, 151], [4, 5, 3, 6, 9], [26, 26, 4, 25, 23], [7, 9, 1, 9, 3], [23, 20, 5, 42, 19], [167, 127, 112, 127, 230], [23, 35, 5, 35, 25], [755, 848, 87, 853, 347], [11, 16, 4, 15, 26], [762, 1086, 108, 1104, 556], [106, 166, 4, 178, 109], [33, 36, 1, 49, 7], [69, 72, 6, 75, 5], [54, 50, 16, 60, 84], [12, 17, 5, 18, 24], [24, 21, 3, 21, 20], [5, 7, 1, 8, 3], [10, 9, 4, 10, 14], [93, 104, 16, 106, 15], [370, 356, 74, 340, 333], [75, 146, 14, 162, 44], [29, 31, 3, 34, 7], [18, 15, 2, 15, 14], [22, 21, 3, 21, 21], [28, 34, 8, 32, 10], [20, 25, 8, 31, 10], [51, 64, 4, 62, 7], [27, 17, 7, 18, 29], [7, 9, 1, 9, 4], [33, 36, 5, 46, 10], [47, 69, 68, 66, 148], [12, 11, 5, 14, 18], [154, 133, 20, 129, 134], [575, 437, 224, 417, 174], [69, 81, 8, 81, 6], [44, 57, 3, 60, 3], [57, 68, 4, 69, 17], [225, 294, 103, 298, 146], [37, 44, 1, 46, 7], [5, 6, 1, 6, 3], [8, 9, 1, 9, 4], [7, 7, 2, 6, 2], [532, 273, 0, 276, 272], [48, 118, 15, 139, 17], [4, 4, 1, 7, 2], [67, 107, 48, 122, 60], [96, 111, 16, 111, 14], [18, 28, 5, 32, 5], [18, 18, 6, 18, 30], [70, 97, 10, 108, 14], [39, 48, 9, 53, 11], [106, 120, 22, 112, 5], [2057, 1606, 73, 1605, 122], [4, 4, 1, 3, 2], [6, 8, 1, 9, 4], [19, 24, 4, 35, 8], [16, 29, 11, 37, 4], [416, 427, 44, 436, 133], [24, 21, 3, 21, 20], [33, 45, 6, 62, 16], [181, 290, 13, 302, 151], [64, 81, 11, 91, 82], [299, 234, 116, 249, 94], [33, 35, 5, 58, 11], [46, 55, 23, 67, 22], [87, 107, 13, 121, 19], [375, 365, 4, 335, 45], [67, 114, 48, 129, 60], [193, 149, 113, 143, 252], [477, 133, 1, 141, 106], [5, 6, 1, 6, 3], [6, 8, 1, 9, 4], [111, 107, 18, 111, 82], [61, 69, 9, 86, 19], [7, 7, 1, 10, 5], [44, 61, 9, 69, 12], [48, 62, 4, 79, 24], [39, 60, 8, 78, 16], [95, 101, 8, 104, 12], [50, 58, 9, 59, 8], [5, 6, 1, 6, 3], [8, 10, 1, 10, 4], [12, 13, 2, 13, 11], [13, 18, 3, 19, 2], [120, 114, 13, 122, 10], [36, 53, 5, 70, 16], [12, 13, 2, 13, 9], [244, 557, 10, 525, 65], [61, 69, 9, 86, 19], [20, 26, 7, 36, 2], [7, 8, 1, 10, 5], [24, 23, 5, 22, 20], [22, 40, 11, 48, 3], [19, 17, 4, 17, 19], [10, 11, 1, 11, 4], [31, 49, 7, 61, 12], [63, 83, 10, 84, 8], [4, 4, 1, 4, 2], [68, 77, 9, 78, 4], [154, 118, 42, 115, 158], [23, 20, 5, 42, 19], [145, 173, 11, 192, 57], [18, 18, 5, 18, 5], [337, 403, 78, 403, 163], [71, 87, 12, 119, 28], [117, 165, 27, 187, 68], [58, 65, 9, 65, 7], [731, 166, 573, 178, 394], [42, 55, 7, 69, 13], [6, 6, 1, 8, 4], [693, 856, 16, 890, 518], [33, 36, 5, 46, 10], [4, 6, 1, 7, 2], [62, 82, 7, 78, 9], [31, 30, 3, 32, 21], [49, 54, 4, 57, 8], [9, 10, 1, 9, 4], [165, 204, 26, 202, 22], [66, 71, 15, 73, 21], [127, 146, 25, 143, 35], [91, 91, 5, 94, 10], [27, 45, 2, 56, 5], [19, 23, 9, 21, 37], [7, 11, 6, 12, 21], [49, 55, 13, 55, 3], [38, 39, 3, 47, 13], [90, 107, 3, 111, 23], [8, 9, 1, 10, 6], [35, 36, 6, 53, 11], [18, 28, 7, 38, 2], [70, 90, 24, 82, 13], [24, 19, 4, 19, 23], [180, 139, 45, 136, 175], [8, 4, 7, 4, 8], [126, 136, 19, 127, 12], [21, 26, 2, 26, 2], [28, 33, 3, 41, 7], [108, 66, 2, 68, 52], [7, 8, 1, 10, 5], [41, 64, 16, 69, 3], [36, 35, 2, 34, 21], [78, 66, 19, 67, 84], [33, 47, 5, 64, 11], [28, 31, 0, 39, 8], [10, 11, 1, 11, 4], [40, 45, 7, 50, 7], [53, 49, 9, 47, 25], [179, 190, 7, 168, 11], [145, 209, 39, 202, 42], [46, 68, 4, 80, 22], [35, 55, 10, 56, 7], [25, 28, 6, 30, 1], [9, 14, 2, 12, 3], [95, 110, 10, 109, 17], [8, 8, 1, 7, 2], [18, 19, 3, 25, 13], [7, 8, 2, 7, 8], [11, 12, 2, 12, 9], [108, 132, 32, 131, 85], [26, 28, 3, 36, 7], [6, 7, 1, 9, 4], [59, 64, 14, 65, 1], [12, 13, 1, 13, 7], [47, 56, 1, 59, 10], [137, 177, 23, 174, 33], [31, 45, 7, 46, 8], [20, 17, 1, 17, 6], [231, 406, 46, 405, 99], [48, 74, 15, 79, 4], [41, 31, 7, 31, 38], [141, 128, 14, 124, 109], [231, 229, 19, 229, 62], [149, 169, 48, 175, 46], [6, 6, 1, 10, 4], [14, 15, 7, 15, 32], [321, 578, 72, 540, 108], [50, 64, 16, 63, 5], [51, 104, 21, 116, 26], [121, 314, 34, 326, 86], [15, 20, 1, 19, 9], [121, 145, 17, 142, 29], [62, 75, 4, 75, 9], [91, 123, 15, 166, 26], [81, 75, 27, 74, 85], [24, 35, 0, 35, 7], [90, 90, 24, 90, 111], [37, 28, 7, 28, 37], [243, 264, 42, 264, 20], [121, 116, 25, 110, 126], [49, 33, 5, 33, 40], [51, 60, 11, 67, 29], [29, 48, 54, 60, 14], [13, 20, 4, 39, 4], [126, 120, 25, 114, 126], [9, 10, 1, 9, 2], [266, 634, 109, 576, 90], [7, 9, 1, 8, 3], [18, 17, 2, 17, 15], [5, 7, 2, 5, 6], [47, 57, 3, 79, 22], [6, 7, 1, 7, 4], [4, 4, 1, 4, 2], [62, 78, 11, 79, 6], [6, 6, 1, 11, 4], [40, 51, 10, 55, 11], [32, 37, 6, 38, 31], [26, 16, 8, 17, 25], [95, 130, 17, 155, 23], [4, 5, 1, 5, 2], [12, 13, 3, 17, 18], [218, 261, 43, 249, 11], [18, 19, 3, 18, 12], [53, 68, 10, 85, 18], [97, 193, 9, 201, 11], [180, 126, 92, 123, 66], [53, 60, 11, 67, 31], [14, 13, 2, 13, 13], [53, 59, 10, 69, 30], [96, 91, 13, 101, 11], [161, 193, 23, 195, 50], [53, 77, 12, 93, 14], [6, 8, 2, 7, 6], [112, 131, 15, 133, 19], [472, 700, 95, 687, 306], [27, 35, 4, 40, 12], [62, 71, 1, 81, 44], [146, 156, 11, 157, 18], [190, 121, 119, 123, 225], [134, 162, 49, 163, 18], [81, 83, 27, 107, 24], [7, 13, 2, 12, 1], [69, 95, 14, 130, 21], [32, 34, 5, 57, 10], [5, 7, 1, 7, 3], [27, 34, 2, 54, 9], [13, 19, 5, 19, 31], [57, 72, 10, 76, 14], [204, 273, 8, 250, 7], [35, 32, 3, 31, 31], [4, 6, 1, 11, 2], [13, 21, 2, 26, 3], [13, 23, 1, 23, 8], [88, 125, 17, 127, 41], [58, 115, 12, 115, 6], [17, 14, 6, 14, 31], [69, 95, 14, 130, 21], [96, 84, 86, 81, 81], [26, 34, 2, 34, 15], [28, 32, 2, 40, 7], [163, 231, 41, 237, 99], [58, 93, 15, 104, 27], [167, 270, 72, 295, 87], [4, 4, 1, 4, 2], [9, 9, 5, 14, 11], [44, 57, 8, 84, 23], [167, 266, 75, 290, 85], [22, 20, 3, 20, 20], [598, 175, 1, 185, 106], [19, 22, 5, 34, 7], [68, 65, 5, 65, 42], [11, 12, 3, 11, 17], [121, 145, 17, 142, 29], [78, 111, 19, 113, 35], [15, 15, 6, 19, 18], [30, 29, 10, 48, 7], [64, 82, 20, 83, 45], [6, 8, 2, 9, 12], [121, 66, 60, 78, 65], [237, 569, 130, 572, 275], [38, 29, 8, 25, 47], [509, 307, 41, 320, 146], [270, 663, 158, 638, 148], [43, 46, 6, 63, 13], [53, 76, 20, 83, 7], [46, 58, 8, 85, 23], [25, 32, 6, 33, 32], [32, 36, 3, 37, 2], [24, 30, 4, 28, 20], [110, 129, 16, 133, 20], [154, 116, 21, 107, 121], [5, 6, 1, 8, 3], [114, 170, 57, 177, 59], [89, 123, 6, 133, 30], [108, 69, 2, 71, 52], [22, 33, 7, 41, 6], [56, 69, 4, 93, 8], [10, 10, 1, 9, 3], [31, 42, 12, 51, 5], [10, 11, 1, 11, 4], [5, 7, 1, 8, 3], [121, 395, 63, 392, 128], [75, 125, 41, 132, 48], [30, 41, 6, 52, 11], [25, 28, 2, 33, 7], [5, 7, 2, 5, 6], [110, 107, 13, 96, 88], [32, 48, 5, 60, 14], [20, 20, 4, 22, 19], [53, 75, 20, 82, 8], [20, 40, 4, 56, 7], [4, 4, 1, 3, 2], [7, 10, 1, 9, 4], [30, 33, 8, 52, 9], [20, 19, 8, 21, 29], [29, 40, 5, 50, 14], [292, 430, 105, 419, 113], [4, 6, 1, 7, 2], [2051, 1691, 73, 1693, 122], [191, 191, 34, 163, 15], [122, 156, 16, 152, 29], [239, 226, 37, 226, 66], [78, 106, 19, 122, 21], [6, 8, 1, 8, 3], [3, 3, 1, 4, 1], [32, 30, 5, 30, 35], [64, 84, 36, 83, 39], [218, 261, 43, 249, 11], [126, 136, 19, 127, 12], [57, 60, 8, 70, 30], [27, 36, 3, 53, 7], [198, 222, 70, 219, 60], [30, 30, 5, 50, 9], [11, 12, 1, 12, 5], [24, 25, 5, 25, 4], [6, 6, 1, 8, 4], [79, 83, 26, 109, 24], [5, 8, 3, 9, 14], [12, 20, 3, 21, 1], [16, 13, 4, 13, 12], [165, 204, 26, 202, 22], [166, 193, 20, 193, 22], [58, 138, 67, 156, 94], [844, 1190, 121, 1209, 616], [25, 28, 2, 33, 9], [56, 57, 7, 74, 17], [28, 23, 3, 23, 21], [68, 98, 10, 116, 31], [7, 9, 1, 8, 3], [38, 36, 3, 40, 14], [40, 35, 7, 58, 42], [48, 72, 22, 78, 12], [4, 6, 1, 11, 2], [26, 40, 8, 57, 22], [4, 6, 1, 5, 0], [119, 127, 43, 115, 154], [115, 133, 50, 149, 43], [21, 31, 7, 43, 10], [33, 31, 3, 33, 20], [12, 13, 1, 12, 4], [8, 10, 1, 10, 4], [14, 14, 4, 13, 14], [34, 41, 3, 39, 30], [25, 27, 9, 30, 37], [7, 9, 1, 8, 3], [109, 132, 0, 134, 112], [25, 22, 1, 22, 7], [6, 6, 1, 11, 4], [25, 34, 5, 31, 26], [27, 38, 7, 47, 3], [5, 6, 1, 6, 3], [26, 25, 6, 24, 27], [54, 45, 4, 45, 40], [288, 284, 35, 313, 118], [7, 9, 4, 10, 15], [140, 192, 21, 231, 37], [5, 7, 2, 7, 9], [151, 166, 27, 163, 35], [9, 10, 1, 10, 4], [72, 109, 12, 117, 18], [86, 89, 12, 91, 15], [41, 52, 1, 61, 16], [154, 133, 20, 129, 134], [103, 174, 39, 186, 48], [24, 19, 1, 19, 9], [100, 233, 47, 215, 38], [22, 20, 3, 20, 20], [36, 41, 9, 64, 10], [43, 43, 10, 65, 10], [20, 16, 2, 16, 14], [51, 70, 7, 92, 9], [26, 28, 3, 36, 7], [55, 63, 13, 63, 29], [11, 12, 2, 12, 9], [44, 51, 11, 55, 10], [29, 77, 43, 92, 29], [7, 9, 1, 9, 4], [43, 28, 6, 31, 27], [6, 10, 2, 13, 10], [26, 21, 5, 21, 29], [22, 20, 3, 20, 20], [5, 7, 3, 7, 11], [40, 45, 7, 50, 7], [26, 40, 6, 54, 22], [129, 147, 46, 139, 171], [16, 16, 2, 16, 15], [132, 99, 10, 97, 97], [28, 26, 3, 44, 12], [50, 69, 15, 70, 81], [30, 36, 5, 38, 2], [13, 19, 6, 20, 30], [4, 4, 1, 3, 2], [8, 9, 3, 16, 10], [75, 118, 10, 117, 29], [104, 109, 13, 98, 91], [108, 118, 12, 120, 6], [13, 16, 3, 30, 4], [216, 207, 44, 204, 55], [5, 5, 1, 5, 2], [7, 13, 1, 13, 3], [28, 30, 2, 38, 6], [37, 37, 4, 42, 14], [45, 53, 10, 57, 13], [491, 642, 117, 648, 273], [15, 14, 3, 14, 7], [86, 87, 35, 87, 99], [65, 53, 7, 53, 55], [54, 55, 7, 66, 17], [36, 33, 4, 33, 13], [60, 63, 18, 64, 1], [53, 71, 7, 74, 13], [16, 15, 6, 15, 31], [155, 315, 28, 314, 50], [28, 41, 2, 55, 14], [49, 72, 12, 88, 14], [11, 11, 4, 11, 20], [1114, 875, 4, 875, 65], [384, 396, 3, 365, 44], [7, 8, 3, 7, 10], [31, 30, 3, 32, 21], [5, 7, 6, 10, 15], [60, 67, 6, 85, 18], [206, 224, 55, 239, 136], [4, 6, 1, 6, 2], [26, 35, 7, 40, 8], [7, 8, 6, 11, 17], [42, 43, 3, 45, 5], [7, 9, 1, 8, 3], [20, 20, 4, 24, 25], [50, 60, 13, 57, 5], [35, 32, 3, 31, 31], [23, 23, 2, 23, 5], [20, 24, 5, 23, 22], [36, 42, 9, 60, 10], [117, 125, 18, 131, 82], [35, 51, 13, 69, 4], [24, 22, 3, 22, 21], [45, 57, 5, 59, 16], [107, 139, 8, 130, 19], [46, 56, 4, 59, 2], [5, 6, 1, 6, 3], [38, 56, 3, 68, 11], [75, 119, 9, 113, 26], [68, 110, 55, 116, 66], [41, 30, 5, 30, 37], [188, 205, 9, 217, 113], [722, 854, 191, 862, 477], [9, 10, 1, 10, 4], [23, 20, 2, 19, 9], [7, 9, 3, 10, 13], [62, 71, 14, 62, 75], [81, 149, 29, 158, 89], [35, 35, 3, 38, 13], [163, 232, 42, 244, 100], [217, 263, 39, 262, 95], [93, 237, 118, 277, 75], [49, 71, 10, 78, 15], [7, 9, 1, 8, 3], [26, 33, 4, 38, 12], [38, 26, 7, 26, 32], [13, 16, 3, 18, 1], [5, 7, 1, 11, 3], [8, 7, 8, 10, 21], [29, 42, 5, 49, 10], [22, 16, 7, 17, 27], [68, 87, 11, 91, 94], [20, 15, 4, 16, 24], [5, 5, 1, 7, 3], [22, 20, 3, 20, 20], [24, 19, 4, 19, 23], [15, 31, 15, 40, 3], [68, 83, 7, 89, 20], [28, 33, 7, 44, 11], [131, 175, 18, 167, 21], [29, 29, 4, 42, 27], [415, 591, 11, 584, 340], [7, 10, 1, 12, 1], [82, 65, 21, 55, 75], [9, 10, 1, 10, 4], [731, 212, 577, 224, 394], [25, 20, 1, 20, 9], [13, 16, 3, 18, 7], [16, 17, 6, 17, 29], [74, 71, 10, 73, 24], [18, 18, 2, 18, 15], [45, 57, 5, 73, 20], [10, 10, 4, 13, 12], [14, 15, 0, 16, 4], [34, 38, 8, 38, 2], [51, 60, 16, 61, 75], [57, 63, 10, 79, 32], [58, 71, 5, 83, 17], [1096, 1181, 292, 1198, 737], [20, 27, 5, 31, 29], [49, 49, 8, 48, 51], [4, 6, 2, 5, 8], [89, 120, 15, 146, 22], [84, 103, 13, 118, 19], [6, 6, 1, 8, 4], [50, 78, 5, 97, 12], [5, 9, 1, 8, 3], [36, 40, 3, 39, 6], [69, 53, 7, 53, 54], [6, 8, 2, 9, 10], [194, 212, 25, 212, 16], [8, 9, 1, 9, 4], [4, 4, 1, 3, 2], [114, 157, 16, 154, 31], [11, 16, 3, 17, 21], [31, 30, 3, 32, 21], [32, 36, 3, 37, 2], [40, 46, 6, 49, 13], [95, 99, 2, 102, 8], [7, 9, 1, 9, 3], [30, 41, 35, 39, 77], [302, 322, 70, 315, 332], [40, 27, 5, 27, 34], [16, 17, 6, 17, 7], [28, 43, 5, 51, 10], [6, 7, 1, 7, 4], [5, 7, 2, 5, 6], [96, 110, 12, 107, 5], [6, 8, 1, 9, 4], [124, 309, 20, 294, 54], [358, 379, 0, 385, 369], [34, 30, 8, 27, 37], [14, 38, 19, 45, 8], [425, 450, 49, 457, 145], [124, 135, 13, 138, 20], [7, 9, 1, 9, 4], [26, 27, 3, 25, 13], [5, 7, 1, 8, 3], [3, 9, 1, 8, 3], [11, 18, 4, 19, 23], [7, 8, 1, 8, 3], [61, 104, 35, 107, 24], [19, 22, 7, 23, 33], [304, 651, 166, 653, 316], [11, 13, 3, 16, 17], [109, 141, 18, 138, 39], [6, 7, 1, 8, 3], [46, 60, 3, 61, 14], [479, 145, 1, 151, 106], [5, 8, 2, 7, 12], [5, 5, 1, 6, 3], [7, 9, 1, 9, 4], [57, 67, 5, 70, 3], [7, 11, 2, 12, 12], [24, 55, 2, 65, 1], [14, 14, 0, 15, 3], [55, 47, 8, 46, 44], [39, 50, 4, 56, 17], [74, 103, 9, 121, 26], [916, 469, 0, 472, 468], [60, 63, 21, 75, 52], [58, 92, 10, 104, 11], [4, 5, 1, 5, 2], [326, 284, 37, 300, 122], [30, 32, 3, 50, 10], [63, 164, 24, 185, 25], [32, 36, 0, 50, 6], [605, 162, 1, 166, 114], [12, 15, 5, 15, 27], [33, 31, 3, 49, 11], [163, 236, 41, 242, 99], [127, 130, 19, 132, 9], [5, 7, 1, 8, 3], [100, 101, 25, 103, 53], [40, 36, 4, 41, 14], [16, 16, 2, 16, 15], [4, 5, 1, 6, 2], [40, 61, 7, 67, 9], [48, 57, 3, 79, 22], [6, 6, 2, 5, 2], [131, 153, 17, 157, 26], [3, 5, 1, 6, 1], [44, 59, 6, 56, 42], [9, 12, 6, 13, 23], [5, 6, 1, 6, 3], [14, 12, 6, 13, 24], [30, 48, 3, 61, 11], [43, 57, 5, 74, 24], [66, 69, 9, 73, 42], [76, 86, 21, 89, 31], [27, 29, 0, 40, 7], [198, 311, 71, 323, 74], [15, 21, 23, 21, 47], [42, 51, 11, 58, 24], [9, 10, 1, 10, 4], [6, 8, 1, 9, 4], [62, 56, 9, 55, 61], [10, 11, 4, 11, 16], [15, 15, 3, 17, 10], [28, 32, 2, 40, 7], [33, 44, 2, 57, 6], [44, 60, 6, 57, 42], [154, 175, 14, 175, 12], [5, 7, 6, 10, 15], [4, 6, 1, 11, 2], [7, 7, 2, 6, 2], [17, 20, 0, 20, 9], [110, 200, 35, 218, 21], [72, 111, 12, 119, 18], [64, 77, 25, 82, 94], [108, 118, 12, 120, 6], [8, 12, 6, 13, 22], [183, 108, 117, 108, 214], [100, 112, 19, 126, 25], [192, 187, 45, 173, 175], [37, 52, 3, 65, 12], [903, 134, 572, 146, 394], [38, 51, 13, 50, 11], [16, 19, 3, 19, 8], [66, 89, 10, 84, 68], [28, 16, 7, 15, 32], [114, 122, 33, 121, 35], [14, 15, 0, 16, 4], [44, 53, 24, 51, 75], [68, 115, 50, 130, 70], [37, 50, 4, 69, 14], [16, 18, 7, 18, 34], [42, 58, 35, 54, 88], [46, 63, 31, 60, 37], [67, 127, 47, 142, 73], [18, 24, 7, 34, 3], [144, 124, 21, 115, 135], [7, 13, 2, 12, 1], [29, 24, 5, 24, 29], [50, 150, 6, 161, 19], [65, 71, 8, 73, 7], [68, 94, 15, 126, 21], [46, 39, 7, 39, 38], [15, 17, 1, 17, 11], [269, 320, 34, 291, 5], [185, 183, 17, 186, 74], [32, 35, 6, 52, 10], [102, 208, 70, 205, 99], [15, 15, 6, 13, 18], [80, 86, 10, 91, 85], [22, 24, 7, 31, 29], [48, 53, 11, 55, 5], [5, 9, 3, 10, 15], [48, 50, 15, 50, 49], [149, 162, 14, 159, 31], [65, 69, 6, 69, 51], [76, 76, 16, 67, 88], [77, 93, 23, 91, 7], [16, 15, 3, 15, 18], [907, 134, 572, 146, 394], [599, 152, 1, 158, 114], [29, 49, 2, 56, 10], [7, 9, 1, 9, 3], [16, 16, 7, 18, 26], [6, 8, 1, 9, 4], [54, 60, 40, 61, 33], [916, 469, 0, 475, 468], [16, 17, 8, 18, 34], [9, 11, 1, 10, 3], [77, 82, 8, 85, 8], [120, 154, 22, 148, 19], [85, 108, 7, 120, 20], [296, 320, 69, 313, 320], [47, 73, 15, 78, 4], [14, 14, 1, 13, 3], [219, 265, 43, 253, 11], [43, 34, 7, 34, 40], [123, 316, 34, 328, 87], [4, 4, 1, 6, 2], [6, 8, 1, 9, 4], [32, 27, 6, 27, 16], [17, 13, 4, 13, 4], [8, 6, 2, 5, 8], [106, 106, 18, 110, 82], [33, 41, 4, 44, 3], [19, 23, 9, 21, 37], [38, 39, 3, 47, 13], [24, 34, 7, 43, 6], [79, 155, 27, 183, 22], [111, 139, 15, 159, 30], [15, 21, 2, 21, 13], [103, 127, 10, 144, 22], [64, 64, 15, 84, 18], [102, 164, 37, 184, 23], [37, 55, 8, 73, 20], [30, 42, 35, 40, 77], [31, 37, 1, 36, 5], [18, 19, 2, 18, 13], [5, 7, 1, 8, 3], [30, 40, 4, 40, 8], [37, 39, 0, 43, 4], [20, 22, 7, 20, 9], [5, 7, 1, 8, 3], [58, 68, 5, 81, 16], [99, 117, 23, 113, 143], [36, 43, 3, 47, 10], [22, 20, 3, 20, 20], [96, 111, 16, 111, 14], [255, 301, 84, 322, 183], [24, 41, 4, 42, 6], [18, 17, 2, 17, 15], [74, 75, 11, 76, 10], [38, 84, 22, 87, 2], [58, 48, 6, 48, 40], [60, 71, 65, 68, 128], [11, 8, 3, 9, 9], [175, 172, 79, 183, 144], [100, 110, 11, 112, 14], [96, 75, 38, 77, 109], [2268, 1734, 75, 1733, 121], [43, 59, 3, 73, 14], [8, 9, 2, 8, 9], [53, 57, 10, 67, 31], [118, 87, 22, 77, 98], [22, 62, 3, 68, 15], [160, 196, 50, 189, 49], [13, 11, 8, 11, 25], [38, 35, 10, 39, 54], [5, 6, 1, 6, 3], [31, 41, 33, 39, 69], [34, 39, 3, 37, 30], [36, 35, 4, 43, 14], [924, 1056, 131, 1080, 472], [34, 48, 6, 60, 9], [260, 289, 57, 289, 35], [9, 9, 1, 14, 3], [32, 32, 5, 44, 30], [26, 39, 2, 53, 15], [129, 142, 29, 144, 37], [38, 36, 4, 40, 14], [68, 90, 9, 113, 29], [163, 187, 9, 198, 30], [122, 156, 16, 152, 29], [20, 27, 6, 37, 26], [6, 6, 1, 11, 4], [59, 72, 7, 72, 11], [50, 48, 4, 48, 34], [160, 280, 79, 289, 191], [31, 45, 7, 46, 8], [29, 37, 8, 48, 9], [23, 33, 6, 34, 31], [7, 9, 1, 8, 3], [66, 183, 78, 214, 55], [213, 251, 26, 259, 75], [37, 50, 4, 69, 14], [58, 68, 5, 81, 16], [108, 55, 62, 67, 90], [30, 18, 7, 19, 29], [72, 134, 19, 152, 28], [70, 76, 16, 76, 15], [7, 9, 3, 10, 13], [21, 14, 6, 15, 24], [6, 8, 1, 8, 3], [52, 56, 8, 85, 21], [70, 77, 18, 107, 33], [95, 96, 8, 98, 11], [39, 31, 5, 31, 34], [87, 112, 10, 128, 23], [127, 120, 18, 115, 114], [29, 31, 6, 30, 4], [40, 48, 6, 48, 9], [33, 35, 8, 35, 13], [61, 60, 7, 66, 51], [50, 38, 4, 38, 46], [24, 21, 3, 21, 21], [14, 33, 15, 41, 3], [21, 41, 4, 48, 7], [20, 37, 4, 44, 4], [74, 92, 11, 102, 92], [66, 95, 9, 99, 17], [47, 65, 3, 64, 4], [39, 30, 6, 30, 39], [216, 207, 44, 204, 55], [10, 11, 1, 11, 4], [58, 71, 5, 83, 17], [110, 106, 0, 100, 48], [16, 21, 0, 22, 4], [96, 112, 15, 112, 14], [32, 33, 12, 38, 15], [14, 17, 4, 22, 3], [68, 192, 79, 223, 52], [32, 33, 12, 38, 15], [112, 131, 15, 133, 20], [6, 6, 1, 6, 2], [89, 135, 0, 137, 132], [89, 123, 6, 133, 30], [26, 19, 5, 18, 27], [70, 71, 7, 69, 36], [57, 139, 65, 157, 83], [20, 21, 6, 20, 28], [56, 74, 9, 91, 17], [14, 15, 3, 14, 12], [240, 267, 22, 276, 71], [185, 147, 19, 149, 29], [7, 9, 1, 14, 5], [23, 28, 2, 27, 13], [7, 9, 6, 10, 22], [5, 7, 1, 8, 3], [5, 7, 1, 8, 3], [27, 27, 9, 30, 37], [37, 44, 4, 44, 18], [25, 28, 9, 31, 40], [4, 6, 1, 7, 2], [11, 16, 3, 14, 5], [117, 125, 18, 131, 82], [147, 165, 7, 164, 18], [15, 15, 7, 15, 27], [252, 506, 144, 506, 278], [246, 556, 10, 527, 65], [35, 45, 4, 69, 13], [2, 4, 1, 5, 0], [39, 40, 3, 46, 14], [16, 22, 3, 24, 7], [6, 8, 1, 9, 4], [236, 571, 97, 538, 104], [18, 24, 7, 34, 3], [29, 37, 2, 39, 6], [50, 51, 3, 53, 5], [64, 67, 16, 99, 16], [470, 491, 119, 491, 85], [768, 1086, 111, 1102, 576], [23, 20, 2, 19, 9], [30, 41, 4, 41, 8], [24, 20, 3, 20, 12], [12, 13, 4, 13, 20], [45, 50, 15, 51, 1], [483, 153, 1, 161, 116], [27, 21, 4, 26, 34], [99, 103, 23, 100, 54], [108, 132, 32, 131, 85], [37, 44, 16, 54, 6], [26, 22, 3, 21, 18], [63, 92, 8, 106, 25], [19, 17, 1, 17, 7], [43, 57, 4, 74, 24], [49, 91, 26, 95, 10], [191, 191, 34, 163, 15], [35, 25, 5, 36, 30], [31, 44, 10, 60, 23], [6, 8, 2, 9, 12], [171, 275, 75, 298, 85], [78, 95, 18, 98, 49], [47, 42, 5, 42, 13], [217, 259, 39, 258, 95], [55, 84, 7, 77, 3], [28, 33, 3, 41, 7], [64, 84, 36, 83, 39], [57, 68, 4, 69, 17], [266, 371, 129, 371, 162], [73, 96, 9, 115, 22], [6, 7, 1, 9, 4], [30, 42, 35, 40, 78], [138, 148, 130, 145, 133], [5, 8, 2, 6, 7], [23, 27, 2, 26, 13], [8, 12, 6, 13, 22], [233, 578, 96, 540, 100], [108, 136, 16, 161, 30], [27, 27, 5, 27, 13], [164, 259, 15, 250, 32], [75, 118, 10, 117, 29], [60, 65, 6, 62, 67], [59, 71, 65, 68, 126], [4, 11, 3, 14, 3], [33, 51, 13, 57, 1], [57, 114, 10, 118, 30], [11, 13, 5, 14, 25], [123, 155, 21, 145, 3], [37, 29, 7, 25, 46], [44, 42, 12, 39, 24], [41, 39, 3, 39, 19], [15, 20, 4, 20, 27], [23, 20, 2, 19, 9], [24, 20, 1, 20, 6], [577, 146, 1, 150, 106], [108, 131, 1, 131, 59], [9, 11, 1, 11, 5], [43, 46, 6, 63, 13], [20, 22, 2, 21, 12], [4, 6, 1, 7, 2], [76, 104, 9, 122, 21], [230, 247, 18, 256, 59], [62, 71, 4, 71, 8], [29, 51, 4, 63, 10], [28, 23, 4, 23, 25], [82, 113, 18, 124, 21], [67, 105, 37, 108, 25], [7, 8, 1, 10, 5], [4, 6, 1, 7, 2], [16, 22, 3, 24, 7], [26, 28, 3, 36, 9], [45, 71, 4, 67, 7], [13, 20, 4, 39, 5], [35, 54, 12, 60, 1], [8, 10, 1, 10, 4], [45, 28, 6, 28, 38], [56, 64, 9, 80, 13], [5, 7, 2, 5, 6], [112, 130, 49, 141, 44], [365, 379, 4, 347, 42], [31, 41, 6, 52, 12], [7, 13, 2, 12, 1], [47, 46, 3, 46, 16], [5, 7, 1, 8, 3], [66, 74, 5, 76, 11], [38, 42, 1, 45, 5], [7, 6, 3, 6, 11], [7, 8, 1, 7, 2], [10, 12, 3, 14, 16], [14, 14, 4, 13, 26], [11, 18, 4, 19, 23], [45, 54, 8, 83, 11], [50, 63, 8, 85, 8], [3, 7, 1, 11, 1], [5, 7, 1, 8, 3], [5, 7, 2, 6, 9], [48, 65, 12, 69, 20], [77, 113, 10, 117, 31], [83, 75, 35, 75, 101], [8, 6, 2, 5, 8], [182, 233, 6, 226, 56], [43, 33, 8, 32, 39], [28, 30, 2, 38, 6], [50, 50, 3, 49, 10], [16, 19, 6, 19, 7], [212, 248, 43, 237, 11], [6, 10, 2, 11, 12], [21, 33, 4, 39, 8], [56, 70, 10, 97, 14], [20, 23, 4, 26, 2], [12, 13, 2, 13, 11], [263, 204, 55, 199, 215], [151, 248, 4, 263, 164], [532, 273, 0, 276, 272], [397, 189, 162, 186, 120], [5, 7, 1, 8, 3], [23, 15, 7, 16, 26], [191, 465, 26, 451, 82], [86, 106, 52, 107, 57], [167, 297, 11, 305, 20], [68, 66, 5, 65, 47], [28, 32, 2, 40, 7], [70, 70, 36, 73, 33], [25, 22, 5, 22, 29], [31, 40, 7, 45, 6], [85, 104, 50, 107, 57], [34, 36, 6, 49, 9], [13, 16, 3, 18, 7], [333, 513, 21, 530, 301], [75, 119, 9, 113, 26], [40, 59, 14, 67, 11], [12, 11, 4, 14, 13], [47, 56, 13, 60, 8], [218, 291, 18, 297, 42], [37, 33, 3, 32, 30], [18, 22, 4, 21, 20], [63, 66, 11, 99, 16], [170, 279, 72, 303, 87], [48, 65, 12, 69, 20], [77, 84, 22, 80, 100], [89, 81, 22, 71, 90], [51, 132, 79, 158, 43], [11, 8, 15, 7, 30], [81, 75, 27, 74, 85], [14, 14, 2, 25, 10], [37, 29, 7, 29, 37], [51, 60, 11, 67, 29], [20, 21, 7, 22, 32], [14, 15, 4, 32, 12], [4, 5, 1, 5, 2], [30, 31, 3, 49, 10], [143, 120, 67, 126, 141], [4, 4, 1, 7, 2], [36, 58, 7, 70, 19], [27, 37, 2, 46, 8], [903, 139, 571, 151, 394], [30, 37, 5, 34, 34], [37, 28, 7, 28, 37], [4, 4, 1, 3, 2], [292, 304, 120, 310, 126], [127, 103, 13, 101, 89], [8, 10, 1, 10, 4], [27, 47, 4, 60, 10], [106, 59, 2, 67, 52], [364, 945, 193, 947, 692], [69, 53, 5, 51, 61], [21, 22, 7, 29, 26], [35, 27, 8, 24, 35], [111, 85, 28, 85, 116], [175, 232, 32, 224, 54], [12, 17, 7, 16, 29], [4, 4, 1, 3, 2], [29, 21, 8, 20, 29], [70, 89, 4, 83, 7], [20, 20, 2, 20, 16], [62, 104, 25, 108, 18], [140, 266, 34, 257, 75], [7, 9, 1, 9, 4], [50, 63, 7, 77, 24], [92, 123, 5, 118, 16], [27, 36, 3, 53, 7], [6, 8, 1, 9, 4], [18, 17, 6, 25, 18], [118, 152, 2, 164, 84], [482, 368, 173, 357, 136], [51, 132, 78, 158, 46], [86, 102, 6, 119, 19], [47, 52, 11, 81, 17], [54, 68, 5, 67, 11], [45, 69, 8, 93, 17], [4, 4, 1, 4, 2], [53, 61, 7, 61, 11], [28, 23, 4, 23, 25], [102, 204, 72, 201, 102], [5, 7, 1, 8, 3], [193, 170, 20, 166, 129], [132, 310, 8, 301, 36], [22, 22, 2, 30, 11], [14, 22, 2, 22, 13], [58, 65, 6, 82, 18], [23, 28, 6, 30, 3], [127, 146, 25, 143, 35], [157, 174, 17, 175, 28], [30, 23, 4, 23, 28], [7, 9, 1, 8, 3], [8, 6, 2, 5, 8], [215, 396, 62, 380, 45], [21, 27, 6, 35, 11], [164, 302, 59, 280, 56], [10, 12, 4, 11, 20], [106, 104, 18, 108, 82], [77, 87, 19, 88, 2], [59, 72, 7, 72, 11], [17, 16, 6, 26, 20], [25, 34, 5, 31, 26], [17, 16, 6, 26, 20], [17, 26, 1, 25, 8], [6, 8, 1, 7, 2], [10, 14, 3, 25, 10], [41, 64, 16, 69, 3], [51, 63, 7, 81, 9], [230, 280, 66, 281, 193], [125, 160, 27, 183, 62], [61, 66, 5, 68, 6], [16, 25, 3, 23, 4], [581, 107, 1, 111, 106], [104, 93, 13, 91, 92], [470, 491, 119, 491, 86], [28, 45, 12, 53, 3], [18, 24, 7, 34, 3], [29, 48, 54, 60, 14], [31, 37, 1, 36, 5], [24, 20, 1, 20, 6], [10, 12, 1, 11, 3], [5, 7, 1, 11, 3], [44, 67, 5, 80, 15], [9, 9, 3, 8, 12], [7, 9, 4, 10, 15], [74, 88, 15, 86, 19], [56, 66, 9, 66, 13], [141, 111, 14, 107, 106], [7, 7, 1, 7, 3], [46, 64, 10, 75, 16], [35, 41, 6, 43, 5], [561, 1433, 308, 1428, 540], [6, 6, 1, 9, 4], [34, 33, 3, 51, 11], [53, 70, 6, 89, 16], [62, 44, 14, 43, 60], [305, 326, 71, 311, 325], [22, 34, 1, 38, 7], [27, 27, 3, 46, 10], [14, 14, 2, 25, 10], [4, 4, 1, 3, 2], [15, 40, 19, 47, 4], [35, 56, 0, 61, 14], [244, 403, 117, 380, 105], [15, 20, 1, 19, 9], [5, 7, 2, 5, 6], [16, 22, 3, 24, 7], [80, 102, 15, 101, 14], [173, 165, 15, 165, 41], [17, 15, 4, 15, 26], [32, 42, 4, 42, 6], [14, 15, 7, 15, 32], [74, 85, 4, 106, 10], [54, 66, 5, 65, 7], [6, 11, 2, 14, 13], [15, 18, 5, 18, 28], [252, 300, 29, 305, 90], [37, 35, 11, 42, 55], [42, 47, 4, 49, 5], [173, 130, 112, 132, 228], [68, 86, 11, 90, 93], [268, 253, 59, 250, 209], [105, 79, 13, 77, 85], [4, 6, 2, 6, 8], [30, 44, 6, 54, 12], [50, 62, 12, 62, 14], [4, 10, 1, 9, 4], [69, 81, 8, 81, 6], [35, 28, 7, 28, 36], [14, 13, 5, 16, 16], [26, 35, 7, 40, 8], [102, 112, 25, 110, 20], [24, 34, 7, 43, 6], [23, 19, 7, 20, 30], [30, 26, 5, 26, 15], [55, 62, 10, 88, 11], [4, 5, 1, 9, 3], [83, 83, 5, 78, 53], [64, 65, 10, 68, 44], [55, 56, 7, 73, 17], [10, 11, 10, 14, 24], [20, 22, 2, 21, 13], [16, 15, 2, 15, 13], [5, 5, 1, 9, 3], [12, 17, 4, 17, 21], [333, 513, 21, 530, 300], [41, 55, 1, 63, 17], [14, 14, 4, 13, 14], [36, 35, 11, 39, 13], [8, 10, 1, 10, 4], [678, 500, 264, 485, 210], [143, 186, 23, 182, 33], [13, 20, 5, 38, 5], [8, 9, 3, 9, 15], [7, 8, 1, 7, 3], [18, 18, 4, 18, 10], [169, 131, 111, 131, 231], [215, 242, 31, 238, 29], [46, 60, 3, 61, 14], [8, 10, 2, 9, 12], [20, 25, 2, 24, 12], [71, 90, 9, 84, 4], [14, 17, 7, 16, 28], [62, 75, 4, 75, 9], [36, 36, 3, 46, 9], [60, 61, 12, 81, 18], [12, 18, 4, 18, 22], [33, 36, 5, 46, 10], [365, 379, 3, 347, 42], [106, 59, 2, 67, 52], [53, 70, 6, 89, 16], [24, 21, 3, 21, 20], [10, 10, 8, 13, 23], [26, 54, 55, 66, 18], [57, 68, 4, 69, 17], [48, 67, 11, 84, 18], [153, 160, 26, 157, 134], [75, 117, 2, 119, 106], [27, 29, 0, 40, 7], [62, 78, 16, 78, 9], [37, 44, 16, 54, 6], [298, 327, 73, 321, 320], [6, 9, 3, 11, 13], [18, 17, 6, 17, 29], [92, 80, 30, 80, 95], [132, 171, 14, 168, 18], [30, 31, 3, 49, 10], [33, 35, 4, 52, 11], [196, 267, 8, 243, 5], [66, 77, 12, 83, 19], [600, 157, 1, 161, 106], [12, 12, 0, 12, 1], [12, 12, 0, 12, 1], [28, 32, 2, 40, 7], [22, 31, 9, 54, 21], [69, 91, 23, 88, 109], [38, 53, 27, 67, 9], [8, 9, 1, 10, 5], [45, 28, 6, 28, 38], [95, 105, 20, 124, 20], [23, 20, 1, 20, 7], [36, 50, 1, 59, 14], [19, 26, 5, 38, 10], [17, 14, 6, 15, 27], [35, 28, 6, 28, 39], [83, 94, 10, 93, 11], [57, 73, 17, 62, 82], [72, 100, 10, 110, 14], [24, 21, 3, 21, 21], [83, 114, 10, 124, 17], [52, 43, 6, 43, 40], [4, 5, 1, 5, 2], [10, 13, 3, 24, 9], [40, 56, 14, 59, 9], [257, 221, 95, 235, 68], [94, 98, 17, 103, 12], [25, 35, 2, 35, 19], [48, 65, 12, 69, 20], [49, 49, 8, 48, 51], [241, 276, 35, 305, 84], [56, 74, 8, 91, 22], [37, 36, 4, 36, 12], [123, 159, 9, 163, 30], [10, 14, 3, 15, 17], [11, 14, 3, 16, 17], [11, 16, 3, 14, 5], [111, 162, 57, 169, 66], [7, 9, 4, 10, 15], [8, 10, 1, 9, 4], [6, 7, 3, 7, 11], [4, 4, 1, 3, 2], [16, 16, 3, 16, 5], [95, 98, 10, 101, 7], [30, 41, 2, 50, 6], [11, 16, 3, 17, 21], [89, 134, 0, 134, 132], [7, 9, 1, 14, 5], [9, 9, 1, 10, 3], [6, 8, 1, 9, 4], [129, 157, 34, 151, 193], [14, 17, 3, 15, 7], [31, 43, 6, 53, 13], [19, 22, 5, 34, 7], [6, 7, 1, 9, 4], [7, 9, 3, 10, 13], [59, 58, 13, 78, 18], [12, 12, 4, 21, 14], [75, 57, 16, 54, 71], [4, 5, 1, 5, 2], [71, 91, 23, 83, 5], [30, 28, 5, 46, 26], [75, 83, 11, 85, 4], [5, 7, 1, 8, 3], [168, 197, 12, 213, 38], [49, 58, 9, 84, 12], [664, 724, 0, 730, 678], [59, 72, 7, 72, 11], [198, 226, 70, 223, 60], [27, 36, 8, 48, 14], [79, 90, 8, 93, 6], [69, 72, 6, 75, 5], [56, 69, 4, 93, 8], [13, 11, 6, 11, 23], [28, 32, 2, 40, 7], [8, 8, 2, 9, 8], [5, 6, 1, 6, 3], [33, 51, 0, 60, 7], [7, 13, 2, 12, 1], [33, 30, 7, 53, 37], [51, 97, 30, 100, 29], [48, 78, 6, 93, 28], [26, 27, 7, 26, 30], [81, 98, 10, 112, 20], [115, 122, 13, 123, 8], [13, 37, 22, 44, 8], [105, 79, 13, 77, 85], [4, 6, 1, 7, 2], [21, 31, 6, 40, 3], [17, 14, 0, 14, 5], [19, 28, 4, 34, 6], [5, 7, 1, 8, 3], [548, 940, 108, 941, 347], [5, 9, 3, 16, 9], [40, 48, 6, 48, 9], [23, 34, 7, 42, 6], [148, 132, 18, 127, 114], [12, 16, 5, 16, 24], [7, 8, 1, 10, 5], [131, 175, 18, 167, 21], [112, 113, 18, 119, 82], [95, 101, 8, 104, 12], [47, 52, 1, 55, 12], [40, 46, 6, 49, 13], [153, 224, 86, 231, 99], [27, 29, 0, 40, 7], [14, 14, 8, 19, 27], [71, 50, 14, 49, 57], [212, 244, 31, 253, 71], [73, 79, 12, 85, 15], [90, 104, 7, 103, 10], [64, 81, 11, 91, 82], [85, 101, 50, 104, 57], [30, 32, 3, 50, 10], [5, 5, 1, 7, 3], [28, 31, 5, 54, 12], [27, 36, 8, 48, 14], [38, 46, 9, 51, 10], [62, 53, 5, 53, 36], [91, 109, 8, 132, 16], [31, 36, 3, 35, 28], [30, 41, 5, 51, 14], [55, 63, 10, 63, 3], [37, 36, 4, 53, 11], [56, 66, 9, 66, 13], [16, 15, 2, 15, 13], [26, 21, 5, 21, 29], [2262, 1729, 75, 1729, 121], [1223, 1327, 206, 1344, 651], [38, 39, 3, 47, 15], [17, 12, 5, 12, 25], [37, 37, 2, 41, 16], [11, 14, 4, 15, 23], [7, 8, 3, 8, 13], [12, 16, 4, 16, 20], [6, 6, 1, 8, 4], [5, 7, 2, 5, 6], [57, 74, 10, 78, 16], [143, 186, 23, 182, 33], [24, 30, 4, 28, 20], [7, 7, 1, 10, 5], [149, 162, 14, 159, 31], [132, 169, 14, 166, 18], [5, 8, 3, 9, 11], [51, 79, 10, 94, 16], [13, 11, 0, 19, 3], [792, 1083, 119, 1099, 586], [14, 15, 6, 21, 17], [28, 36, 2, 54, 6], [6, 7, 3, 7, 11], [14, 13, 3, 13, 6], [573, 146, 1, 152, 106], [28, 36, 10, 50, 15], [12, 13, 2, 13, 11], [65, 73, 7, 69, 41], [58, 55, 5, 55, 38], [90, 90, 24, 90, 111], [35, 38, 4, 43, 5], [82, 85, 13, 86, 6], [43, 52, 9, 62, 26], [80, 102, 15, 101, 14], [40, 45, 7, 50, 7], [57, 74, 8, 73, 16], [13, 18, 3, 22, 23], [8, 12, 3, 12, 18], [5, 6, 1, 6, 3], [8, 10, 1, 9, 2], [51, 60, 11, 67, 29], [25, 35, 2, 35, 19], [211, 257, 43, 245, 11], [17, 14, 6, 15, 21], [113, 142, 11, 132, 19], [35, 30, 8, 27, 35], [147, 165, 7, 164, 18], [50, 57, 12, 86, 22], [87, 92, 22, 103, 104], [58, 136, 63, 154, 83], [49, 65, 4, 59, 12], [72, 240, 7, 245, 25], [56, 70, 5, 88, 8], [263, 199, 55, 194, 210], [349, 489, 143, 477, 148], [23, 30, 4, 28, 24], [5, 8, 3, 9, 11], [100, 129, 32, 141, 42], [4, 4, 1, 4, 2], [32, 52, 4, 47, 7], [18, 21, 5, 21, 9], [2268, 1734, 75, 1733, 121], [59, 83, 7, 88, 13], [5, 7, 2, 5, 6], [36, 30, 6, 30, 39], [32, 21, 9, 19, 29], [38, 35, 4, 41, 8], [42, 57, 10, 69, 17], [29, 41, 36, 39, 79], [35, 40, 3, 38, 30], [23, 29, 4, 29, 34], [112, 109, 0, 103, 48], [18, 14, 4, 14, 6], [35, 48, 6, 64, 10], [12, 11, 4, 14, 13], [15, 22, 2, 24, 2], [75, 82, 11, 84, 4], [16, 15, 6, 15, 27], [573, 153, 1, 157, 106], [62, 52, 5, 52, 62], [50, 69, 11, 86, 18], [95, 117, 16, 116, 10], [44, 60, 7, 70, 13], [5, 7, 1, 8, 3], [22, 33, 7, 41, 6], [20, 26, 7, 36, 2], [45, 68, 4, 79, 20], [47, 68, 23, 76, 19], [42, 47, 4, 49, 5], [26, 23, 1, 23, 8], [83, 77, 27, 76, 77], [62, 75, 4, 75, 9], [68, 105, 55, 111, 55], [56, 68, 9, 76, 40], [8, 12, 3, 13, 17], [35, 55, 1, 60, 14], [32, 42, 34, 38, 69], [36, 36, 3, 46, 9], [100, 178, 38, 193, 48], [62, 82, 22, 83, 108], [210, 253, 43, 241, 11], [151, 166, 27, 163, 35], [17, 16, 6, 17, 29], [145, 192, 34, 189, 34], [17, 27, 7, 37, 2], [34, 42, 1, 42, 9], [163, 240, 68, 234, 45], [32, 40, 6, 40, 10], [24, 21, 3, 21, 20], [8, 11, 3, 18, 10], [23, 27, 2, 26, 13], [112, 121, 7, 113, 11], [269, 320, 34, 291, 4], [54, 78, 13, 94, 12], [146, 466, 102, 434, 59], [15, 13, 4, 13, 11], [4, 5, 2, 4, 7], [10, 16, 3, 15, 19], [13, 21, 2, 26, 3], [7, 8, 1, 8, 3], [57, 76, 9, 93, 17], [32, 34, 4, 51, 11], [26, 28, 3, 36, 9], [22, 20, 3, 20, 20], [35, 37, 3, 43, 14], [56, 65, 8, 74, 46], [123, 311, 100, 296, 42], [120, 150, 13, 191, 27], [171, 204, 88, 224, 82], [94, 97, 10, 100, 7], [133, 155, 19, 159, 26], [146, 156, 11, 157, 18], [23, 23, 4, 22, 19], [13, 18, 3, 21, 18], [735, 185, 565, 197, 394], [94, 157, 27, 170, 21], [51, 70, 7, 92, 9], [163, 228, 44, 240, 99], [54, 55, 4, 53, 6], [66, 183, 78, 214, 55], [25, 24, 6, 29, 26], [904, 147, 566, 159, 394], [32, 52, 6, 59, 13], [67, 109, 48, 124, 62], [8, 11, 1, 10, 4], [25, 36, 5, 35, 26], [41, 58, 35, 54, 88], [65, 119, 32, 123, 23], [43, 54, 8, 53, 19], [76, 105, 9, 123, 24], [382, 359, 4, 331, 38], [15, 14, 3, 14, 5], [16, 13, 6, 13, 26], [16, 16, 6, 16, 27], [138, 109, 19, 109, 114], [69, 74, 18, 90, 19], [14, 14, 0, 15, 3], [60, 70, 65, 67, 127], [32, 37, 3, 35, 27], [538, 1384, 317, 1377, 513], [8, 9, 8, 12, 23], [14, 14, 0, 15, 3], [31, 47, 11, 46, 15], [7, 11, 2, 10, 1], [62, 68, 6, 85, 17], [91, 66, 19, 67, 85], [44, 53, 26, 51, 78], [22, 20, 3, 20, 20], [154, 177, 21, 191, 47], [5, 6, 1, 6, 3], [11, 14, 4, 16, 23], [7, 9, 1, 9, 4], [23, 44, 55, 56, 14], [27, 29, 0, 40, 7], [13, 13, 8, 12, 27], [17, 29, 4, 35, 5], [15, 18, 5, 17, 29], [50, 112, 6, 116, 31], [252, 291, 35, 299, 86], [12, 12, 0, 12, 1], [13, 20, 4, 39, 5], [5, 7, 1, 8, 3], [48, 59, 11, 59, 13], [354, 374, 2, 344, 37], [31, 28, 6, 28, 14], [48, 64, 10, 72, 13], [51, 56, 8, 73, 15], [30, 46, 39, 44, 86], [19, 23, 7, 22, 33], [14, 14, 4, 13, 14], [8, 12, 2, 11, 12], [76, 89, 15, 89, 18], [20, 18, 2, 17, 11], [61, 63, 2, 67, 54], [48, 72, 13, 94, 12], [20, 27, 5, 31, 29], [34, 28, 9, 25, 37], [29, 29, 4, 36, 24], [22, 20, 3, 20, 20], [359, 583, 63, 571, 219], [49, 44, 4, 44, 31], [34, 45, 2, 53, 8], [9, 11, 1, 11, 5], [34, 52, 12, 58, 1], [180, 223, 29, 246, 68], [5, 7, 1, 6, 1], [4, 6, 1, 7, 2], [15, 39, 19, 46, 4], [8, 13, 2, 14, 1], [24, 55, 2, 65, 1], [39, 48, 9, 53, 11], [51, 67, 5, 87, 15], [42, 56, 11, 68, 16], [14, 13, 3, 13, 6], [15, 21, 2, 21, 14], [74, 85, 4, 106, 10], [131, 157, 34, 151, 191], [20, 34, 3, 43, 5], [365, 379, 3, 347, 42], [57, 67, 3, 78, 51], [53, 60, 11, 67, 31], [30, 40, 4, 40, 8], [221, 307, 122, 304, 80], [43, 47, 11, 48, 63], [27, 27, 3, 46, 10], [12, 13, 2, 13, 11], [35, 27, 8, 23, 47], [31, 31, 5, 31, 26], [22, 23, 3, 35, 4], [71, 73, 6, 73, 49], [48, 63, 9, 84, 12], [62, 65, 14, 91, 18], [5, 6, 1, 6, 3], [20, 49, 5, 61, 4], [98, 124, 8, 141, 23], [37, 44, 1, 46, 7], [72, 92, 15, 84, 8], [132, 169, 14, 166, 18], [10, 11, 1, 12, 2], [49, 63, 4, 64, 17], [10, 13, 3, 24, 9], [31, 42, 5, 50, 12], [44, 56, 13, 74, 7], [4, 4, 1, 4, 2], [37, 58, 7, 70, 19], [28, 28, 2, 47, 10], [58, 74, 5, 86, 14], [11, 14, 4, 15, 19], [11, 8, 3, 9, 9], [28, 31, 5, 54, 12], [69, 48, 5, 46, 60], [24, 21, 3, 21, 20], [52, 56, 8, 85, 21], [1088, 1173, 160, 1187, 545], [6, 8, 1, 8, 3], [69, 74, 10, 79, 74], [47, 58, 6, 54, 59], [344, 481, 107, 478, 111], [25, 20, 3, 20, 20], [169, 279, 71, 297, 86], [5, 7, 1, 8, 3], [29, 47, 39, 45, 87], [17, 21, 9, 19, 33], [10, 14, 3, 25, 10], [56, 59, 7, 65, 45], [161, 273, 19, 288, 115], [101, 103, 11, 102, 43], [31, 33, 3, 51, 9], [61, 82, 8, 109, 14], [7, 9, 4, 10, 15], [14, 15, 2, 23, 5], [27, 28, 7, 56, 29], [4, 4, 1, 4, 2], [147, 106, 94, 114, 168], [118, 125, 43, 113, 152], [605, 159, 1, 163, 114], [384, 396, 3, 365, 44], [99, 132, 8, 124, 21], [487, 142, 1, 150, 116], [57, 54, 8, 71, 13], [81, 101, 30, 98, 18], [17, 20, 5, 19, 31], [46, 58, 9, 86, 9], [366, 382, 74, 366, 338], [138, 148, 130, 145, 133], [19, 26, 5, 38, 10], [16, 14, 6, 13, 21], [10, 13, 3, 24, 9], [79, 97, 17, 101, 20], [48, 74, 15, 79, 4], [29, 48, 3, 61, 11], [37, 40, 2, 57, 7], [28, 36, 2, 54, 6], [165, 156, 20, 152, 129], [28, 36, 2, 54, 6], [36, 54, 11, 61, 4], [374, 458, 30, 490, 185], [55, 62, 10, 88, 11], [5, 8, 1, 10, 4], [132, 99, 9, 97, 96], [374, 429, 123, 450, 303], [16, 17, 6, 25, 17], [48, 72, 22, 78, 12], [34, 48, 15, 57, 3], [79, 64, 15, 60, 77], [48, 61, 17, 64, 74], [5, 5, 1, 8, 3], [50, 51, 11, 86, 20], [173, 234, 25, 227, 54], [101, 207, 70, 204, 99], [57, 74, 8, 73, 16], [28, 22, 6, 16, 28], [148, 161, 14, 158, 31], [28, 38, 9, 52, 13], [84, 91, 28, 90, 1], [24, 20, 1, 20, 6], [69, 68, 5, 67, 48], [808, 898, 88, 897, 369], [48, 68, 11, 85, 18], [15, 24, 1, 24, 13], [70, 90, 24, 82, 10], [12, 14, 4, 14, 22], [46, 55, 11, 67, 25], [45, 52, 5, 54, 6], [173, 165, 15, 165, 42], [192, 171, 90, 168, 69], [6, 7, 1, 9, 4], [6, 6, 1, 6, 2], [77, 102, 7, 96, 10], [7, 8, 1, 8, 5], [5, 5, 1, 9, 3], [4, 5, 3, 6, 11], [24, 20, 1, 20, 6], [10, 9, 9, 9, 23], [120, 154, 16, 150, 31], [13, 20, 4, 39, 4], [28, 51, 4, 63, 9], [32, 29, 7, 52, 36], [38, 25, 5, 25, 31], [55, 60, 7, 69, 28], [20, 30, 3, 38, 10], [9, 16, 3, 17, 20], [305, 340, 36, 312, 4], [7, 9, 1, 9, 4], [664, 723, 0, 726, 678], [8, 10, 1, 10, 5], [20, 19, 2, 18, 8], [29, 40, 5, 50, 14], [24, 23, 2, 22, 15], [165, 204, 26, 202, 22], [38, 52, 6, 54, 57], [22, 62, 6, 68, 15], [6, 7, 1, 9, 4], [7, 8, 1, 8, 5], [26, 22, 3, 21, 18], [18, 17, 6, 17, 29], [75, 103, 12, 117, 20], [87, 119, 11, 129, 18], [5, 6, 1, 6, 3], [117, 171, 28, 190, 68], [71, 90, 9, 84, 4], [30, 40, 4, 40, 8], [878, 1176, 139, 1195, 647], [10, 14, 3, 18, 18], [2, 9, 1, 8, 3], [18, 17, 0, 17, 7], [24, 34, 8, 57, 22], [120, 150, 13, 191, 27], [11, 15, 5, 21, 6], [27, 37, 2, 46, 8], [305, 340, 36, 312, 4], [765, 1105, 130, 1122, 576], [8, 9, 1, 8, 2], [209, 192, 45, 178, 168], [54, 44, 5, 43, 37], [64, 76, 15, 95, 23], [18, 26, 7, 36, 1], [8, 10, 1, 9, 3], [79, 133, 41, 140, 45], [96, 111, 16, 111, 14], [58, 92, 10, 104, 11], [10, 10, 4, 13, 14], [36, 41, 9, 64, 10], [50, 70, 11, 87, 18], [33, 24, 6, 24, 36], [28, 31, 0, 39, 8], [32, 27, 5, 27, 32], [24, 34, 5, 33, 24], [8, 12, 3, 13, 17], [20, 27, 5, 31, 29], [26, 35, 7, 40, 8], [183, 51, 66, 63, 66], [62, 74, 5, 85, 9], [140, 127, 1, 109, 36], [122, 93, 19, 92, 106], [10, 10, 4, 13, 14], [12, 14, 1, 13, 4], [26, 25, 1, 25, 10], [89, 92, 22, 103, 104], [19, 16, 2, 15, 11], [424, 227, 168, 224, 127], [78, 101, 14, 104, 49], [26, 40, 6, 54, 22], [29, 44, 5, 50, 11], [8, 13, 3, 17, 18], [10, 6, 15, 8, 8], [24, 33, 1, 33, 13], [14, 13, 5, 16, 16], [30, 29, 10, 48, 7], [20, 27, 7, 28, 39], [20, 17, 1, 17, 6], [29, 52, 52, 64, 14], [83, 115, 11, 125, 18], [195, 348, 79, 328, 66], [44, 37, 7, 60, 39], [11, 20, 3, 19, 1], [35, 23, 7, 23, 33], [7, 8, 1, 10, 5], [13, 20, 4, 39, 5], [30, 31, 3, 49, 10], [22, 26, 4, 25, 21], [27, 31, 8, 42, 15], [25, 25, 2, 25, 17], [8, 14, 1, 13, 4], [19, 17, 5, 16, 18], [41, 55, 7, 69, 13], [29, 32, 2, 38, 11], [18, 25, 7, 26, 37], [32, 50, 8, 62, 11], [127, 99, 18, 97, 114], [22, 29, 6, 30, 28], [6, 8, 1, 7, 2], [37, 41, 4, 49, 13], [60, 65, 6, 67, 5], [148, 127, 9, 125, 100], [33, 44, 2, 57, 6], [74, 240, 7, 245, 25], [7, 7, 1, 8, 5], [28, 41, 33, 38, 73], [9, 11, 5, 13, 20], [13, 16, 2, 24, 5], [54, 55, 7, 66, 17], [310, 484, 74, 472, 220], [581, 163, 1, 175, 106], [38, 27, 5, 27, 35], [31, 22, 7, 22, 36], [20, 19, 4, 23, 22], [10, 12, 3, 14, 14], [64, 83, 11, 84, 13], [5, 6, 1, 8, 3], [125, 119, 18, 114, 115], [52, 154, 7, 171, 20], [8, 10, 1, 10, 4], [213, 280, 43, 271, 11], [15, 14, 7, 16, 24], [205, 232, 31, 228, 29], [192, 185, 45, 171, 173], [13, 37, 22, 44, 8], [29, 39, 0, 46, 13], [10, 12, 1, 11, 4], [41, 56, 0, 64, 17], [106, 166, 4, 178, 109], [424, 362, 52, 362, 43], [24, 21, 3, 21, 20], [5, 5, 1, 10, 3], [25, 21, 7, 25, 24], [35, 27, 8, 23, 47], [2409, 3362, 772, 2981, 398], [23, 23, 4, 22, 19], [59, 76, 8, 93, 23], [66, 74, 17, 90, 19], [40, 49, 4, 59, 6], [44, 45, 3, 43, 36], [28, 38, 0, 45, 13], [39, 36, 4, 41, 15], [61, 66, 5, 68, 6], [48, 74, 15, 79, 4], [15, 20, 3, 24, 22], [84, 99, 25, 96, 125], [57, 54, 6, 51, 48], [26, 27, 7, 26, 32], [4, 7, 1, 6, 1], [99, 115, 23, 111, 140], [17, 20, 7, 26, 8], [86, 120, 17, 126, 99], [8, 9, 3, 16, 10], [26, 22, 4, 22, 25], [53, 66, 8, 83, 12], [159, 272, 19, 287, 115], [167, 160, 26, 157, 128], [111, 107, 18, 111, 82], [51, 56, 8, 73, 15], [47, 56, 12, 66, 27], [44, 59, 4, 78, 10], [83, 76, 35, 76, 102], [8, 12, 3, 13, 17], [32, 51, 7, 63, 12], [8, 12, 3, 13, 17], [264, 184, 25, 202, 73], [2787, 3734, 580, 3354, 197], [29, 25, 1, 28, 10], [141, 177, 49, 174, 34], [29, 34, 6, 34, 7], [26, 47, 3, 52, 7], [35, 37, 3, 47, 9], [355, 576, 98, 564, 152], [55, 58, 13, 72, 19], [10, 13, 1, 12, 3], [18, 21, 8, 23, 31], [68, 139, 24, 162, 15], [52, 56, 8, 85, 21], [82, 66, 21, 56, 76], [108, 132, 1, 132, 58], [355, 166, 0, 168, 135], [27, 29, 0, 40, 7], [84, 92, 125, 89, 217], [31, 45, 28, 42, 61], [4, 6, 2, 5, 8], [25, 22, 5, 22, 29], [16, 12, 2, 12, 12], [118, 313, 20, 299, 51], [20, 19, 2, 19, 15], [77, 80, 24, 104, 24], [43, 41, 4, 41, 31], [23, 19, 1, 19, 9], [37, 55, 1, 68, 17], [43, 40, 3, 40, 20], [10, 14, 1, 13, 1], [30, 23, 2, 23, 11], [140, 171, 33, 165, 196], [104, 73, 2, 75, 51], [14, 16, 7, 16, 33], [59, 56, 9, 65, 19], [75, 85, 5, 105, 10], [62, 82, 7, 78, 9], [84, 72, 21, 68, 86], [68, 78, 11, 87, 48], [3, 3, 1, 5, 1], [168, 250, 4, 268, 162], [36, 35, 11, 39, 11], [16, 24, 4, 22, 25], [182, 177, 26, 174, 132], [24, 21, 3, 21, 20], [18, 21, 6, 24, 27], [161, 254, 62, 274, 38], [95, 130, 17, 155, 23], [14, 25, 7, 35, 1], [29, 43, 2, 53, 14], [62, 104, 25, 108, 18], [60, 92, 9, 115, 28], [69, 144, 25, 161, 16], [6, 7, 1, 7, 2], [12, 12, 0, 12, 1], [3, 9, 1, 8, 3], [53, 59, 14, 60, 86], [12, 10, 4, 11, 13], [12, 17, 4, 17, 21], [18, 29, 6, 39, 2], [38, 41, 3, 59, 11], [63, 66, 11, 99, 16], [31, 42, 12, 51, 5], [38, 38, 3, 56, 10], [16, 16, 6, 16, 28], [35, 62, 13, 69, 2], [13, 14, 6, 14, 25], [29, 28, 4, 27, 25], [6, 8, 1, 7, 2], [49, 56, 10, 88, 11], [17, 23, 2, 23, 14], [32, 32, 4, 39, 28], [44, 53, 12, 57, 8], [335, 483, 53, 466, 163], [43, 67, 6, 76, 16], [5, 9, 1, 8, 3], [2057, 1606, 73, 1605, 122], [74, 88, 15, 86, 19], [140, 107, 21, 98, 121], [247, 368, 48, 370, 70], [5, 6, 1, 6, 3], [6, 8, 1, 9, 4], [51, 75, 12, 91, 14], [72, 90, 15, 82, 10], [268, 244, 59, 241, 200], [191, 150, 93, 147, 68], [20, 19, 4, 21, 21], [16, 20, 6, 20, 33], [7, 8, 1, 8, 3], [144, 131, 69, 138, 147], [558, 717, 136, 723, 320], [134, 168, 58, 170, 22], [47, 69, 23, 75, 3], [109, 132, 19, 125, 19], [34, 48, 15, 57, 3], [317, 415, 158, 399, 165], [49, 30, 8, 31, 39], [218, 240, 18, 244, 66], [35, 41, 6, 43, 5], [425, 205, 193, 202, 126], [14, 15, 7, 17, 24], [62, 82, 7, 78, 9], [5, 9, 1, 8, 3], [36, 44, 5, 69, 12], [21, 35, 9, 43, 8], [46, 69, 5, 82, 15], [131, 174, 18, 166, 21], [128, 143, 6, 142, 14], [10, 11, 1, 11, 5], [369, 371, 44, 360, 121], [24, 55, 2, 65, 3], [24, 24, 4, 23, 18], [5, 6, 2, 6, 8], [14, 23, 3, 24, 19], [24, 55, 2, 65, 3], [11, 16, 4, 16, 25], [15, 14, 5, 17, 17], [28, 25, 3, 24, 20], [12, 13, 3, 12, 10], [20, 39, 8, 47, 4], [32, 31, 11, 40, 12], [49, 101, 28, 105, 3], [7, 11, 2, 10, 1], [80, 74, 10, 75, 27], [8, 12, 3, 12, 18], [28, 32, 2, 40, 7], [15, 21, 4, 21, 25], [103, 108, 13, 97, 93], [126, 137, 13, 139, 19], [8, 9, 1, 9, 3], [43, 38, 3, 37, 32], [384, 396, 3, 365, 44], [35, 53, 12, 59, 1], [44, 50, 10, 54, 14], [14, 20, 3, 37, 10], [119, 127, 10, 130, 17], [9, 15, 3, 16, 21], [58, 54, 9, 63, 19], [18, 18, 2, 18, 15], [51, 81, 13, 88, 13], [20, 22, 2, 21, 13], [30, 45, 39, 43, 85], [69, 91, 10, 112, 30], [158, 183, 10, 188, 38], [50, 63, 8, 85, 8], [237, 183, 55, 178, 211], [30, 45, 39, 43, 85], [41, 48, 3, 65, 20], [68, 101, 9, 107, 32], [714, 229, 548, 241, 394], [58, 65, 9, 81, 14], [97, 114, 16, 114, 14], [132, 117, 45, 106, 142], [83, 111, 11, 125, 22], [43, 55, 5, 72, 22], [131, 175, 18, 167, 21], [17, 22, 2, 22, 13], [39, 58, 12, 65, 3], [424, 362, 52, 362, 43], [10, 14, 3, 15, 19], [76, 88, 5, 83, 13], [11, 13, 1, 12, 3], [7, 9, 1, 8, 3], [104, 145, 16, 149, 81], [664, 519, 258, 502, 201], [8, 14, 3, 15, 19], [107, 103, 0, 91, 45], [97, 113, 18, 118, 12], [76, 78, 36, 77, 27], [22, 26, 5, 37, 9], [9, 12, 4, 21, 14], [343, 360, 2, 329, 48], [534, 419, 41, 415, 145], [112, 200, 35, 212, 21], [95, 88, 28, 84, 107], [4, 4, 1, 3, 2], [36, 45, 3, 70, 11], [37, 45, 8, 48, 4], [154, 294, 65, 273, 57], [51, 55, 5, 54, 47], [6, 7, 1, 7, 4], [42, 47, 4, 49, 5], [6, 7, 1, 7, 4], [9, 9, 4, 9, 17], [6, 10, 2, 11, 10], [143, 173, 11, 192, 57], [20, 22, 4, 21, 29], [4, 4, 1, 6, 2], [7, 8, 1, 8, 3], [30, 29, 10, 48, 7], [24, 20, 1, 20, 6], [750, 553, 257, 567, 246], [31, 25, 2, 25, 10], [20, 17, 5, 17, 25], [229, 280, 19, 304, 57], [158, 359, 101, 378, 271], [8, 6, 2, 5, 8], [22, 37, 12, 45, 4], [112, 151, 19, 169, 34], [7, 7, 1, 8, 5], [18, 14, 4, 14, 6], [13, 37, 22, 44, 5], [10, 11, 1, 11, 4], [16, 18, 4, 17, 30], [5, 7, 3, 8, 11], [20, 31, 9, 49, 22], [28, 24, 4, 24, 26], [5, 7, 1, 8, 3], [22, 20, 3, 20, 20], [22, 33, 2, 41, 9], [26, 22, 3, 21, 18], [101, 207, 70, 204, 99], [32, 35, 4, 52, 11], [441, 1105, 215, 1097, 751], [96, 76, 15, 79, 84], [119, 62, 64, 74, 65], [64, 83, 11, 84, 13], [16, 13, 7, 13, 26], [29, 43, 2, 53, 14], [128, 110, 9, 108, 95], [164, 270, 71, 289, 86], [288, 344, 34, 374, 141], [52, 37, 4, 37, 36], [5, 8, 1, 10, 4], [82, 79, 22, 75, 92], [5, 6, 1, 6, 3], [155, 207, 28, 227, 47], [20, 19, 6, 18, 28], [6, 8, 2, 9, 12], [24, 21, 2, 21, 8], [12, 16, 5, 16, 24], [43, 57, 4, 74, 24], [39, 51, 3, 57, 17], [67, 78, 10, 83, 80], [20, 18, 2, 17, 11], [20, 33, 3, 42, 5], [6, 10, 2, 11, 12], [23, 33, 9, 56, 21], [2, 9, 1, 8, 3], [136, 151, 20, 163, 20], [5, 7, 1, 11, 3], [132, 169, 14, 166, 18], [147, 223, 5, 241, 113], [57, 103, 22, 107, 27], [39, 100, 75, 108, 46], [17, 26, 4, 29, 28], [102, 129, 16, 152, 23], [114, 132, 15, 144, 33], [47, 59, 4, 60, 17], [108, 132, 34, 131, 85], [31, 42, 5, 50, 12], [411, 445, 39, 458, 143], [21, 31, 2, 39, 10], [112, 97, 2, 84, 40], [11, 12, 5, 13, 20], [40, 50, 9, 83, 25], [29, 49, 53, 61, 14], [29, 51, 2, 52, 6], [1600, 1982, 347, 1983, 1039], [9, 11, 3, 12, 7], [42, 63, 8, 81, 16], [25, 33, 1, 33, 13], [23, 21, 2, 20, 9], [231, 529, 118, 525, 248], [2052, 1602, 73, 1602, 121], [55, 68, 4, 90, 8], [30, 31, 3, 49, 11], [177, 553, 163, 523, 102], [2227, 2665, 429, 2672, 1269], [104, 153, 12, 155, 81], [28, 25, 6, 48, 25], [8, 9, 1, 9, 4], [189, 261, 46, 287, 160], [70, 85, 10, 107, 15], [9, 11, 4, 12, 18], [70, 139, 24, 156, 15], [8, 10, 1, 10, 2], [14, 14, 2, 25, 10], [532, 273, 0, 276, 272], [13, 12, 7, 12, 25], [94, 95, 27, 90, 120], [24, 21, 4, 34, 19], [29, 49, 53, 61, 14], [14, 14, 0, 15, 3], [27, 29, 0, 40, 7], [849, 1212, 166, 1233, 637], [334, 512, 22, 531, 300], [16, 12, 2, 12, 12], [42, 47, 4, 49, 5], [46, 54, 9, 64, 30], [121, 145, 17, 142, 29], [22, 33, 2, 41, 9], [4, 6, 2, 5, 8], [136, 151, 44, 141, 178], [916, 469, 0, 475, 468], [69, 76, 17, 103, 23], [72, 86, 11, 100, 19], [13, 14, 6, 14, 25], [42, 65, 24, 71, 3], [5, 6, 1, 6, 3], [126, 125, 25, 119, 128], [15, 15, 3, 17, 10], [112, 203, 39, 228, 20], [27, 31, 8, 42, 13], [32, 37, 3, 36, 28], [21, 19, 6, 20, 25], [145, 177, 12, 202, 58], [34, 25, 4, 25, 28], [15, 27, 1, 26, 4], [5, 5, 1, 10, 2], [7, 9, 3, 10, 13], [51, 136, 79, 167, 47], [61, 76, 22, 77, 101], [24, 21, 3, 21, 21], [46, 91, 29, 94, 29], [8, 9, 3, 12, 10], [79, 93, 7, 88, 8], [12, 16, 5, 17, 27], [39, 81, 20, 84, 2], [55, 71, 3, 71, 6], [36, 54, 0, 63, 7], [7, 11, 6, 12, 21], [17, 13, 8, 14, 24], [155, 280, 58, 270, 42], [35, 60, 14, 69, 11], [5, 5, 1, 6, 3], [237, 551, 10, 519, 66], [38, 25, 4, 25, 37], [55, 73, 8, 90, 21], [43, 52, 6, 49, 42], [58, 69, 10, 74, 47], [8, 9, 1, 9, 4], [45, 64, 10, 75, 15], [38, 58, 9, 66, 2], [317, 295, 87, 280, 317], [251, 410, 103, 385, 105], [60, 69, 2, 71, 7], [23, 25, 6, 30, 28], [23, 24, 7, 23, 31], [59, 62, 3, 68, 43], [3, 5, 1, 6, 1], [12, 12, 0, 12, 1], [106, 141, 13, 131, 16], [78, 100, 40, 103, 49], [107, 123, 34, 123, 82], [781, 664, 274, 659, 286], [29, 39, 0, 46, 13], [902, 135, 570, 147, 394], [22, 20, 3, 20, 20], [142, 172, 33, 166, 195], [9, 10, 1, 10, 4], [28, 38, 0, 45, 13], [280, 668, 170, 650, 152], [7, 8, 2, 7, 8], [28, 25, 3, 24, 20], [135, 274, 20, 273, 62], [36, 37, 4, 54, 11], [58, 79, 6, 85, 11], [12, 11, 4, 20, 14], [8, 14, 2, 12, 3], [7, 13, 2, 12, 1], [54, 55, 4, 53, 6], [95, 99, 2, 102, 8], [125, 180, 75, 186, 87], [30, 46, 39, 44, 86], [80, 80, 27, 79, 89], [46, 70, 13, 78, 11], [396, 506, 150, 483, 150], [161, 168, 26, 165, 134], [4, 10, 1, 9, 4], [20, 17, 2, 17, 15], [61, 70, 23, 94, 27], [62, 75, 4, 75, 9], [32, 35, 6, 34, 31], [39, 68, 24, 73, 4], [52, 51, 4, 50, 43], [58, 67, 15, 83, 38], [484, 136, 1, 146, 106], [29, 20, 7, 19, 37], [32, 36, 3, 37, 2], [151, 465, 79, 462, 148], [66, 134, 9, 134, 30], [78, 64, 18, 55, 69], [83, 74, 35, 74, 100], [80, 82, 25, 106, 22], [28, 26, 3, 44, 13], [13, 37, 22, 44, 8], [217, 259, 39, 258, 94], [29, 48, 3, 61, 11], [8, 12, 3, 12, 18], [78, 85, 4, 86, 10], [70, 89, 25, 81, 13], [400, 391, 224, 393, 258], [8, 9, 3, 14, 10], [12, 13, 3, 17, 18], [5, 6, 1, 6, 3], [7, 9, 1, 14, 5], [13, 23, 3, 24, 19], [18, 16, 0, 16, 6], [27, 30, 0, 38, 8], [51, 60, 11, 67, 29], [78, 108, 11, 118, 15], [115, 122, 13, 123, 8], [181, 52, 66, 64, 66], [48, 40, 15, 40, 54], [133, 167, 29, 185, 58], [28, 33, 7, 44, 11], [17, 32, 4, 30, 29], [66, 79, 5, 77, 6], [5, 7, 3, 8, 13], [38, 39, 4, 63, 9], [283, 445, 73, 433, 175], [16, 22, 3, 24, 7], [8, 8, 2, 9, 8], [189, 308, 13, 320, 159], [115, 118, 17, 120, 8], [28, 30, 9, 33, 40], [74, 88, 15, 86, 19], [120, 63, 64, 75, 66], [18, 28, 6, 38, 2], [27, 43, 5, 51, 12], [5, 8, 2, 7, 12], [16, 13, 4, 13, 12], [9, 9, 2, 8, 10], [6, 7, 1, 6, 2], [28, 31, 5, 54, 12], [82, 85, 13, 86, 6], [52, 76, 6, 72, 8], [7, 8, 1, 8, 3], [5, 5, 1, 5, 3], [7, 7, 1, 10, 5], [30, 48, 3, 61, 11], [164, 301, 60, 278, 56], [8, 11, 2, 10, 9], [9, 11, 3, 12, 17], [81, 78, 10, 79, 24], [77, 81, 8, 84, 8], [6, 7, 1, 7, 4], [7, 13, 1, 14, 3], [50, 51, 11, 86, 20], [22, 22, 4, 21, 16], [169, 191, 11, 201, 31], [37, 46, 10, 53, 11], [85, 108, 50, 111, 57], [28, 44, 2, 54, 14], [5, 9, 3, 10, 12], [8, 14, 1, 13, 4], [526, 1233, 363, 1217, 756], [90, 66, 19, 67, 85], [18, 18, 2, 18, 15], [32, 37, 3, 36, 29], [28, 30, 2, 38, 6], [28, 26, 3, 44, 13], [56, 66, 12, 93, 17], [58, 71, 10, 82, 44], [399, 715, 82, 696, 236], [6, 7, 1, 7, 4], [7, 7, 1, 10, 5], [5, 7, 1, 8, 3], [128, 111, 13, 109, 96], [48, 59, 13, 56, 74], [12, 13, 4, 30, 10], [4, 4, 1, 7, 2], [31, 42, 12, 51, 5], [100, 120, 14, 122, 20], [25, 31, 6, 32, 31], [66, 71, 15, 73, 21], [54, 56, 9, 65, 18], [28, 55, 4, 68, 13], [28, 31, 3, 49, 13], [64, 84, 11, 94, 84], [238, 281, 36, 286, 89], [85, 99, 11, 94, 92], [81, 99, 25, 98, 162], [19, 17, 0, 17, 8], [10, 12, 4, 12, 19], [470, 491, 119, 491, 85], [45, 56, 5, 73, 21], [95, 110, 10, 109, 17], [8, 14, 1, 13, 4], [43, 67, 4, 79, 11], [76, 89, 15, 89, 18], [144, 166, 34, 161, 203], [78, 101, 40, 106, 49], [6, 7, 1, 6, 2], [105, 115, 17, 112, 46], [68, 63, 7, 61, 66], [28, 28, 4, 35, 24], [47, 59, 5, 76, 22], [15, 16, 3, 20, 13], [155, 315, 28, 314, 50], [120, 243, 28, 236, 53], [133, 148, 19, 160, 18], [52, 49, 15, 49, 49], [29, 27, 5, 27, 32], [64, 66, 10, 69, 41], [141, 111, 14, 107, 106], [1003, 788, 380, 783, 387], [45, 99, 24, 103, 8], [581, 1482, 386, 1488, 558], [8, 10, 1, 10, 5], [108, 160, 56, 161, 65], [231, 221, 19, 221, 62], [50, 71, 15, 93, 17], [76, 105, 10, 100, 18], [277, 294, 26, 297, 92], [20, 19, 2, 19, 15], [5, 7, 1, 8, 3], [39, 33, 7, 33, 35], [54, 78, 13, 94, 12], [44, 58, 2, 58, 4], [465, 684, 98, 671, 242], [10, 10, 4, 19, 14], [38, 27, 5, 27, 35], [198, 204, 27, 226, 84], [100, 104, 25, 106, 44], [89, 135, 0, 137, 132], [95, 116, 16, 115, 10], [40, 61, 8, 79, 16], [38, 46, 5, 48, 17], [12, 11, 4, 14, 14], [180, 447, 27, 434, 82], [55, 71, 3, 71, 6], [33, 47, 4, 64, 12], [37, 26, 5, 26, 35], [139, 207, 6, 218, 152], [155, 306, 60, 301, 37], [71, 90, 9, 84, 4], [16, 24, 4, 22, 25], [38, 42, 1, 45, 5], [14, 15, 4, 14, 27], [47, 64, 8, 80, 11], [29, 35, 7, 35, 11], [86, 116, 10, 126, 17], [7, 8, 2, 7, 8], [61, 56, 10, 65, 19], [27, 47, 4, 60, 10], [9, 10, 1, 10, 4], [56, 53, 5, 53, 38], [13, 18, 3, 17, 18], [7, 9, 1, 14, 5], [17, 19, 2, 19, 14], [4, 5, 2, 4, 7], [33, 35, 11, 44, 12], [18, 29, 7, 39, 1], [217, 259, 39, 258, 95], [43, 40, 3, 40, 20], [59, 103, 28, 108, 17], [31, 24, 6, 27, 31], [48, 74, 13, 97, 14], [8, 13, 1, 12, 4], [133, 156, 19, 160, 26], [20, 17, 1, 17, 6], [5, 6, 1, 8, 3], [44, 42, 5, 48, 6], [107, 103, 0, 91, 45], [48, 66, 14, 82, 15], [29, 28, 4, 27, 25], [18, 16, 2, 16, 16], [16, 34, 10, 42, 5], [9, 8, 8, 11, 21], [19, 17, 4, 17, 19], [28, 41, 0, 50, 5], [74, 86, 16, 75, 103], [36, 35, 11, 39, 13], [27, 34, 2, 54, 9], [211, 254, 37, 254, 94], [45, 57, 5, 59, 13], [826, 706, 343, 682, 278], [75, 57, 16, 54, 71], [6, 6, 1, 11, 4], [57, 68, 15, 84, 38], [80, 102, 15, 101, 14], [106, 59, 2, 67, 52], [49, 61, 5, 63, 2], [14, 14, 2, 25, 10], [57, 102, 26, 104, 27], [119, 107, 44, 92, 140], [27, 17, 7, 18, 29], [159, 122, 41, 119, 157], [220, 136, 119, 138, 241], [30, 37, 6, 36, 27], [146, 275, 47, 263, 34], [44, 52, 10, 56, 14], [5, 8, 3, 9, 14], [66, 105, 49, 114, 51], [486, 895, 90, 893, 303], [28, 51, 4, 63, 9], [75, 194, 118, 234, 47], [8, 8, 4, 11, 13], [594, 147, 1, 153, 106], [10, 10, 4, 13, 14], [5, 5, 1, 6, 3], [33, 31, 3, 49, 10], [37, 26, 5, 26, 35], [16, 15, 6, 15, 27], [20, 17, 3, 17, 18], [6, 6, 1, 6, 3], [21, 15, 6, 18, 24], [75, 85, 5, 105, 10], [74, 75, 5, 70, 51], [11, 12, 1, 11, 3], [8, 9, 1, 9, 3], [359, 350, 3, 319, 42], [23, 28, 2, 30, 1], [7, 11, 2, 10, 1], [30, 41, 2, 42, 3], [51, 60, 11, 67, 29], [44, 55, 5, 57, 13], [483, 394, 173, 383, 132], [35, 33, 3, 37, 9], [92, 96, 23, 110, 105], [32, 26, 4, 26, 26], [24, 33, 1, 33, 14], [7, 8, 1, 8, 3], [14, 13, 6, 14, 25], [33, 24, 6, 24, 36], [29, 56, 4, 69, 12], [82, 78, 21, 74, 90], [28, 24, 4, 24, 26], [30, 37, 5, 34, 34], [72, 79, 8, 79, 4], [28, 32, 2, 40, 7], [25, 28, 9, 31, 40], [34, 42, 1, 42, 9], [46, 43, 6, 40, 53], [10, 10, 4, 13, 14], [89, 135, 0, 137, 132], [107, 123, 34, 123, 82], [21, 15, 6, 16, 28], [45, 54, 12, 66, 20], [206, 229, 63, 226, 60], [41, 57, 34, 53, 84], [21, 35, 3, 43, 6], [10, 13, 1, 12, 3], [28, 16, 7, 15, 32], [47, 69, 23, 75, 3], [8, 9, 3, 9, 13], [597, 1525, 383, 1527, 586], [7, 13, 2, 12, 1], [33, 45, 6, 62, 16], [46, 55, 4, 59, 6], [34, 36, 9, 37, 48], [5, 7, 1, 8, 3], [46, 74, 8, 91, 8], [36, 44, 5, 69, 12], [32, 41, 4, 46, 6], [47, 51, 3, 68, 18], [47, 60, 6, 56, 41], [5, 5, 1, 6, 3], [598, 145, 1, 149, 106], [20, 15, 4, 16, 22], [27, 36, 8, 48, 11], [33, 46, 10, 62, 24], [15, 19, 1, 17, 4], [7, 9, 1, 9, 3], [81, 76, 6, 76, 49], [30, 42, 28, 39, 58], [60, 70, 17, 59, 80], [13, 20, 5, 38, 5], [28, 32, 8, 43, 12], [14, 32, 15, 40, 3], [28, 31, 3, 49, 13], [24, 20, 1, 20, 6], [39, 68, 24, 73, 4], [100, 76, 22, 66, 86], [20, 20, 5, 20, 29], [34, 36, 4, 41, 5], [25, 20, 3, 20, 20], [35, 54, 12, 60, 1], [73, 100, 11, 114, 20], [12, 13, 5, 13, 24], [29, 33, 7, 33, 10], [17, 17, 0, 18, 3], [31, 31, 5, 31, 17], [266, 365, 129, 365, 162], [4, 4, 1, 7, 2], [137, 181, 23, 178, 33], [80, 90, 24, 109, 31], [8, 8, 2, 9, 8], [117, 132, 14, 136, 81], [95, 138, 20, 146, 22], [11, 16, 3, 19, 20], [56, 70, 10, 97, 14], [28, 23, 4, 23, 25], [31, 32, 3, 50, 10], [117, 125, 18, 131, 82], [9, 15, 3, 16, 19], [5, 6, 1, 6, 3], [40, 52, 8, 49, 61], [106, 59, 2, 67, 52], [301, 352, 34, 323, 4], [37, 40, 4, 57, 12], [17, 14, 0, 14, 5], [6, 10, 2, 11, 12], [9, 6, 2, 5, 9], [126, 134, 16, 125, 9], [426, 417, 226, 421, 236], [24, 16, 1, 16, 10], [35, 52, 0, 61, 8], [10, 12, 1, 11, 2], [149, 185, 15, 196, 29], [29, 54, 52, 66, 14], [76, 82, 12, 88, 22], [16, 13, 8, 14, 24], [62, 78, 22, 79, 104], [51, 97, 30, 100, 29], [6, 14, 2, 14, 1], [23, 28, 2, 27, 13], [12, 11, 4, 14, 14], [51, 71, 10, 88, 17], [20, 19, 2, 19, 15], [4, 6, 1, 7, 2], [23, 20, 1, 20, 7], [64, 90, 36, 89, 39], [371, 495, 271, 501, 325], [18, 24, 7, 34, 3], [186, 237, 6, 230, 56], [31, 49, 4, 68, 10], [11, 14, 5, 14, 24], [42, 47, 4, 49, 5], [8, 10, 1, 9, 2], [9, 15, 3, 16, 19], [32, 34, 4, 51, 11], [65, 91, 9, 107, 18], [78, 186, 118, 221, 66], [26, 39, 5, 38, 31], [69, 48, 5, 46, 60], [59, 61, 2, 65, 52], [44, 48, 7, 71, 13], [21, 33, 4, 39, 8], [43, 33, 8, 32, 39], [6, 7, 3, 7, 13], [340, 197, 0, 199, 135], [15, 27, 1, 26, 4], [78, 193, 117, 233, 67], [5, 7, 2, 5, 6], [6, 6, 1, 11, 4], [17, 12, 5, 15, 20], [5, 6, 1, 6, 3], [12, 19, 2, 19, 13], [12, 12, 0, 12, 1], [132, 182, 18, 174, 21], [104, 73, 2, 75, 51], [4, 4, 1, 6, 2], [43, 43, 10, 65, 10], [44, 84, 23, 88, 2], [31, 43, 33, 41, 71], [17, 16, 6, 26, 20], [32, 42, 7, 53, 9], [12, 16, 5, 17, 27], [244, 246, 25, 236, 72], [8, 9, 1, 9, 6], [6, 8, 1, 7, 2], [33, 91, 71, 98, 45], [47, 52, 1, 52, 9], [16, 16, 4, 15, 16], [36, 49, 1, 62, 7], [7, 10, 1, 9, 4], [6, 7, 1, 7, 2], [10, 11, 1, 11, 4], [7, 8, 2, 7, 8], [85, 84, 21, 100, 89], [234, 575, 94, 541, 101], [39, 45, 16, 55, 6], [8, 9, 3, 12, 10], [6, 10, 2, 11, 12], [57, 72, 10, 76, 14], [76, 187, 117, 222, 66], [78, 108, 11, 118, 15], [46, 54, 9, 64, 30], [27, 36, 3, 53, 7], [37, 36, 4, 53, 11], [33, 36, 1, 49, 7], [202, 354, 67, 332, 65], [14, 16, 3, 16, 9], [177, 238, 25, 231, 54], [32, 38, 4, 61, 11], [5, 6, 1, 6, 3], [35, 41, 6, 43, 5], [22, 36, 12, 44, 4], [219, 265, 43, 253, 11], [42, 58, 35, 54, 88], [24, 19, 4, 19, 23], [19, 21, 2, 20, 14], [49, 30, 8, 31, 39], [26, 36, 8, 41, 8], [10, 9, 4, 10, 14], [51, 50, 4, 49, 43], [31, 31, 8, 55, 12], [944, 1041, 136, 1047, 474], [12, 11, 5, 18, 18], [27, 35, 4, 40, 12], [48, 65, 12, 69, 20], [36, 87, 38, 102, 29], [24, 33, 6, 43, 2], [73, 78, 12, 84, 15], [66, 70, 11, 98, 18], [22, 34, 1, 38, 7], [3, 5, 1, 6, 1], [45, 40, 4, 40, 30], [27, 34, 2, 54, 9], [210, 261, 46, 293, 117], [8, 11, 1, 10, 5], [54, 53, 8, 70, 20], [357, 366, 35, 375, 110], [8, 20, 2, 19, 1], [45, 56, 5, 73, 21], [204, 273, 8, 250, 7], [17, 15, 0, 15, 5], [149, 356, 204, 368, 261], [22, 26, 5, 37, 9], [26, 27, 3, 25, 13], [400, 556, 146, 555, 146], [17, 16, 6, 26, 20], [48, 89, 25, 93, 2], [7, 7, 12, 6, 25], [47, 65, 3, 64, 4], [32, 25, 6, 25, 36], [105, 79, 13, 77, 85], [20, 26, 4, 24, 20], [169, 264, 71, 279, 87], [24, 21, 3, 21, 20], [52, 79, 13, 101, 17], [18, 19, 1, 18, 4], [54, 66, 5, 65, 7], [6, 7, 1, 9, 4], [35, 26, 7, 26, 36], [10, 11, 1, 11, 4], [35, 28, 6, 28, 39], [8, 8, 2, 9, 8], [9, 11, 1, 10, 3], [42, 40, 4, 40, 12], [5, 9, 3, 10, 15], [51, 67, 5, 87, 14], [33, 89, 64, 98, 44], [57, 72, 10, 76, 14], [32, 34, 5, 57, 10], [53, 60, 11, 67, 31], [55, 60, 8, 82, 19], [90, 104, 7, 103, 10], [5, 6, 3, 7, 8], [196, 254, 9, 232, 8], [63, 65, 15, 56, 70], [202, 228, 31, 256, 69], [12, 15, 2, 17, 7], [10, 13, 5, 14, 26], [205, 355, 66, 334, 66], [23, 32, 7, 42, 2], [107, 101, 0, 89, 45], [186, 202, 24, 203, 14], [77, 63, 21, 59, 87], [124, 101, 15, 96, 96], [23, 35, 5, 35, 25], [237, 183, 55, 178, 211], [258, 395, 78, 406, 90], [38, 50, 1, 59, 13], [22, 23, 3, 35, 4], [107, 123, 34, 123, 81], [10, 10, 4, 13, 14], [10, 13, 1, 12, 3], [100, 119, 10, 134, 35], [47, 71, 4, 84, 14], [28, 30, 2, 38, 6], [24, 22, 3, 22, 21], [7, 8, 1, 8, 3], [108, 163, 2, 175, 109], [47, 51, 9, 52, 5], [52, 154, 7, 171, 19], [230, 288, 66, 291, 193], [29, 79, 40, 94, 28], [14, 25, 7, 35, 1], [33, 36, 1, 49, 7], [58, 54, 9, 63, 19], [17, 17, 6, 25, 17], [155, 266, 6, 275, 154], [47, 65, 7, 81, 13], [43, 59, 3, 73, 14], [136, 151, 44, 141, 178], [59, 59, 9, 56, 48], [33, 24, 6, 24, 36], [50, 57, 12, 86, 24], [29, 31, 6, 30, 4], [134, 160, 49, 161, 18], [92, 124, 5, 119, 16], [28, 36, 10, 50, 15], [123, 145, 16, 157, 39], [3, 10, 1, 9, 4], [28, 31, 5, 54, 12], [11, 20, 3, 19, 1], [23, 34, 7, 42, 6], [19, 36, 4, 43, 5], [118, 125, 6, 117, 23], [31, 42, 5, 50, 12], [83, 84, 9, 85, 33], [18, 24, 7, 34, 3], [48, 72, 22, 78, 12], [24, 26, 7, 25, 32], [145, 192, 20, 203, 84], [34, 33, 11, 37, 13], [98, 192, 14, 206, 11], [1222, 1347, 206, 1370, 649], [20, 23, 4, 21, 15], [15, 15, 6, 15, 26], [9, 8, 3, 7, 11], [253, 220, 100, 238, 82], [80, 104, 5, 116, 19], [7, 9, 6, 10, 22], [4, 10, 1, 9, 4], [95, 153, 23, 160, 52], [67, 112, 46, 127, 60], [53, 74, 11, 90, 16], [99, 115, 23, 115, 140], [30, 27, 3, 45, 12], [9, 6, 2, 5, 9], [70, 70, 7, 70, 22], [4, 5, 1, 5, 2], [18, 18, 3, 18, 20], [512, 315, 42, 335, 144], [56, 57, 7, 74, 17], [45, 62, 9, 70, 12], [104, 165, 52, 173, 60], [92, 80, 30, 80, 95], [14, 15, 4, 32, 12], [55, 58, 10, 61, 4], [47, 73, 4, 85, 8], [36, 55, 11, 63, 7], [28, 30, 2, 38, 6], [189, 265, 46, 287, 156], [9, 6, 16, 5, 28], [39, 27, 7, 27, 35], [12, 14, 1, 13, 4], [10, 14, 3, 15, 17], [137, 100, 94, 111, 167], [21, 17, 9, 17, 30], [64, 74, 7, 91, 17], [178, 243, 5, 261, 114], [10, 10, 4, 15, 14], [18, 24, 7, 34, 3], [49, 67, 15, 68, 80], [106, 158, 3, 168, 105], [7, 13, 2, 12, 1], [793, 941, 210, 947, 531], [227, 261, 32, 260, 66], [13, 13, 5, 13, 21], [431, 1027, 229, 1030, 733], [11, 12, 1, 12, 5], [41, 31, 7, 31, 38], [29, 44, 5, 50, 11], [196, 253, 9, 231, 8], [35, 43, 3, 47, 10], [110, 102, 2, 87, 45], [21, 31, 6, 40, 3], [104, 79, 11, 81, 87], [11, 14, 3, 16, 17], [6, 8, 2, 7, 12], [99, 123, 15, 156, 24], [7, 8, 1, 8, 5], [607, 162, 1, 166, 114], [15, 16, 2, 16, 5], [37, 32, 6, 49, 34], [29, 33, 7, 33, 10], [57, 57, 6, 56, 46], [20, 17, 1, 17, 6], [134, 169, 58, 171, 14], [70, 61, 38, 60, 33], [55, 77, 8, 88, 18], [277, 291, 127, 301, 134], [38, 25, 4, 25, 37], [21, 32, 9, 56, 23], [33, 41, 4, 44, 3], [75, 119, 9, 113, 26], [20, 21, 6, 20, 28], [161, 217, 91, 223, 105], [344, 367, 34, 381, 126], [33, 37, 6, 37, 9], [13, 19, 1, 25, 1], [5, 8, 2, 7, 10], [9, 10, 1, 10, 3], [105, 121, 23, 164, 25], [31, 33, 3, 51, 9], [4, 4, 1, 4, 2], [5, 7, 1, 8, 3], [13, 11, 15, 10, 32], [29, 44, 2, 58, 16], [22, 25, 7, 32, 30], [100, 120, 14, 122, 20], [126, 135, 10, 136, 14], [61, 82, 8, 109, 14], [120, 154, 16, 150, 31], [73, 103, 10, 113, 15], [75, 113, 2, 115, 106], [43, 58, 12, 56, 72], [99, 79, 11, 85, 86], [57, 66, 5, 77, 8], [21, 33, 4, 39, 8], [77, 63, 21, 59, 87], [66, 74, 5, 76, 11], [77, 102, 7, 96, 10], [74, 79, 10, 84, 80], [78, 103, 16, 106, 49], [179, 236, 32, 228, 54], [32, 41, 33, 39, 69], [10, 11, 1, 11, 4], [47, 56, 13, 53, 72], [179, 208, 24, 205, 46], [206, 247, 46, 279, 109], [12, 17, 4, 17, 21], [39, 48, 10, 48, 3], [5, 5, 1, 6, 3], [28, 45, 39, 43, 86], [39, 27, 7, 27, 35], [389, 461, 133, 486, 287], [73, 116, 15, 140, 26], [50, 60, 6, 56, 59], [76, 89, 15, 89, 18], [26, 31, 0, 42, 7], [58, 70, 5, 83, 13], [80, 102, 15, 101, 14], [45, 47, 10, 37, 53], [9, 9, 4, 9, 17], [26, 25, 4, 27, 24], [567, 990, 104, 989, 354], [17, 17, 0, 18, 3], [325, 629, 167, 628, 299], [89, 103, 34, 127, 20], [13, 15, 4, 16, 23], [47, 45, 3, 43, 39], [132, 147, 19, 159, 18], [65, 91, 4, 85, 8], [801, 1120, 114, 1136, 563], [48, 53, 11, 82, 17], [31, 31, 8, 55, 12], [37, 44, 16, 54, 6], [31, 41, 7, 46, 6], [58, 65, 6, 82, 18], [5, 7, 2, 5, 6], [199, 234, 30, 242, 73], [105, 126, 10, 118, 15], [48, 68, 17, 75, 8], [47, 71, 4, 65, 9], [69, 53, 7, 53, 54], [9, 12, 1, 11, 4], [5, 7, 1, 8, 3], [42, 52, 11, 62, 23], [23, 20, 3, 20, 20], [68, 71, 7, 73, 6], [6, 6, 1, 7, 4], [92, 66, 23, 64, 91], [104, 70, 2, 72, 51], [186, 192, 18, 181, 46], [137, 181, 23, 178, 33], [36, 53, 1, 61, 15], [229, 259, 31, 242, 14], [86, 91, 19, 91, 16], [9, 15, 3, 16, 21], [5, 7, 2, 5, 6], [269, 320, 34, 291, 5], [48, 61, 4, 62, 17], [4, 4, 1, 4, 2], [80, 113, 13, 121, 16], [25, 28, 2, 33, 9], [602, 157, 1, 161, 106], [196, 267, 8, 243, 5], [420, 202, 167, 199, 127], [101, 105, 2, 108, 8], [13, 17, 3, 19, 7], [27, 34, 3, 53, 9], [14, 13, 3, 13, 5], [7, 9, 1, 9, 4], [11, 15, 5, 21, 6], [207, 338, 96, 326, 75], [102, 130, 37, 125, 168], [268, 251, 59, 248, 169], [11, 15, 5, 21, 6], [34, 42, 1, 42, 9], [108, 118, 12, 120, 6], [29, 31, 3, 34, 7], [6, 7, 3, 7, 13], [23, 18, 9, 21, 27], [16, 14, 6, 13, 21], [101, 104, 11, 103, 43], [46, 68, 4, 80, 22], [532, 273, 0, 276, 272], [32, 49, 8, 53, 6], [14, 17, 4, 22, 3], [412, 559, 12, 558, 326], [69, 81, 8, 81, 6], [23, 24, 2, 23, 13], [146, 156, 11, 157, 18], [164, 286, 41, 277, 93], [76, 89, 15, 89, 18], [84, 103, 13, 118, 19], [299, 324, 71, 317, 326], [16, 12, 4, 11, 23], [104, 96, 22, 108, 103], [29, 50, 53, 62, 14], [29, 47, 39, 45, 87], [91, 109, 8, 132, 16], [15, 20, 2, 28, 4], [23, 32, 8, 55, 22], [239, 284, 22, 313, 50], [10, 12, 1, 11, 2], [12, 11, 5, 16, 18], [50, 44, 20, 42, 19], [37, 48, 3, 48, 25], [16, 23, 5, 23, 10], [43, 54, 8, 53, 19], [56, 66, 9, 66, 13], [9, 10, 1, 10, 3], [83, 114, 10, 124, 17], [28, 24, 4, 24, 26], [48, 73, 4, 79, 20], [69, 79, 10, 85, 23], [7, 11, 2, 13, 1], [311, 311, 35, 300, 98], [36, 57, 2, 50, 6], [49, 54, 4, 57, 8], [1995, 2395, 375, 2401, 1075], [44, 45, 10, 67, 12], [53, 76, 20, 83, 7], [69, 72, 6, 75, 5], [20, 18, 2, 17, 11], [380, 378, 0, 384, 369], [15, 20, 4, 20, 27], [903, 139, 571, 151, 394], [51, 63, 7, 81, 9], [56, 64, 12, 91, 14], [256, 211, 98, 229, 81], [55, 58, 10, 61, 4], [40, 50, 18, 48, 78], [360, 391, 0, 395, 367], [24, 34, 7, 43, 6], [10, 13, 3, 24, 9], [52, 76, 6, 72, 8], [19, 28, 1, 27, 8], [8, 13, 2, 14, 1], [61, 63, 2, 67, 54], [38, 49, 3, 49, 7], [10, 11, 1, 11, 5], [30, 41, 35, 39, 77], [27, 24, 1, 24, 8], [37, 39, 4, 56, 12], [31, 35, 6, 52, 11], [133, 155, 19, 159, 26], [19, 22, 5, 34, 7], [120, 62, 64, 74, 66], [5, 5, 1, 7, 3], [9, 10, 1, 10, 4], [117, 109, 2, 96, 40], [482, 140, 1, 146, 106], [13, 11, 1, 18, 3], [12, 17, 3, 15, 6], [51, 63, 16, 60, 79], [10, 15, 2, 14, 13], [8, 13, 1, 12, 4], [11, 16, 3, 18, 20], [228, 258, 18, 273, 67], [56, 59, 9, 81, 20], [22, 23, 3, 35, 4], [6, 6, 1, 8, 4], [36, 27, 6, 27, 36], [44, 37, 7, 60, 39], [33, 35, 8, 35, 13], [26, 25, 4, 24, 21], [20, 39, 3, 42, 6], [32, 50, 8, 62, 13], [35, 27, 6, 32, 26], [20, 17, 1, 17, 6], [56, 66, 9, 66, 13], [29, 39, 5, 49, 14], [108, 105, 0, 90, 45], [508, 295, 0, 301, 272], [18, 17, 5, 16, 24], [20, 39, 8, 47, 4], [7, 8, 3, 7, 10], [312, 254, 116, 270, 99], [50, 46, 15, 46, 54], [4, 4, 1, 4, 2], [10, 8, 16, 7, 32], [40, 50, 9, 83, 25], [52, 80, 10, 95, 16], [74, 244, 8, 255, 25], [16, 19, 7, 19, 31], [32, 35, 6, 52, 10], [6, 11, 2, 14, 13], [15, 23, 2, 23, 13], [54, 51, 9, 48, 47], [9, 10, 1, 10, 3], [48, 55, 5, 54, 48], [23, 29, 6, 37, 11], [422, 489, 0, 493, 427], [15, 14, 5, 16, 17], [15, 19, 5, 19, 29], [22, 62, 5, 68, 15], [147, 224, 4, 239, 153], [62, 75, 4, 75, 9], [48, 59, 11, 59, 13], [26, 25, 4, 24, 21], [393, 348, 41, 369, 139], [22, 20, 3, 20, 20], [57, 76, 9, 93, 16], [10, 8, 7, 9, 21], [27, 41, 5, 55, 22], [33, 88, 74, 97, 45], [14, 15, 0, 16, 4], [44, 49, 10, 53, 15], [47, 52, 1, 52, 9], [81, 109, 5, 120, 20], [14, 15, 0, 16, 4], [272, 383, 115, 383, 168], [40, 45, 7, 50, 7], [1087, 1188, 160, 1204, 544], [46, 91, 29, 94, 29], [27, 38, 3, 47, 8], [34, 33, 3, 51, 11], [78, 101, 8, 96, 7], [51, 60, 11, 67, 29], [68, 78, 10, 84, 21], [47, 51, 9, 52, 5], [22, 20, 3, 20, 20], [80, 74, 10, 75, 27], [57, 73, 4, 85, 17], [42, 50, 12, 62, 7], [21, 16, 7, 19, 26], [424, 260, 165, 257, 128], [22, 27, 4, 26, 24], [43, 33, 8, 32, 40], [12, 15, 2, 17, 7], [107, 105, 0, 92, 45], [37, 50, 4, 69, 14], [57, 74, 8, 73, 16], [28, 32, 2, 40, 7], [35, 27, 8, 23, 47], [54, 72, 8, 89, 21], [22, 26, 2, 25, 13], [21, 26, 8, 32, 14], [16, 29, 11, 37, 4], [12, 10, 4, 11, 13], [31, 45, 28, 42, 61], [4, 4, 1, 7, 2], [28, 50, 2, 51, 7], [47, 51, 9, 52, 5], [10, 10, 4, 13, 12], [2409, 3362, 772, 2981, 398], [39, 45, 16, 55, 6], [196, 259, 36, 280, 64], [66, 68, 15, 94, 18], [24, 21, 3, 21, 20], [6, 8, 1, 7, 2], [22, 35, 7, 45, 1], [172, 298, 73, 273, 59], [101, 134, 8, 126, 19], [24, 26, 4, 38, 7], [7, 8, 1, 8, 3], [27, 29, 0, 40, 7], [388, 439, 129, 464, 288], [357, 503, 145, 502, 150], [45, 55, 9, 65, 6], [203, 355, 66, 334, 65], [10, 9, 9, 9, 23], [14, 14, 0, 15, 3], [37, 48, 3, 54, 19], [191, 464, 27, 449, 82], [40, 51, 9, 56, 11], [31, 35, 6, 52, 11], [6, 8, 3, 11, 7], [30, 29, 10, 48, 7], [89, 111, 27, 110, 140], [25, 51, 3, 61, 4], [100, 123, 11, 144, 36], [13, 19, 3, 21, 18], [20, 39, 8, 47, 4], [221, 238, 89, 249, 100], [28, 51, 4, 63, 9], [1067, 1180, 160, 1190, 548], [15, 20, 4, 20, 24], [40, 27, 5, 27, 34], [47, 52, 1, 52, 9], [107, 80, 16, 77, 86], [92, 66, 23, 64, 91], [61, 63, 2, 67, 54], [6, 6, 1, 8, 4], [17, 15, 7, 15, 28], [74, 80, 8, 102, 14], [62, 82, 7, 78, 9], [198, 265, 36, 286, 64], [99, 189, 9, 197, 11], [76, 84, 20, 108, 24], [324, 294, 80, 286, 294], [51, 50, 4, 49, 43], [33, 88, 74, 97, 45], [105, 223, 5, 202, 31], [23, 34, 7, 42, 6], [21, 26, 5, 25, 23], [32, 25, 6, 25, 36], [38, 25, 5, 25, 31], [50, 74, 12, 90, 15], [44, 58, 2, 58, 4], [41, 44, 3, 62, 12], [201, 187, 70, 200, 60], [9, 9, 3, 8, 12], [44, 58, 2, 58, 4], [77, 84, 9, 105, 17], [62, 64, 14, 54, 73], [40, 51, 3, 51, 30], [48, 65, 12, 69, 20], [259, 176, 24, 187, 75], [57, 72, 5, 84, 17], [12, 11, 4, 14, 13], [40, 24, 4, 24, 35], [13, 15, 2, 23, 4], [103, 131, 11, 121, 17], [8, 11, 2, 10, 9], [11, 13, 1, 12, 4], [16, 22, 6, 25, 27], [77, 102, 7, 96, 10], [15, 14, 5, 15, 17], [141, 173, 49, 170, 34], [23, 20, 8, 18, 34], [34, 48, 15, 57, 3], [19, 16, 2, 15, 11], [6, 7, 1, 7, 4], [27, 26, 1, 26, 10], [37, 52, 3, 65, 12], [366, 344, 3, 315, 35], [95, 98, 10, 101, 7], [228, 221, 14, 218, 27], [37, 36, 4, 53, 11], [95, 154, 26, 167, 52], [2058, 1607, 73, 1606, 122], [74, 104, 11, 114, 15], [57, 54, 8, 71, 13], [35, 40, 9, 41, 53], [7, 9, 1, 8, 3], [170, 170, 5, 170, 35], [13, 14, 2, 16, 6], [40, 61, 8, 79, 16], [28, 25, 6, 48, 25], [13, 17, 3, 28, 7], [71, 104, 9, 115, 23], [28, 55, 4, 68, 12], [26, 53, 3, 63, 6], [33, 25, 6, 28, 31], [24, 20, 1, 20, 6], [22, 33, 7, 41, 6], [65, 65, 8, 63, 9], [98, 106, 5, 105, 9], [33, 31, 3, 49, 10], [55, 57, 10, 67, 32], [69, 75, 7, 78, 7], [11, 13, 3, 16, 17], [36, 40, 6, 57, 12], [13, 15, 1, 15, 5], [482, 92, 2, 98, 106], [28, 36, 2, 54, 6], [23, 20, 2, 19, 9], [949, 1049, 137, 1050, 479], [74, 88, 15, 86, 19], [7, 7, 1, 6, 2], [7, 9, 1, 8, 3], [26, 54, 55, 66, 18], [29, 49, 2, 56, 10], [126, 135, 10, 136, 14], [32, 31, 10, 38, 48], [12, 11, 4, 14, 13], [33, 36, 1, 49, 7], [66, 70, 11, 98, 18], [31, 44, 34, 40, 71], [47, 99, 24, 103, 9], [38, 36, 3, 39, 13], [86, 99, 11, 94, 93], [40, 24, 4, 24, 35], [25, 28, 1, 28, 11], [50, 61, 3, 55, 8], [83, 102, 5, 113, 21], [28, 25, 3, 24, 20], [65, 66, 14, 56, 70], [10, 16, 3, 15, 19], [107, 130, 27, 130, 81], [35, 26, 7, 26, 36], [204, 232, 29, 248, 67], [11, 15, 3, 26, 8], [30, 40, 4, 40, 8], [30, 33, 8, 52, 9], [45, 64, 73, 63, 148], [18, 16, 4, 18, 14], [4, 5, 1, 5, 2], [52, 63, 7, 80, 16], [9, 15, 2, 13, 4], [15, 13, 4, 13, 11], [256, 421, 94, 397, 105], [104, 147, 14, 149, 81], [10, 10, 2, 11, 9], [138, 159, 49, 160, 17], [24, 25, 5, 25, 4], [38, 25, 5, 25, 31], [234, 480, 172, 508, 379], [582, 836, 79, 828, 431], [165, 300, 11, 308, 20], [30, 27, 3, 45, 12], [111, 205, 36, 217, 22], [10, 13, 6, 14, 24], [52, 59, 12, 69, 27], [91, 112, 27, 111, 142], [7, 9, 6, 10, 22], [9, 10, 1, 10, 4], [31, 36, 6, 35, 29], [92, 123, 5, 118, 17], [28, 21, 2, 21, 9], [8, 9, 8, 12, 21], [66, 77, 10, 83, 22], [209, 239, 31, 238, 29], [54, 66, 5, 65, 7], [40, 45, 7, 50, 7], [48, 78, 6, 93, 28], [150, 177, 24, 187, 52], [579, 105, 1, 107, 106], [26, 39, 5, 38, 31], [6, 8, 1, 7, 2], [11, 13, 4, 12, 21], [4, 5, 3, 6, 11], [5, 8, 1, 10, 4], [66, 84, 11, 94, 85], [168, 43, 66, 55, 90], [20, 23, 4, 22, 3], [8, 15, 3, 16, 20], [218, 388, 172, 418, 350], [5, 5, 1, 6, 3], [80, 100, 5, 112, 15], [281, 671, 168, 647, 150], [195, 462, 27, 447, 82], [19, 17, 1, 17, 7], [45, 47, 10, 37, 53], [26, 51, 3, 58, 13], [58, 77, 9, 94, 17], [112, 126, 38, 121, 3], [44, 48, 7, 71, 13], [8, 11, 3, 18, 10], [581, 107, 2, 111, 106], [153, 175, 32, 170, 197], [51, 54, 9, 71, 17], [189, 241, 4, 259, 130], [17, 21, 3, 23, 6], [56, 81, 8, 98, 11], [7, 9, 1, 8, 3], [29, 21, 5, 23, 30], [30, 35, 9, 54, 9], [10, 14, 3, 18, 18], [29, 50, 53, 62, 14], [61, 64, 13, 53, 69], [46, 70, 13, 78, 11], [26, 35, 7, 40, 8], [14, 13, 2, 13, 13], [969, 793, 359, 785, 357], [6, 10, 2, 11, 10], [29, 38, 7, 49, 10], [7, 9, 1, 8, 3], [12, 14, 3, 16, 7], [189, 241, 4, 259, 130], [34, 42, 1, 42, 9], [81, 90, 9, 129, 14], [5, 7, 2, 5, 6], [23, 51, 14, 59, 5], [70, 100, 9, 104, 13], [80, 53, 14, 52, 61], [64, 61, 8, 67, 51], [29, 35, 5, 35, 28], [23, 25, 5, 36, 10], [17, 24, 1, 24, 15], [7, 9, 1, 14, 5], [827, 696, 60, 701, 333], [198, 222, 70, 219, 60], [36, 44, 5, 69, 11], [38, 49, 13, 49, 61], [10, 15, 2, 14, 13], [6, 14, 2, 15, 1], [36, 53, 11, 60, 3], [229, 259, 31, 242, 14], [74, 66, 19, 67, 84], [29, 48, 3, 61, 11], [27, 34, 2, 54, 9], [64, 82, 20, 83, 45], [14, 18, 4, 17, 24], [27, 36, 8, 48, 12], [93, 121, 28, 128, 27], [64, 84, 13, 90, 11], [23, 29, 5, 29, 25], [151, 165, 46, 171, 45], [38, 60, 7, 72, 19], [77, 60, 7, 60, 55], [37, 40, 2, 57, 7], [31, 45, 11, 44, 15], [83, 82, 6, 82, 53], [8, 20, 2, 19, 1], [42, 53, 6, 50, 53], [22, 29, 6, 30, 28], [52, 56, 8, 85, 21], [110, 129, 16, 133, 20], [75, 190, 118, 225, 46], [118, 126, 43, 114, 153], [31, 103, 6, 91, 15], [7, 7, 1, 6, 2], [13, 20, 4, 39, 4], [10, 10, 4, 13, 14], [17, 19, 2, 19, 14], [46, 42, 8, 41, 45], [12, 9, 16, 8, 32], [55, 41, 6, 41, 43], [155, 176, 17, 170, 17], [75, 82, 21, 106, 24], [39, 52, 3, 58, 18], [31, 42, 13, 51, 5], [43, 52, 9, 62, 26], [23, 23, 3, 23, 11], [14, 18, 4, 17, 24], [22, 20, 3, 20, 20], [49, 77, 19, 83, 8], [201, 119, 119, 121, 224], [1206, 1300, 324, 1316, 824], [30, 41, 37, 39, 76], [15, 14, 5, 17, 17], [231, 540, 150, 543, 254], [37, 27, 5, 26, 22], [14, 19, 2, 27, 5], [10, 11, 10, 14, 24], [48, 65, 12, 69, 20], [212, 364, 89, 339, 95], [86, 95, 12, 95, 13], [89, 134, 0, 134, 132], [19, 28, 1, 27, 8], [55, 61, 10, 77, 32], [52, 70, 11, 88, 17], [805, 686, 289, 684, 292], [63, 79, 3, 79, 6], [52, 54, 10, 64, 31], [63, 79, 3, 81, 6], [53, 61, 7, 61, 11], [36, 54, 10, 62, 1], [76, 83, 12, 89, 22], [119, 135, 18, 139, 82], [32, 34, 4, 51, 11], [30, 32, 3, 50, 11], [28, 25, 3, 24, 20], [28, 32, 2, 40, 7], [228, 221, 14, 218, 27], [778, 963, 14, 971, 653], [37, 38, 14, 47, 12], [20, 26, 7, 36, 2], [143, 116, 70, 124, 140], [490, 371, 179, 359, 139], [118, 125, 43, 113, 152], [45, 54, 24, 52, 76], [12, 12, 4, 15, 16], [102, 208, 70, 205, 99], [9, 6, 2, 5, 9], [221, 553, 101, 517, 104], [24, 21, 3, 21, 20], [13, 12, 0, 18, 3], [434, 570, 337, 543, 298], [45, 70, 15, 75, 4], [143, 186, 23, 182, 33], [5, 7, 2, 5, 6], [67, 69, 4, 75, 56], [20, 26, 4, 24, 18], [51, 132, 78, 158, 46], [41, 48, 3, 65, 20], [170, 250, 4, 268, 167], [7, 11, 2, 11, 1], [104, 70, 2, 72, 51], [30, 41, 2, 42, 3], [59, 56, 9, 65, 19], [2262, 1819, 75, 1821, 121], [295, 325, 73, 319, 317], [30, 37, 6, 36, 4], [50, 63, 4, 80, 24], [218, 549, 118, 552, 266], [13, 10, 5, 10, 19], [7, 8, 1, 8, 3], [175, 235, 32, 227, 54], [9, 12, 1, 11, 4], [18, 22, 7, 23, 33], [54, 45, 4, 45, 40], [15, 14, 4, 14, 10], [238, 573, 99, 536, 105], [286, 311, 142, 316, 153], [62, 79, 21, 78, 99], [65, 121, 51, 136, 73], [372, 433, 123, 454, 303], [110, 83, 24, 82, 106], [206, 233, 63, 230, 60], [62, 71, 4, 71, 8], [33, 35, 11, 44, 12], [128, 143, 6, 142, 14], [34, 45, 2, 53, 8], [1368, 1712, 293, 1712, 845], [44, 51, 7, 47, 53], [95, 116, 16, 115, 10], [336, 484, 106, 473, 108], [5, 8, 2, 7, 12], [805, 923, 90, 928, 369], [70, 74, 18, 90, 20], [7, 11, 2, 13, 1], [11, 12, 1, 12, 5], [44, 57, 5, 73, 22], [33, 35, 11, 44, 12], [7, 8, 1, 9, 3], [30, 45, 39, 43, 85], [134, 163, 49, 164, 17], [106, 59, 2, 67, 52], [30, 41, 37, 39, 76], [480, 147, 1, 155, 106], [9, 10, 1, 9, 4], [727, 804, 62, 805, 302], [11, 14, 4, 15, 19], [37, 46, 8, 43, 57], [20, 20, 6, 19, 29], [35, 45, 4, 69, 13], [270, 254, 59, 251, 166], [43, 51, 10, 61, 22], [144, 289, 83, 268, 75], [48, 39, 15, 39, 53], [6, 8, 1, 7, 2], [75, 85, 5, 105, 10], [53, 50, 7, 61, 17], [29, 28, 4, 35, 24], [14, 15, 0, 15, 3], [47, 72, 4, 85, 14], [36, 45, 3, 70, 11], [54, 53, 8, 70, 20], [33, 32, 6, 32, 18], [815, 659, 295, 657, 316], [43, 62, 4, 81, 9], [51, 72, 11, 88, 16], [71, 79, 8, 75, 45], [9, 10, 1, 10, 4], [30, 33, 3, 34, 1], [112, 98, 1, 92, 48], [80, 98, 7, 94, 7], [477, 139, 1, 145, 106], [35, 45, 2, 45, 4], [168, 198, 87, 212, 81], [12, 12, 0, 12, 1], [55, 40, 6, 40, 42], [74, 244, 8, 255, 26], [97, 76, 15, 81, 83], [199, 225, 31, 222, 29], [39, 68, 24, 73, 4], [17, 26, 4, 29, 28], [11, 14, 4, 15, 19], [10, 12, 5, 12, 22], [2787, 3734, 580, 3354, 197], [98, 110, 17, 112, 11], [1096, 651, 447, 654, 425], [12, 13, 2, 13, 11], [323, 336, 69, 314, 332], [47, 51, 9, 52, 5], [758, 562, 280, 560, 233], [14, 14, 0, 15, 3], [30, 45, 39, 43, 85], [11, 14, 4, 15, 19], [5, 6, 1, 6, 3], [39, 50, 4, 45, 9], [56, 58, 8, 75, 16], [74, 79, 10, 84, 77], [159, 261, 6, 272, 163], [114, 122, 33, 121, 35], [61, 79, 20, 78, 98], [91, 131, 0, 133, 124], [5, 6, 1, 8, 3], [31, 21, 7, 21, 39], [15, 22, 1, 22, 11], [35, 37, 3, 55, 12], [14, 14, 3, 14, 6], [193, 182, 20, 178, 141], [41, 45, 7, 62, 13], [65, 47, 5, 46, 60], [2, 9, 1, 8, 3], [68, 78, 10, 83, 81], [53, 75, 20, 82, 8], [48, 69, 8, 91, 11], [32, 36, 0, 50, 6], [38, 39, 3, 47, 15], [276, 605, 174, 607, 285], [40, 58, 3, 51, 7], [354, 368, 2, 338, 49], [55, 65, 9, 70, 40], [12, 13, 3, 17, 16], [80, 98, 7, 94, 7], [20, 23, 1, 22, 13], [23, 20, 2, 19, 9], [14, 20, 3, 37, 10], [88, 65, 15, 61, 72], [6, 14, 2, 15, 1], [25, 51, 3, 61, 4], [50, 38, 4, 38, 38], [7, 8, 1, 10, 5], [204, 273, 8, 250, 7], [13, 17, 3, 19, 7], [98, 106, 5, 105, 9], [7, 8, 6, 11, 17], [7, 8, 2, 7, 8], [355, 166, 0, 168, 135], [47, 52, 1, 55, 12], [66, 75, 11, 77, 54], [14, 14, 0, 15, 3], [55, 70, 4, 73, 5], [100, 96, 34, 95, 103], [79, 108, 10, 118, 16], [55, 63, 13, 63, 29], [40, 32, 15, 32, 50], [123, 155, 20, 145, 3], [166, 302, 59, 280, 57], [9, 10, 1, 10, 3], [6, 7, 1, 8, 4], [7, 13, 1, 14, 3], [9, 6, 16, 5, 28], [143, 143, 52, 157, 42], [66, 70, 14, 87, 24], [33, 33, 5, 43, 10], [67, 75, 17, 91, 19], [65, 119, 32, 123, 23], [35, 26, 7, 26, 36], [131, 105, 96, 116, 172], [12, 11, 5, 14, 18], [89, 108, 9, 130, 16], [42, 51, 11, 58, 24], [15, 21, 4, 21, 24], [41, 58, 35, 54, 88], [14, 14, 2, 25, 10], [47, 32, 6, 31, 27], [158, 215, 90, 215, 104], [775, 983, 14, 991, 643], [128, 119, 18, 114, 115], [48, 56, 11, 65, 24], [477, 152, 1, 162, 106], [76, 89, 15, 89, 18], [44, 65, 4, 84, 9], [96, 250, 121, 290, 70], [56, 66, 9, 66, 13], [53, 66, 6, 64, 9], [28, 23, 4, 23, 25], [108, 55, 62, 67, 90], [23, 20, 3, 20, 21], [23, 31, 7, 41, 2], [37, 53, 35, 49, 82], [31, 33, 3, 51, 11], [30, 21, 5, 26, 22], [11, 14, 3, 25, 6], [28, 36, 2, 54, 6], [18, 24, 7, 23, 32], [31, 37, 4, 60, 13], [20, 40, 4, 47, 8], [127, 152, 25, 149, 43], [28, 28, 2, 47, 10], [86, 112, 10, 128, 22], [163, 192, 21, 202, 54], [50, 51, 3, 53, 5], [16, 15, 3, 15, 18], [13, 37, 22, 44, 5], [54, 67, 4, 67, 9], [137, 313, 8, 304, 35], [14, 13, 2, 13, 13], [13, 16, 3, 18, 7], [29, 38, 7, 49, 10], [82, 85, 13, 86, 6], [26, 33, 4, 38, 12], [48, 89, 25, 93, 2], [95, 109, 31, 133, 35], [62, 78, 16, 78, 9], [193, 448, 28, 433, 85], [19, 28, 7, 38, 2], [28, 31, 3, 49, 12], [39, 28, 8, 29, 35], [129, 295, 19, 284, 27], [14, 13, 3, 12, 12], [106, 187, 39, 207, 49], [28, 36, 2, 54, 6], [177, 238, 25, 231, 54], [205, 232, 32, 228, 29], [28, 31, 5, 54, 12], [194, 212, 25, 212, 16], [33, 47, 10, 63, 23], [28, 25, 3, 25, 23], [33, 40, 3, 38, 30], [209, 247, 46, 279, 109], [33, 24, 5, 23, 24], [57, 72, 10, 76, 14], [400, 426, 44, 440, 152], [45, 57, 26, 55, 81], [6, 14, 2, 15, 1], [65, 119, 32, 123, 23], [30, 29, 6, 47, 27], [10, 11, 5, 11, 21], [117, 132, 14, 136, 81], [23, 20, 3, 20, 21], [476, 390, 173, 376, 130], [37, 40, 2, 46, 16], [56, 84, 5, 97, 13], [165, 279, 41, 268, 94], [186, 237, 6, 230, 56], [15, 23, 2, 23, 13], [7, 9, 1, 8, 3], [165, 204, 26, 202, 22], [6, 8, 2, 9, 10], [40, 53, 5, 53, 24], [47, 53, 10, 79, 11], [289, 300, 25, 310, 84], [7, 11, 2, 11, 1], [142, 158, 21, 148, 22], [30, 40, 7, 45, 5], [46, 58, 6, 60, 16], [4, 5, 3, 6, 9], [51, 141, 79, 172, 33], [512, 449, 119, 449, 43], [28, 45, 2, 59, 19], [14, 16, 1, 15, 3], [25, 57, 2, 67, 6], [53, 75, 20, 82, 8], [85, 109, 12, 119, 28], [28, 30, 2, 38, 6], [110, 104, 13, 93, 86], [47, 99, 24, 103, 9], [46, 36, 7, 36, 35], [48, 59, 11, 59, 13], [60, 92, 9, 115, 25], [424, 227, 168, 224, 127], [301, 428, 106, 425, 115], [218, 547, 118, 550, 266], [17, 17, 4, 19, 19], [50, 51, 3, 53, 5], [31, 37, 1, 36, 5], [138, 80, 66, 92, 66], [7, 9, 1, 14, 5], [37, 29, 7, 29, 37], [93, 222, 2, 201, 32], [196, 267, 8, 243, 5], [66, 60, 7, 59, 42], [4, 4, 1, 3, 2], [33, 53, 12, 59, 1], [5, 9, 1, 8, 3], [135, 102, 3, 87, 45], [20, 34, 3, 43, 5], [58, 65, 6, 82, 18], [36, 52, 11, 59, 3], [993, 849, 374, 845, 364], [20, 20, 4, 20, 21], [18, 16, 6, 24, 17], [221, 276, 43, 305, 90], [405, 422, 46, 424, 141], [9, 11, 3, 11, 18], [18, 17, 14, 19, 15], [46, 58, 8, 85, 23], [51, 54, 9, 71, 17], [671, 557, 258, 544, 204], [59, 61, 2, 65, 52], [89, 120, 15, 146, 22], [48, 96, 24, 100, 10], [54, 73, 7, 71, 6], [63, 71, 18, 94, 24], [7, 8, 3, 8, 13], [37, 54, 34, 50, 81], [61, 80, 9, 82, 64], [24, 34, 7, 43, 6], [11, 12, 1, 12, 5], [27, 34, 2, 54, 9], [28, 26, 3, 44, 13], [72, 108, 9, 124, 13], [8, 9, 3, 9, 15], [144, 131, 2, 120, 39], [29, 41, 13, 50, 5], [224, 284, 44, 310, 85], [6, 8, 1, 9, 4], [165, 278, 30, 274, 71], [3, 9, 1, 8, 3], [28, 26, 3, 44, 13], [56, 57, 7, 74, 17], [49, 58, 9, 84, 12], [29, 49, 54, 61, 14], [409, 382, 75, 366, 331], [32, 43, 3, 37, 4], [24, 33, 1, 33, 13], [90, 97, 8, 100, 12], [53, 61, 7, 61, 11], [74, 88, 15, 86, 19], [15, 21, 4, 21, 25], [46, 57, 9, 85, 10], [21, 31, 6, 40, 3], [69, 97, 10, 107, 14], [11, 15, 5, 21, 6], [107, 101, 0, 88, 45], [187, 131, 94, 128, 68], [79, 103, 17, 113, 20], [36, 39, 3, 57, 12], [70, 70, 7, 70, 22], [37, 42, 38, 40, 81], [19, 22, 4, 21, 17], [108, 106, 0, 91, 45], [32, 41, 7, 46, 6], [22, 35, 4, 42, 5], [20, 30, 9, 48, 22], [43, 56, 11, 63, 25], [72, 88, 10, 90, 95], [45, 69, 4, 81, 11], [150, 171, 14, 171, 12], [46, 91, 29, 94, 29], [11, 15, 5, 21, 6], [27, 40, 5, 37, 31], [20, 19, 2, 18, 8], [48, 96, 24, 100, 10], [45, 57, 4, 69, 22], [18, 22, 6, 22, 35], [69, 59, 23, 66, 86], [8, 14, 1, 14, 4], [18, 24, 3, 25, 18], [35, 40, 3, 38, 30], [10, 9, 3, 8, 12], [54, 67, 4, 67, 9], [6, 7, 1, 7, 4], [44, 56, 16, 55, 9], [92, 80, 30, 80, 95], [12, 13, 4, 30, 10], [36, 40, 3, 39, 6], [128, 119, 18, 114, 115], [21, 34, 10, 58, 24], [39, 51, 3, 57, 17], [100, 112, 19, 131, 25], [117, 125, 18, 131, 82], [74, 71, 10, 73, 24], [112, 115, 2, 102, 45], [11, 15, 3, 26, 8], [14, 14, 0, 15, 3], [36, 59, 17, 68, 9], [44, 75, 24, 74, 30], [9, 9, 1, 10, 3], [7, 7, 2, 6, 2], [15, 16, 3, 20, 13], [31, 29, 6, 46, 35], [47, 57, 3, 79, 22], [55, 72, 8, 89, 22], [39, 30, 6, 30, 39], [7, 8, 2, 7, 8], [154, 117, 21, 108, 122], [31, 33, 3, 51, 10], [21, 14, 6, 15, 24], [23, 20, 2, 19, 9], [126, 179, 74, 179, 86], [11, 7, 3, 6, 10], [12, 10, 16, 9, 33], [50, 57, 9, 58, 8], [16, 12, 2, 12, 12], [16, 21, 0, 22, 4], [2, 2, 3, 1, 3], [373, 515, 259, 524, 325], [7, 13, 1, 12, 3], [49, 70, 10, 86, 14], [26, 21, 5, 21, 29], [89, 137, 1, 139, 132], [9, 11, 1, 11, 5], [63, 69, 11, 90, 16], [17, 18, 4, 18, 19], [23, 23, 4, 25, 22], [108, 132, 34, 131, 85], [35, 28, 6, 28, 39], [34, 42, 1, 42, 9], [22, 22, 2, 30, 11], [39, 52, 5, 52, 24], [127, 162, 27, 188, 59], [74, 75, 5, 70, 51], [8, 8, 2, 7, 8], [117, 138, 20, 129, 3], [13, 19, 3, 23, 23], [28, 36, 10, 50, 15], [29, 33, 3, 36, 9], [34, 45, 2, 53, 8], [103, 176, 42, 196, 48], [35, 42, 3, 46, 10], [105, 95, 15, 107, 100], [21, 35, 9, 43, 8], [35, 40, 3, 39, 31], [55, 69, 4, 91, 8], [16, 23, 7, 24, 37], [126, 137, 13, 139, 19], [10, 10, 4, 13, 12], [65, 87, 8, 111, 14], [5, 7, 2, 5, 6], [134, 156, 18, 158, 26], [114, 149, 16, 146, 31], [482, 151, 1, 159, 106], [78, 95, 17, 104, 20], [17, 21, 6, 24, 27], [30, 45, 39, 43, 85], [10, 12, 1, 11, 3], [50, 68, 3, 62, 7], [29, 30, 3, 48, 11], [61, 64, 13, 53, 69], [46, 57, 37, 54, 37], [215, 262, 49, 282, 109], [347, 362, 36, 364, 119], [27, 23, 4, 28, 34], [103, 161, 5, 171, 109], [32, 25, 6, 25, 36], [943, 1048, 131, 1047, 475], [24, 21, 3, 21, 20], [29, 29, 5, 47, 26], [91, 109, 8, 132, 16], [8, 9, 2, 8, 9], [5, 6, 1, 6, 3], [23, 33, 9, 56, 21], [53, 61, 7, 61, 11], [45, 48, 3, 47, 10], [71, 69, 6, 69, 49], [65, 65, 8, 63, 9], [36, 45, 3, 70, 11], [493, 157, 1, 165, 116], [556, 1452, 389, 1461, 578], [11, 20, 3, 19, 1], [53, 37, 5, 37, 42], [67, 70, 1, 73, 6], [34, 42, 1, 42, 9], [45, 71, 8, 95, 15], [53, 79, 10, 89, 17], [53, 61, 7, 61, 11], [34, 33, 3, 51, 10], [25, 36, 1, 36, 19], [52, 46, 6, 42, 53], [41, 51, 10, 85, 22], [67, 125, 47, 140, 73], [76, 124, 40, 125, 47], [72, 95, 24, 92, 110], [18, 24, 7, 34, 3], [50, 57, 9, 58, 8], [17, 20, 0, 20, 9], [22, 62, 3, 68, 15], [444, 1009, 212, 1002, 684], [12, 18, 4, 18, 22], [342, 529, 21, 546, 306], [28, 25, 3, 24, 20], [20, 17, 3, 17, 18], [86, 122, 21, 151, 19], [107, 139, 8, 130, 19], [18, 13, 6, 14, 20], [37, 28, 7, 28, 39], [17, 23, 2, 23, 13], [27, 36, 3, 53, 7], [59, 53, 4, 53, 44], [59, 72, 7, 72, 11], [22, 36, 12, 44, 4], [66, 70, 14, 87, 24], [41, 56, 3, 59, 28], [21, 32, 9, 55, 21], [69, 94, 8, 110, 46], [127, 167, 27, 193, 62], [14, 14, 0, 15, 3], [79, 67, 7, 67, 60], [28, 36, 2, 54, 6], [309, 263, 118, 279, 100], [6, 7, 1, 8, 3], [20, 17, 1, 17, 6], [100, 115, 21, 141, 25], [893, 175, 568, 187, 394], [27, 29, 1, 29, 11], [40, 50, 9, 83, 25], [34, 28, 6, 22, 28], [31, 42, 5, 50, 12], [11, 10, 4, 10, 16], [4, 8, 3, 10, 11], [28, 43, 5, 51, 10], [127, 93, 19, 92, 106], [95, 131, 10, 124, 13], [40, 33, 15, 33, 51], [27, 52, 3, 59, 13], [39, 39, 3, 57, 11], [482, 92, 1, 98, 106], [6, 7, 1, 8, 4], [28, 31, 5, 54, 12], [19, 16, 6, 16, 30], [30, 23, 4, 23, 28], [72, 79, 8, 79, 4], [573, 153, 1, 157, 106], [8, 9, 2, 8, 9], [21, 31, 6, 41, 2], [344, 494, 109, 491, 110], [64, 86, 7, 102, 11], [44, 57, 8, 84, 23], [47, 51, 9, 52, 5], [206, 242, 45, 268, 108], [12, 14, 1, 13, 4], [41, 48, 3, 65, 20], [32, 42, 34, 38, 69], [52, 54, 4, 53, 10], [31, 42, 13, 51, 5], [29, 43, 2, 53, 14], [20, 17, 1, 17, 6], [107, 129, 34, 129, 82], [20, 17, 1, 17, 6], [51, 66, 6, 62, 42], [62, 71, 4, 71, 8], [299, 440, 108, 437, 115], [11, 12, 1, 12, 4], [32, 42, 7, 53, 8], [30, 47, 6, 54, 13], [108, 69, 2, 71, 52], [102, 75, 0, 77, 51], [49, 56, 10, 88, 11], [17, 16, 6, 26, 20], [18, 26, 7, 36, 1], [73, 74, 10, 72, 33], [53, 75, 20, 82, 8], [8, 8, 2, 7, 8], [44, 58, 2, 60, 4], [47, 73, 15, 78, 4], [361, 461, 119, 445, 166], [111, 131, 17, 143, 37], [47, 66, 16, 73, 7], [40, 45, 7, 50, 7], [8, 14, 1, 13, 4], [54, 75, 8, 91, 12], [94, 97, 25, 94, 120], [186, 442, 108, 421, 72], [140, 127, 1, 109, 36], [103, 80, 24, 79, 102], [27, 43, 5, 51, 12], [14, 14, 0, 15, 3], [29, 43, 2, 53, 14], [134, 146, 44, 136, 171], [31, 36, 3, 34, 27], [56, 69, 12, 69, 25], [4, 4, 1, 4, 2], [251, 307, 23, 336, 62], [110, 129, 16, 133, 20], [409, 370, 75, 354, 319], [92, 97, 49, 100, 50], [29, 30, 3, 48, 10], [71, 93, 9, 112, 23], [57, 76, 9, 93, 16], [19, 29, 4, 35, 6], [9, 15, 2, 14, 16], [7, 7, 1, 8, 5], [98, 192, 10, 206, 12], [66, 54, 7, 54, 55], [37, 50, 4, 69, 14], [18, 17, 2, 17, 15], [62, 82, 7, 78, 9], [40, 32, 15, 32, 51], [89, 116, 5, 112, 14], [54, 73, 6, 71, 6], [18, 18, 2, 18, 15], [43, 55, 5, 72, 22], [100, 120, 14, 122, 20], [278, 300, 26, 315, 96], [3, 3, 1, 3, 1], [44, 85, 29, 88, 28], [20, 20, 5, 20, 28], [76, 89, 15, 89, 18], [239, 322, 43, 344, 78], [22, 20, 3, 20, 20], [35, 54, 1, 60, 13], [32, 36, 0, 50, 6], [5, 5, 1, 6, 3], [167, 266, 75, 290, 85], [11, 15, 5, 21, 6], [20, 15, 4, 16, 22], [27, 36, 8, 48, 12], [88, 111, 5, 121, 23], [98, 120, 17, 145, 29], [62, 76, 13, 94, 15], [81, 116, 13, 130, 16], [30, 48, 3, 61, 11], [487, 148, 1, 158, 116], [10, 10, 4, 13, 14], [76, 191, 119, 231, 67], [108, 69, 2, 71, 52], [60, 65, 15, 65, 7], [76, 82, 5, 91, 10], [32, 31, 11, 40, 12], [209, 235, 31, 232, 29], [22, 27, 4, 26, 24], [35, 37, 3, 47, 9], [137, 189, 29, 227, 39], [7, 9, 1, 9, 3], [308, 293, 87, 279, 308], [119, 158, 26, 148, 8], [27, 34, 2, 54, 9], [37, 32, 3, 34, 20], [453, 687, 85, 674, 244], [91, 108, 9, 130, 16], [542, 955, 89, 955, 304], [51, 45, 4, 45, 41], [13, 20, 4, 39, 5], [4, 4, 1, 3, 2], [47, 68, 23, 76, 19], [51, 77, 13, 99, 16], [23, 27, 2, 26, 12], [15, 15, 1, 14, 3], [74, 88, 15, 86, 19], [36, 52, 11, 59, 4], [34, 32, 6, 26, 31], [89, 81, 22, 71, 90], [5, 7, 2, 7, 9], [14, 38, 19, 45, 8], [31, 45, 7, 46, 8], [7, 8, 2, 7, 8], [27, 23, 6, 17, 28], [9, 8, 3, 11, 11], [23, 20, 3, 20, 21], [78, 85, 4, 86, 10], [788, 893, 86, 903, 366], [21, 27, 0, 28, 3], [45, 54, 12, 66, 20], [52, 50, 15, 50, 50], [51, 53, 5, 52, 40], [51, 60, 11, 67, 29], [41, 57, 4, 71, 16], [49, 47, 3, 45, 35], [7, 8, 2, 7, 8], [12, 18, 4, 18, 21], [96, 75, 38, 77, 109], [29, 22, 7, 27, 30], [15, 20, 4, 20, 27], [29, 56, 4, 69, 12], [138, 122, 86, 123, 81], [34, 27, 4, 27, 30], [34, 30, 8, 27, 37], [137, 316, 8, 310, 35], [15, 20, 4, 25, 22], [44, 67, 6, 81, 23], [91, 131, 0, 133, 124], [104, 145, 16, 149, 81], [6, 6, 1, 8, 4], [56, 64, 12, 91, 16], [5, 9, 1, 8, 3], [55, 71, 3, 73, 6], [237, 372, 48, 371, 159], [161, 254, 73, 274, 37], [18, 16, 4, 18, 14], [124, 232, 84, 229, 109], [76, 64, 15, 60, 77], [62, 71, 4, 71, 8], [35, 40, 13, 51, 14], [55, 78, 7, 96, 7], [55, 71, 3, 71, 6], [850, 1192, 123, 1212, 637], [38, 44, 3, 42, 32], [44, 61, 9, 69, 12], [260, 285, 140, 288, 175], [17, 20, 7, 26, 8], [50, 46, 15, 46, 54], [51, 60, 11, 67, 29], [62, 82, 6, 99, 9], [110, 104, 1, 98, 48], [11, 11, 1, 10, 3], [140, 107, 21, 98, 121], [148, 141, 18, 136, 123], [68, 76, 22, 111, 32], [136, 152, 20, 164, 19], [204, 308, 73, 313, 53], [20, 27, 4, 25, 21], [68, 96, 15, 128, 20], [138, 101, 19, 101, 106], [53, 61, 7, 61, 11], [38, 53, 1, 61, 14], [37, 38, 14, 47, 12], [52, 54, 4, 53, 10], [34, 52, 12, 58, 1], [27, 34, 3, 53, 9], [6, 7, 1, 7, 4], [7, 9, 1, 14, 5], [16, 25, 4, 28, 25], [19, 21, 7, 22, 32], [45, 58, 7, 68, 12], [66, 84, 11, 94, 85], [19, 21, 2, 20, 14], [5, 7, 2, 5, 6], [53, 75, 20, 82, 8], [66, 68, 15, 94, 19], [43, 36, 3, 35, 30], [286, 288, 24, 282, 74], [102, 127, 13, 148, 25], [14, 38, 19, 45, 8], [22, 36, 12, 44, 4], [154, 175, 14, 175, 12], [208, 258, 46, 289, 117], [24, 22, 3, 22, 21], [15, 20, 3, 22, 7], [25, 22, 5, 22, 29], [55, 64, 8, 88, 12], [31, 32, 8, 56, 12], [46, 65, 7, 81, 14], [6, 8, 1, 9, 4], [3, 9, 1, 8, 3], [104, 151, 10, 153, 81], [64, 74, 7, 91, 17], [33, 31, 3, 49, 11], [48, 78, 2, 80, 67], [119, 158, 25, 148, 9], [5, 5, 1, 7, 3], [388, 408, 0, 417, 392], [82, 78, 5, 73, 49], [52, 47, 6, 47, 41], [217, 333, 54, 344, 66], [21, 28, 5, 27, 23], [236, 251, 82, 258, 92], [6, 14, 2, 15, 1], [30, 28, 5, 46, 26], [112, 130, 17, 154, 33], [18, 17, 5, 16, 24], [52, 37, 4, 37, 36], [309, 429, 13, 454, 205], [66, 84, 11, 94, 85], [4, 5, 3, 6, 11], [124, 232, 84, 229, 109], [58, 65, 9, 81, 14], [20, 18, 2, 17, 11], [38, 48, 4, 51, 18], [35, 36, 4, 52, 6], [23, 20, 2, 19, 9], [413, 567, 12, 566, 322], [12, 11, 4, 14, 14], [5, 6, 2, 6, 8], [41, 38, 3, 38, 20], [16, 18, 7, 18, 34], [14, 15, 6, 19, 17], [32, 44, 33, 42, 72], [23, 20, 1, 20, 7], [31, 103, 6, 91, 15], [30, 31, 10, 50, 9], [22, 22, 2, 30, 11], [37, 26, 5, 26, 35], [75, 118, 10, 117, 29], [191, 168, 91, 165, 68], [70, 97, 11, 111, 19], [76, 105, 10, 115, 15], [28, 25, 5, 25, 32], [31, 33, 3, 51, 10], [6, 6, 2, 5, 2], [11, 15, 5, 21, 6], [217, 368, 87, 343, 96], [15, 15, 6, 15, 26], [52, 94, 30, 97, 30], [48, 59, 11, 59, 13], [33, 41, 9, 51, 22], [55, 58, 8, 80, 18], [21, 28, 9, 51, 20], [124, 162, 27, 188, 59], [34, 42, 8, 56, 8], [3, 9, 1, 8, 3], [37, 54, 34, 50, 81], [49, 63, 5, 79, 20], [31, 37, 1, 36, 5], [173, 234, 25, 227, 54], [32, 34, 3, 52, 10], [100, 104, 26, 106, 47], [13, 12, 1, 19, 3], [231, 410, 46, 409, 99], [94, 98, 17, 103, 12], [82, 112, 10, 122, 16], [30, 30, 5, 50, 9], [25, 25, 2, 25, 17], [30, 23, 4, 23, 28], [73, 78, 10, 83, 76], [217, 513, 14, 489, 63], [16, 30, 11, 38, 4], [33, 26, 7, 26, 39], [8, 15, 3, 16, 20], [99, 235, 47, 216, 38], [28, 36, 10, 50, 15], [41, 53, 11, 63, 7], [8, 8, 2, 9, 8], [154, 233, 4, 248, 157], [7, 7, 2, 6, 2], [19, 17, 1, 17, 7], [291, 285, 33, 305, 132], [57, 139, 65, 157, 83], [24, 33, 8, 56, 23], [21, 17, 8, 22, 31], [130, 121, 33, 128, 189], [72, 142, 26, 165, 14], [44, 59, 4, 78, 10], [70, 71, 10, 69, 33], [57, 65, 12, 92, 17], [20, 15, 5, 14, 22], [96, 75, 38, 77, 109], [36, 39, 12, 48, 12], [306, 328, 71, 313, 327], [62, 104, 25, 108, 18], [24, 23, 2, 22, 15], [8, 9, 1, 9, 3], [129, 115, 45, 104, 140], [30, 23, 2, 23, 11], [34, 39, 3, 38, 31], [116, 151, 16, 148, 29], [18, 27, 7, 37, 1], [5, 5, 1, 7, 3], [8, 6, 2, 5, 8], [50, 139, 79, 170, 33], [15, 15, 6, 19, 18], [122, 144, 17, 153, 37], [5, 6, 1, 8, 3], [24, 21, 3, 21, 21], [94, 86, 35, 86, 103], [132, 169, 14, 166, 18], [166, 136, 65, 132, 132], [176, 322, 41, 312, 90], [122, 115, 27, 115, 66], [13, 11, 0, 19, 3], [34, 36, 6, 49, 9], [111, 131, 16, 135, 20], [140, 192, 21, 231, 37], [54, 47, 6, 43, 53], [2268, 1734, 75, 1733, 121], [20, 20, 4, 20, 21], [107, 183, 39, 194, 48], [41, 60, 17, 67, 9], [237, 292, 22, 327, 57], [79, 155, 27, 183, 22], [166, 257, 62, 277, 38], [44, 57, 8, 84, 23], [7, 12, 2, 13, 15], [14, 14, 2, 25, 10], [31, 36, 3, 34, 27], [109, 97, 9, 109, 92], [34, 54, 3, 67, 11], [47, 52, 1, 52, 9], [11, 22, 1, 21, 1], [44, 58, 2, 58, 4], [37, 44, 16, 54, 6], [10, 14, 1, 13, 1], [8, 15, 3, 16, 20], [33, 35, 4, 52, 11], [41, 56, 35, 52, 85], [56, 58, 8, 75, 16], [8, 8, 1, 9, 6], [5, 7, 1, 8, 3], [117, 129, 14, 133, 82], [7, 9, 1, 8, 3], [254, 304, 83, 319, 182], [23, 21, 2, 20, 9], [9, 10, 1, 10, 3], [122, 66, 60, 78, 66], [179, 239, 32, 231, 54], [126, 134, 16, 125, 9], [4, 4, 1, 4, 2], [166, 300, 12, 314, 21], [36, 39, 12, 48, 12], [13, 10, 15, 9, 31], [65, 59, 7, 58, 41], [41, 35, 5, 52, 34], [105, 165, 37, 185, 23], [113, 149, 26, 142, 8], [631, 1038, 122, 1042, 399], [51, 119, 22, 142, 20], [44, 57, 5, 73, 22], [27, 29, 0, 40, 7], [482, 88, 2, 92, 106], [42, 58, 35, 54, 88], [15, 22, 4, 22, 25], [7, 8, 2, 7, 8], [301, 353, 34, 326, 4], [8, 14, 2, 15, 1], [187, 64, 62, 76, 65], [45, 57, 5, 59, 13], [113, 142, 11, 132, 19], [4, 4, 1, 3, 2], [85, 65, 10, 67, 70], [32, 38, 4, 61, 11], [48, 53, 11, 82, 17], [33, 36, 5, 46, 10], [140, 127, 1, 109, 36], [30, 31, 10, 50, 9], [173, 200, 120, 220, 77], [9, 9, 7, 10, 21], [58, 71, 6, 73, 11], [57, 67, 4, 62, 14], [542, 935, 94, 933, 329], [31, 45, 28, 42, 61], [12, 12, 0, 12, 1], [52, 60, 9, 69, 28], [193, 441, 167, 465, 317], [66, 137, 6, 137, 30], [23, 20, 3, 20, 21], [21, 19, 3, 19, 20], [56, 66, 9, 66, 13], [23, 30, 4, 28, 24], [407, 518, 134, 502, 155], [52, 150, 6, 161, 19], [199, 116, 117, 114, 214], [15, 26, 6, 36, 1], [24, 25, 7, 28, 27], [43, 59, 3, 73, 14], [122, 97, 19, 96, 106], [18, 24, 7, 34, 3], [37, 50, 6, 50, 55], [64, 84, 10, 85, 13], [313, 486, 76, 476, 218], [73, 116, 15, 140, 26], [316, 292, 84, 275, 311], [37, 45, 8, 48, 4], [6, 8, 2, 7, 6], [12, 11, 4, 20, 14], [119, 243, 50, 235, 53], [13, 12, 7, 12, 25], [326, 294, 80, 286, 292], [294, 318, 68, 308, 323], [145, 122, 68, 130, 135], [47, 73, 15, 78, 4], [40, 45, 7, 50, 7], [58, 72, 7, 83, 11], [902, 143, 568, 155, 394], [32, 34, 5, 57, 10], [81, 112, 10, 118, 20], [72, 111, 12, 119, 18], [17, 17, 0, 18, 3], [95, 116, 16, 115, 10], [12, 17, 4, 17, 20], [105, 187, 38, 201, 48], [486, 1171, 239, 1164, 782], [24, 18, 7, 19, 29], [76, 101, 19, 117, 21], [25, 28, 2, 33, 7], [31, 44, 5, 54, 13], [43, 31, 7, 31, 37], [30, 40, 4, 40, 8], [41, 57, 4, 71, 16], [87, 67, 10, 69, 71], [337, 665, 193, 663, 414], [11, 11, 1, 10, 2], [6, 6, 1, 11, 4], [132, 179, 18, 171, 21], [105, 89, 16, 99, 96], [74, 104, 11, 118, 20], [72, 77, 5, 72, 53], [23, 34, 7, 42, 6], [43, 53, 6, 50, 42], [1390, 1516, 201, 1545, 711], [9, 11, 4, 12, 18], [27, 29, 0, 40, 7], [28, 16, 7, 15, 34], [7, 13, 1, 13, 3], [15, 13, 5, 16, 18], [68, 70, 4, 76, 56], [39, 50, 7, 46, 46], [41, 48, 3, 65, 20], [129, 116, 25, 110, 134], [4, 6, 2, 5, 8], [36, 45, 3, 70, 11], [86, 95, 12, 95, 13], [44, 68, 24, 67, 30], [58, 65, 6, 82, 18], [17, 25, 7, 35, 2], [6, 10, 2, 11, 10], [41, 54, 9, 53, 22], [46, 91, 26, 95, 9], [25, 51, 3, 59, 3], [890, 1009, 131, 1025, 453], [46, 70, 4, 82, 21], [14, 15, 6, 19, 17], [6, 10, 2, 11, 12], [103, 108, 13, 97, 93], [86, 95, 12, 95, 13], [11, 12, 1, 11, 3], [46, 35, 5, 35, 34], [11, 12, 2, 12, 9], [68, 78, 10, 84, 21], [10, 11, 5, 12, 21], [57, 72, 10, 76, 14], [28, 38, 9, 52, 13], [197, 388, 111, 407, 328], [30, 31, 3, 49, 10], [87, 105, 6, 122, 21], [36, 58, 7, 70, 19], [24, 34, 7, 43, 6], [7, 13, 1, 12, 3], [36, 59, 17, 68, 9], [184, 142, 45, 140, 181], [64, 69, 4, 71, 4], [35, 45, 4, 69, 13], [43, 50, 12, 62, 6], [56, 70, 12, 70, 25], [268, 244, 59, 241, 200], [23, 21, 1, 21, 10], [106, 59, 2, 67, 52], [91, 103, 15, 104, 10], [51, 67, 10, 84, 17], [58, 49, 4, 49, 41], [10, 14, 1, 13, 1], [92, 124, 12, 170, 25], [14, 14, 2, 25, 10], [50, 57, 12, 86, 24], [17, 17, 4, 19, 19], [8, 20, 2, 19, 1], [56, 59, 9, 81, 20], [47, 65, 3, 64, 4], [58, 65, 6, 82, 18], [37, 46, 4, 49, 18], [21, 27, 0, 28, 3], [122, 323, 19, 308, 51], [28, 49, 4, 62, 10], [108, 247, 32, 256, 66], [65, 92, 9, 108, 18], [27, 41, 5, 55, 22], [94, 126, 15, 166, 22], [99, 117, 23, 113, 143], [76, 107, 11, 127, 18], [27, 34, 2, 54, 9], [42, 60, 10, 71, 17], [169, 141, 14, 137, 108], [272, 407, 115, 407, 168], [73, 96, 10, 114, 32], [28, 26, 3, 44, 12], [3, 9, 1, 8, 3], [44, 49, 10, 53, 15], [32, 35, 4, 52, 11], [29, 29, 5, 47, 26], [81, 77, 12, 78, 27], [14, 15, 4, 14, 23], [21, 26, 8, 32, 13], [809, 887, 90, 890, 368], [490, 1075, 236, 1069, 715], [45, 69, 4, 81, 11], [31, 21, 7, 21, 39], [17, 12, 5, 15, 19], [20, 28, 8, 38, 2], [30, 30, 5, 50, 9], [37, 46, 8, 43, 57], [18, 18, 6, 18, 30], [159, 312, 50, 303, 88], [89, 130, 0, 132, 124], [4, 4, 1, 3, 2], [228, 221, 14, 218, 27], [14, 20, 0, 20, 6], [31, 41, 2, 50, 7], [236, 314, 43, 336, 78], [39, 45, 3, 43, 32], [10, 10, 4, 13, 12], [12, 12, 4, 21, 14], [23, 29, 4, 27, 21], [47, 66, 10, 82, 14], [14, 12, 5, 12, 23], [70, 102, 8, 113, 23], [36, 54, 5, 71, 17], [41, 38, 33, 36, 66], [124, 232, 86, 229, 111], [16, 35, 10, 43, 5], [81, 105, 18, 127, 19], [25, 37, 2, 37, 19], [16, 21, 6, 21, 34], [103, 176, 42, 196, 48], [470, 488, 122, 488, 86], [17, 18, 6, 19, 28], [40, 27, 8, 28, 35], [2409, 3362, 772, 2981, 399], [368, 585, 65, 575, 151], [57, 54, 8, 71, 13], [6, 7, 1, 7, 4], [10, 10, 1, 9, 2], [49, 45, 3, 43, 38], [5, 5, 1, 6, 3], [74, 85, 4, 106, 10], [73, 88, 18, 97, 15], [23, 70, 38, 77, 28], [42, 43, 3, 45, 5], [64, 74, 7, 91, 17], [14, 15, 6, 21, 17], [16, 16, 6, 16, 28], [130, 147, 44, 137, 169], [586, 836, 145, 831, 432], [117, 129, 14, 133, 82], [141, 173, 49, 170, 34], [31, 27, 7, 25, 24], [21, 15, 6, 18, 24], [3, 3, 1, 4, 1], [55, 56, 7, 73, 17], [68, 50, 18, 49, 83], [10, 16, 3, 15, 19], [30, 41, 37, 39, 76], [13, 20, 5, 38, 5], [18, 18, 2, 18, 15], [11, 11, 3, 11, 8], [407, 647, 71, 633, 210], [56, 58, 8, 75, 16], [106, 59, 2, 67, 52], [48, 53, 11, 82, 17], [28, 36, 2, 54, 6], [137, 177, 23, 174, 33], [83, 86, 15, 90, 10], [91, 109, 8, 132, 16], [12, 20, 25, 19, 43], [48, 89, 25, 93, 2], [8, 13, 3, 17, 16], [27, 29, 0, 40, 7], [45, 56, 5, 73, 21], [67, 94, 9, 112, 28], [30, 20, 5, 22, 30], [477, 136, 1, 146, 106], [625, 1022, 112, 1023, 380], [167, 245, 45, 257, 43], [38, 56, 3, 68, 11], [160, 145, 18, 143, 132], [107, 94, 9, 106, 94], [14, 15, 0, 15, 3], [72, 102, 10, 112, 15], [92, 121, 13, 147, 23], [299, 490, 72, 461, 102], [183, 229, 32, 249, 64], [42, 47, 4, 49, 5], [5, 5, 1, 6, 3], [8, 9, 8, 12, 23], [95, 88, 35, 88, 104], [5, 6, 3, 7, 8], [44, 45, 10, 67, 12], [57, 65, 12, 92, 16], [37, 26, 5, 26, 35], [74, 128, 40, 129, 47], [51, 57, 12, 86, 22], [113, 141, 26, 132, 8], [46, 57, 37, 54, 37], [73, 102, 13, 122, 29], [95, 156, 25, 170, 23], [18, 28, 5, 37, 7], [55, 63, 9, 70, 18], [28, 26, 3, 44, 12], [59, 90, 31, 95, 19], [91, 121, 16, 146, 22], [28, 50, 2, 51, 7], [8, 9, 2, 8, 9], [95, 116, 16, 115, 10], [85, 110, 9, 97, 17], [15, 22, 4, 22, 25], [13, 23, 1, 23, 8], [588, 803, 12, 799, 503], [625, 1044, 107, 1047, 355], [25, 35, 5, 34, 24], [44, 42, 5, 48, 6], [26, 26, 4, 25, 23], [18, 16, 5, 15, 23], [4, 6, 1, 7, 2], [30, 18, 7, 19, 29], [55, 71, 3, 71, 6], [49, 72, 10, 79, 13], [18, 19, 1, 18, 4], [48, 89, 25, 93, 2], [943, 692, 367, 687, 301], [10, 12, 1, 11, 2], [91, 121, 16, 146, 22], [7, 9, 1, 8, 3], [31, 32, 3, 50, 10], [6, 14, 2, 15, 1], [28, 25, 3, 24, 20], [127, 116, 18, 114, 119], [261, 176, 24, 187, 75], [1240, 752, 513, 752, 478], [15, 15, 7, 15, 27], [60, 61, 12, 81, 18], [73, 96, 10, 114, 32], [48, 63, 9, 84, 12], [32, 41, 4, 46, 7], [51, 67, 5, 87, 15], [49, 43, 6, 43, 41], [90, 166, 48, 195, 29], [20, 40, 4, 47, 8], [13, 20, 5, 38, 5], [38, 33, 6, 50, 34], [667, 498, 260, 484, 204], [13, 20, 4, 39, 5], [18, 14, 7, 14, 28], [14, 14, 1, 13, 3], [103, 124, 10, 116, 17], [145, 120, 67, 126, 140], [16, 24, 4, 22, 25], [121, 66, 60, 78, 65], [10, 13, 3, 24, 9], [7, 12, 2, 13, 15], [63, 69, 9, 73, 54], [108, 66, 2, 68, 52], [219, 242, 18, 258, 67], [27, 37, 2, 46, 8], [26, 16, 8, 17, 25], [38, 40, 4, 57, 12], [198, 222, 70, 219, 60], [35, 37, 3, 55, 11], [84, 113, 10, 124, 16], [65, 49, 5, 48, 62], [33, 40, 3, 38, 30], [32, 34, 5, 57, 10], [84, 69, 21, 65, 83], [6, 6, 1, 8, 4], [264, 613, 142, 615, 297], [73, 96, 10, 114, 32], [38, 29, 8, 25, 47], [1255, 1355, 157, 1373, 605], [49, 48, 3, 46, 36], [126, 321, 19, 306, 51], [44, 56, 11, 66, 7], [354, 385, 31, 398, 120], [32, 25, 6, 25, 36], [46, 67, 29, 64, 37], [62, 52, 5, 52, 62], [69, 48, 5, 46, 60], [33, 36, 5, 46, 10], [107, 105, 0, 92, 45], [33, 49, 13, 55, 1], [33, 25, 6, 28, 31], [40, 50, 9, 83, 25], [6, 10, 2, 11, 12], [7, 7, 1, 10, 5], [72, 134, 19, 152, 28], [80, 108, 11, 122, 21], [80, 108, 11, 122, 21], [14, 14, 0, 15, 3], [46, 67, 24, 79, 27], [4, 6, 2, 5, 8], [25, 22, 5, 22, 29], [76, 111, 10, 115, 30], [87, 119, 11, 129, 18], [26, 26, 4, 25, 23], [189, 385, 21, 363, 35], [20, 22, 4, 21, 29], [215, 242, 32, 238, 29], [75, 119, 9, 113, 26], [17, 22, 8, 24, 32], [37, 53, 35, 49, 82], [44, 63, 17, 70, 9], [24, 33, 5, 30, 23], [157, 136, 18, 134, 124], [14, 15, 0, 15, 3], [91, 108, 9, 130, 16], [45, 72, 4, 68, 7], [12, 14, 3, 16, 7], [96, 152, 24, 168, 20], [23, 37, 8, 55, 23], [62, 71, 1, 81, 44], [173, 165, 15, 165, 41], [115, 122, 13, 123, 8], [16, 30, 11, 38, 4], [53, 50, 7, 61, 17], [32, 48, 5, 60, 14], [28, 38, 9, 52, 13], [18, 19, 1, 18, 4], [37, 52, 3, 65, 13], [53, 75, 20, 82, 8], [53, 72, 10, 79, 13], [11, 8, 15, 7, 30], [8, 8, 1, 9, 6], [16, 13, 5, 13, 25], [6, 8, 1, 7, 2], [104, 96, 22, 108, 103], [191, 153, 93, 150, 69], [213, 357, 96, 331, 96], [32, 34, 5, 57, 10], [11, 12, 3, 11, 17], [103, 131, 11, 121, 17], [189, 191, 26, 188, 141], [21, 35, 3, 43, 7], [31, 36, 3, 35, 28], [16, 17, 6, 17, 29], [10, 10, 4, 13, 14], [90, 104, 7, 103, 10], [47, 53, 3, 70, 19], [70, 51, 14, 50, 57], [35, 28, 6, 28, 39], [161, 260, 4, 275, 147], [33, 55, 1, 60, 13], [79, 90, 8, 93, 6], [258, 645, 162, 618, 155], [3, 9, 1, 8, 3], [116, 151, 16, 148, 29], [63, 79, 3, 79, 6], [163, 196, 3, 208, 84], [24, 20, 1, 20, 6], [105, 95, 15, 107, 100], [193, 195, 45, 181, 171], [3, 10, 1, 9, 4], [5, 5, 1, 7, 3], [154, 113, 93, 109, 165], [126, 137, 11, 127, 17], [31, 32, 8, 56, 12], [5, 7, 2, 5, 6], [18, 16, 4, 18, 14], [75, 82, 11, 84, 4], [8, 9, 1, 9, 6], [44, 85, 29, 88, 28], [22, 20, 3, 20, 20], [89, 123, 11, 143, 21], [53, 67, 4, 66, 12], [400, 553, 149, 551, 144], [86, 95, 12, 95, 13], [34, 51, 11, 60, 7], [31, 36, 3, 35, 29], [46, 60, 6, 56, 40], [23, 34, 7, 42, 6], [6, 8, 1, 9, 4], [93, 237, 118, 277, 75], [80, 101, 17, 105, 12], [259, 616, 120, 587, 116], [10, 14, 3, 25, 10], [122, 66, 60, 78, 66], [12, 15, 2, 14, 7], [5, 7, 1, 8, 3], [46, 91, 29, 94, 29], [393, 543, 144, 531, 143], [20, 25, 5, 24, 23], [62, 68, 6, 85, 17], [5, 9, 1, 8, 3], [49, 73, 12, 89, 15], [9, 15, 2, 14, 16], [50, 57, 9, 83, 13], [24, 19, 4, 19, 23], [45, 68, 21, 74, 11], [304, 402, 81, 387, 131], [31, 36, 3, 34, 27], [13, 37, 22, 44, 5]]\n"
          ],
          "name": "stdout"
        }
      ]
    },
    {
      "cell_type": "markdown",
      "metadata": {
        "id": "DWwqbuAQkL59"
      },
      "source": [
        "## Split Data"
      ]
    },
    {
      "cell_type": "code",
      "metadata": {
        "id": "QiDPMpLKlPSE"
      },
      "source": [
        "X_all = mat\n",
        "y_all = db.semantic\n",
        "X_train, X_test, y_train, y_test = train_test_split(X_all, y_all, \n",
        "          test_size=0.2, random_state=15)\n"
      ],
      "execution_count": 24,
      "outputs": []
    },
    {
      "cell_type": "markdown",
      "metadata": {
        "id": "HhsuDzK9GTI8"
      },
      "source": [
        "## Models"
      ]
    },
    {
      "cell_type": "markdown",
      "metadata": {
        "id": "1Nwio-dHGZAX"
      },
      "source": [
        "**Bernoulli model**"
      ]
    },
    {
      "cell_type": "code",
      "metadata": {
        "colab": {
          "base_uri": "https://localhost:8080/"
        },
        "id": "1-bXKQiyBd7a",
        "outputId": "0b4ad671-fada-4d3d-ef3c-2a33f648eec1"
      },
      "source": [
        "start_time = time.time()\n",
        "model1 = BernoulliNB()\n",
        "model1.fit(X_train, y_train)\n",
        "print('Bernoulli model created')\n",
        "print(\"Time: %s s\" % round(time.time() - start_time, 4))"
      ],
      "execution_count": 25,
      "outputs": [
        {
          "output_type": "stream",
          "text": [
            "Bernoulli model created\n",
            "Time: 0.0312 s\n"
          ],
          "name": "stdout"
        }
      ]
    },
    {
      "cell_type": "markdown",
      "metadata": {
        "id": "9lclGlwSsWXM"
      },
      "source": [
        "**Multinomial model**"
      ]
    },
    {
      "cell_type": "code",
      "metadata": {
        "id": "IXwI8GGLsPdp",
        "colab": {
          "base_uri": "https://localhost:8080/"
        },
        "outputId": "47826d0c-007b-4018-aa17-f0badee99fbd"
      },
      "source": [
        "start_time = time.time()\n",
        "model1 = MultinomialNB()\n",
        "model1.fit(X_train, y_train)\n",
        "print('Multinomial Model created')\n",
        "print(\"Time: %s s\" % round(time.time() - start_time, 4))"
      ],
      "execution_count": 29,
      "outputs": [
        {
          "output_type": "stream",
          "text": [
            "Multinomial Model created\n",
            "Time: 0.0352 s\n"
          ],
          "name": "stdout"
        }
      ]
    },
    {
      "cell_type": "markdown",
      "metadata": {
        "id": "ZkgQL8fNM-5o"
      },
      "source": [
        "**Random Forest Classifier**"
      ]
    },
    {
      "cell_type": "code",
      "metadata": {
        "colab": {
          "base_uri": "https://localhost:8080/"
        },
        "id": "NyQhBrZgM-mk",
        "outputId": "e6684a04-46e0-42a7-96ec-44a8b2ee6d56"
      },
      "source": [
        "start_time = time.time()\n",
        "model1 = RandomForestClassifier()\n",
        "model1.fit(X_train, y_train)\n",
        "print('Random forest classifier created')\n",
        "print(\"Time: %s s\" % round(time.time() - start_time, 4))"
      ],
      "execution_count": 33,
      "outputs": [
        {
          "output_type": "stream",
          "text": [
            "Random forest classifier created\n",
            "Time: 0.5989 s\n"
          ],
          "name": "stdout"
        }
      ]
    },
    {
      "cell_type": "markdown",
      "metadata": {
        "id": "04RIJ1ykM4mv"
      },
      "source": [
        "**Gaussian Naive Bayes**"
      ]
    },
    {
      "cell_type": "code",
      "metadata": {
        "colab": {
          "base_uri": "https://localhost:8080/"
        },
        "id": "exBFKKwO-iuA",
        "outputId": "b27bc2d3-f458-4ee3-e854-1d901e8ab8ff"
      },
      "source": [
        "start_time = time.time()\n",
        "model1 = GaussianNB()\n",
        "model1.fit(X_train, y_train)\n",
        "print(\"Gaussian Nb created\")\n",
        "print(\"Time: %s s\" % round(time.time() - start_time, 4))"
      ],
      "execution_count": 37,
      "outputs": [
        {
          "output_type": "stream",
          "text": [
            "Gaussian Nb created\n",
            "Time: 0.0311 s\n"
          ],
          "name": "stdout"
        }
      ]
    },
    {
      "cell_type": "markdown",
      "metadata": {
        "id": "zPhOGOIdOAiL"
      },
      "source": [
        "## Evaluation"
      ]
    },
    {
      "cell_type": "markdown",
      "metadata": {
        "id": "dPvEB9m_OJ5G"
      },
      "source": [
        "**Evaluation test set**"
      ]
    },
    {
      "cell_type": "code",
      "metadata": {
        "id": "DFizGuxaOIgJ"
      },
      "source": [
        "y_pred = model1.predict(X_test)"
      ],
      "execution_count": 38,
      "outputs": []
    },
    {
      "cell_type": "markdown",
      "metadata": {
        "id": "w6VwWDEnN1_P"
      },
      "source": [
        "**Confusion matrix**"
      ]
    },
    {
      "cell_type": "code",
      "metadata": {
        "colab": {
          "base_uri": "https://localhost:8080/",
          "height": 279
        },
        "id": "nOeLbWxOvmXZ",
        "outputId": "133e40a5-6ad5-4634-d99e-6e79e3fdd03e"
      },
      "source": [
        "cm= confusion_matrix(y_test,y_pred)\n",
        "fig, ax = plot_confusion_matrix(conf_mat=cm,\n",
        "                                colorbar=True,\n",
        "                                show_absolute=True,\n",
        "                                show_normed=True\n",
        "                                )"
      ],
      "execution_count": 39,
      "outputs": [
        {
          "output_type": "display_data",
          "data": {
            "image/png": "[encoded data removed]",
            "text/plain": [
              "<Figure size 432x288 with 2 Axes>"
            ]
          },
          "metadata": {
            "tags": [],
            "needs_background": "light"
          }
        }
      ]
    },
    {
      "cell_type": "markdown",
      "metadata": {
        "id": "rD55T4tEN7Pf"
      },
      "source": [
        "**Classification report**"
      ]
    },
    {
      "cell_type": "code",
      "metadata": {
        "colab": {
          "base_uri": "https://localhost:8080/"
        },
        "id": "jX7avppz4oJP",
        "outputId": "2e1e42fa-dbbb-4a71-cadc-6c77b68ccbe8"
      },
      "source": [
        "print(classification_report(y_test, y_pred, zero_division=0))"
      ],
      "execution_count": 40,
      "outputs": [
        {
          "output_type": "stream",
          "text": [
            "              precision    recall  f1-score   support\n",
            "\n",
            "  encryption       0.79      0.59      0.67       256\n",
            "        math       0.80      0.77      0.78       456\n",
            "        sort       0.32      0.13      0.19       112\n",
            "      string       0.61      0.84      0.71       391\n",
            "\n",
            "    accuracy                           0.69      1215\n",
            "   macro avg       0.63      0.58      0.59      1215\n",
            "weighted avg       0.69      0.69      0.68      1215\n",
            "\n"
          ],
          "name": "stdout"
        }
      ]
    },
    {
      "cell_type": "markdown",
      "metadata": {
        "id": "aGO1TbV-Og4F"
      },
      "source": [
        "# **Blind test**"
      ]
    },
    {
      "cell_type": "markdown",
      "metadata": {
        "id": "xKtU3bLvlDBJ"
      },
      "source": [
        "**Dataset with duplicates**"
      ]
    },
    {
      "cell_type": "code",
      "metadata": {
        "colab": {
          "base_uri": "https://localhost:8080/"
        },
        "id": "x4D65q60UCjB",
        "outputId": "c26db13a-79e3-4020-ce3e-98aa457420d1"
      },
      "source": [
        "filename= '/content/drive/My Drive/homework_classification/blindtest.json'\n",
        "blind = pd.read_json(filename, lines=True)\n",
        "print(len(blind))"
      ],
      "execution_count": 44,
      "outputs": [
        {
          "output_type": "stream",
          "text": [
            "757\n"
          ],
          "name": "stdout"
        }
      ]
    },
    {
      "cell_type": "code",
      "metadata": {
        "colab": {
          "base_uri": "https://localhost:8080/"
        },
        "id": "i90dEvAJVVht",
        "outputId": "132c7227-6b4b-427f-ba62-8e6b75db7f06"
      },
      "source": [
        "data = db.lista_asm\n",
        "labels = db.semantic\n",
        "\n",
        "vectorizer = TfidfVectorizer()\n",
        "\n",
        "X_all = vectorizer.fit_transform(data)\n",
        "y_all = labels\n",
        "\n",
        "X_train, X_test, y_train, y_test = train_test_split(X_all, y_all, \n",
        "          test_size=0.2, random_state=15)\n",
        "\n",
        "model = BernoulliNB()\n",
        "model.fit(X_train, y_train)\n",
        "\n",
        "y_pred = model.predict(X_test)\n",
        "print(classification_report(y_test, y_pred, zero_division=0))"
      ],
      "execution_count": 49,
      "outputs": [
        {
          "output_type": "stream",
          "text": [
            "              precision    recall  f1-score   support\n",
            "\n",
            "  encryption       0.99      0.76      0.86       558\n",
            "        math       0.93      0.94      0.93       927\n",
            "        sort       0.81      0.96      0.88       796\n",
            "      string       0.94      0.92      0.93       599\n",
            "\n",
            "    accuracy                           0.90      2880\n",
            "   macro avg       0.92      0.89      0.90      2880\n",
            "weighted avg       0.91      0.90      0.90      2880\n",
            "\n"
          ],
          "name": "stdout"
        }
      ]
    },
    {
      "cell_type": "code",
      "metadata": {
        "id": "YY0JWmWcOjHP"
      },
      "source": [
        "blind_data = vectorizer.transform(blind.lista_asm)\n",
        "\n",
        "y_pred = model.predict(blind_data)\n",
        "\n",
        "f = open(\"/content/drive/My Drive/Colab Notebooks/1938388.txt\", \"w\")\n",
        "for pred in y_pred:\n",
        "  f.write(pred)\n",
        "  f.write('\\n')\n",
        "f.close()"
      ],
      "execution_count": 50,
      "outputs": []
    },
    {
      "cell_type": "code",
      "metadata": {
        "colab": {
          "base_uri": "https://localhost:8080/"
        },
        "id": "2IuBLI8cV0qC",
        "outputId": "09f4f9c0-fd50-4196-8c74-139ca2c77954"
      },
      "source": [
        "f = open(\"/content/drive/My Drive/Colab Notebooks/1938388.txt\", \"r\")\n",
        "file = f.read()\n",
        "f.close()\n",
        "print(file)"
      ],
      "execution_count": 51,
      "outputs": [
        {
          "output_type": "stream",
          "text": [
            "encryption\n",
            "math\n",
            "string\n",
            "string\n",
            "math\n",
            "string\n",
            "math\n",
            "encryption\n",
            "sort\n",
            "math\n",
            "math\n",
            "math\n",
            "sort\n",
            "string\n",
            "math\n",
            "math\n",
            "string\n",
            "string\n",
            "math\n",
            "math\n",
            "math\n",
            "string\n",
            "encryption\n",
            "math\n",
            "encryption\n",
            "string\n",
            "string\n",
            "math\n",
            "math\n",
            "sort\n",
            "sort\n",
            "sort\n",
            "sort\n",
            "sort\n",
            "string\n",
            "sort\n",
            "string\n",
            "math\n",
            "sort\n",
            "string\n",
            "string\n",
            "math\n",
            "sort\n",
            "math\n",
            "sort\n",
            "sort\n",
            "sort\n",
            "string\n",
            "string\n",
            "sort\n",
            "sort\n",
            "math\n",
            "math\n",
            "string\n",
            "math\n",
            "string\n",
            "math\n",
            "math\n",
            "math\n",
            "math\n",
            "encryption\n",
            "sort\n",
            "math\n",
            "string\n",
            "string\n",
            "sort\n",
            "math\n",
            "string\n",
            "sort\n",
            "sort\n",
            "sort\n",
            "string\n",
            "string\n",
            "sort\n",
            "math\n",
            "sort\n",
            "sort\n",
            "sort\n",
            "sort\n",
            "sort\n",
            "sort\n",
            "encryption\n",
            "math\n",
            "sort\n",
            "string\n",
            "math\n",
            "string\n",
            "math\n",
            "sort\n",
            "math\n",
            "string\n",
            "string\n",
            "string\n",
            "sort\n",
            "sort\n",
            "string\n",
            "math\n",
            "encryption\n",
            "encryption\n",
            "encryption\n",
            "math\n",
            "sort\n",
            "sort\n",
            "sort\n",
            "encryption\n",
            "math\n",
            "math\n",
            "math\n",
            "math\n",
            "sort\n",
            "sort\n",
            "string\n",
            "sort\n",
            "string\n",
            "string\n",
            "encryption\n",
            "math\n",
            "sort\n",
            "sort\n",
            "string\n",
            "sort\n",
            "math\n",
            "math\n",
            "encryption\n",
            "math\n",
            "sort\n",
            "math\n",
            "string\n",
            "sort\n",
            "encryption\n",
            "encryption\n",
            "string\n",
            "sort\n",
            "sort\n",
            "string\n",
            "sort\n",
            "math\n",
            "string\n",
            "encryption\n",
            "math\n",
            "math\n",
            "sort\n",
            "math\n",
            "math\n",
            "sort\n",
            "encryption\n",
            "math\n",
            "sort\n",
            "sort\n",
            "math\n",
            "math\n",
            "math\n",
            "string\n",
            "string\n",
            "encryption\n",
            "string\n",
            "sort\n",
            "math\n",
            "sort\n",
            "sort\n",
            "math\n",
            "sort\n",
            "math\n",
            "string\n",
            "encryption\n",
            "string\n",
            "sort\n",
            "string\n",
            "encryption\n",
            "encryption\n",
            "math\n",
            "sort\n",
            "sort\n",
            "sort\n",
            "math\n",
            "sort\n",
            "encryption\n",
            "string\n",
            "sort\n",
            "math\n",
            "sort\n",
            "string\n",
            "encryption\n",
            "math\n",
            "math\n",
            "math\n",
            "math\n",
            "math\n",
            "sort\n",
            "math\n",
            "sort\n",
            "encryption\n",
            "math\n",
            "sort\n",
            "string\n",
            "sort\n",
            "string\n",
            "sort\n",
            "sort\n",
            "encryption\n",
            "sort\n",
            "string\n",
            "math\n",
            "encryption\n",
            "string\n",
            "sort\n",
            "sort\n",
            "math\n",
            "math\n",
            "sort\n",
            "sort\n",
            "sort\n",
            "math\n",
            "math\n",
            "string\n",
            "string\n",
            "string\n",
            "math\n",
            "math\n",
            "math\n",
            "math\n",
            "sort\n",
            "sort\n",
            "math\n",
            "sort\n",
            "sort\n",
            "math\n",
            "encryption\n",
            "encryption\n",
            "sort\n",
            "math\n",
            "sort\n",
            "sort\n",
            "sort\n",
            "sort\n",
            "string\n",
            "encryption\n",
            "sort\n",
            "sort\n",
            "math\n",
            "sort\n",
            "encryption\n",
            "encryption\n",
            "string\n",
            "sort\n",
            "math\n",
            "math\n",
            "math\n",
            "sort\n",
            "math\n",
            "sort\n",
            "sort\n",
            "encryption\n",
            "encryption\n",
            "sort\n",
            "string\n",
            "sort\n",
            "string\n",
            "math\n",
            "sort\n",
            "encryption\n",
            "encryption\n",
            "string\n",
            "sort\n",
            "math\n",
            "sort\n",
            "math\n",
            "encryption\n",
            "string\n",
            "sort\n",
            "sort\n",
            "sort\n",
            "sort\n",
            "math\n",
            "math\n",
            "string\n",
            "string\n",
            "sort\n",
            "sort\n",
            "string\n",
            "math\n",
            "sort\n",
            "sort\n",
            "sort\n",
            "sort\n",
            "math\n",
            "string\n",
            "encryption\n",
            "sort\n",
            "math\n",
            "sort\n",
            "string\n",
            "math\n",
            "sort\n",
            "sort\n",
            "math\n",
            "string\n",
            "sort\n",
            "sort\n",
            "math\n",
            "string\n",
            "math\n",
            "math\n",
            "math\n",
            "sort\n",
            "sort\n",
            "math\n",
            "string\n",
            "string\n",
            "math\n",
            "sort\n",
            "sort\n",
            "math\n",
            "string\n",
            "string\n",
            "encryption\n",
            "string\n",
            "math\n",
            "string\n",
            "math\n",
            "string\n",
            "encryption\n",
            "math\n",
            "math\n",
            "sort\n",
            "string\n",
            "string\n",
            "sort\n",
            "math\n",
            "string\n",
            "math\n",
            "math\n",
            "sort\n",
            "sort\n",
            "sort\n",
            "sort\n",
            "math\n",
            "sort\n",
            "math\n",
            "sort\n",
            "math\n",
            "string\n",
            "string\n",
            "sort\n",
            "math\n",
            "string\n",
            "math\n",
            "sort\n",
            "encryption\n",
            "sort\n",
            "sort\n",
            "string\n",
            "sort\n",
            "math\n",
            "sort\n",
            "math\n",
            "encryption\n",
            "math\n",
            "math\n",
            "string\n",
            "math\n",
            "math\n",
            "math\n",
            "encryption\n",
            "math\n",
            "encryption\n",
            "sort\n",
            "math\n",
            "sort\n",
            "math\n",
            "encryption\n",
            "encryption\n",
            "math\n",
            "math\n",
            "string\n",
            "encryption\n",
            "encryption\n",
            "sort\n",
            "sort\n",
            "math\n",
            "math\n",
            "encryption\n",
            "math\n",
            "math\n",
            "sort\n",
            "sort\n",
            "math\n",
            "sort\n",
            "string\n",
            "sort\n",
            "sort\n",
            "sort\n",
            "sort\n",
            "sort\n",
            "string\n",
            "sort\n",
            "encryption\n",
            "sort\n",
            "math\n",
            "math\n",
            "sort\n",
            "sort\n",
            "string\n",
            "sort\n",
            "string\n",
            "sort\n",
            "math\n",
            "string\n",
            "math\n",
            "math\n",
            "encryption\n",
            "math\n",
            "string\n",
            "sort\n",
            "string\n",
            "math\n",
            "string\n",
            "string\n",
            "math\n",
            "string\n",
            "sort\n",
            "sort\n",
            "sort\n",
            "string\n",
            "math\n",
            "sort\n",
            "math\n",
            "math\n",
            "sort\n",
            "encryption\n",
            "string\n",
            "sort\n",
            "sort\n",
            "sort\n",
            "math\n",
            "math\n",
            "encryption\n",
            "math\n",
            "math\n",
            "math\n",
            "encryption\n",
            "string\n",
            "sort\n",
            "sort\n",
            "encryption\n",
            "string\n",
            "math\n",
            "sort\n",
            "math\n",
            "encryption\n",
            "string\n",
            "math\n",
            "string\n",
            "math\n",
            "sort\n",
            "string\n",
            "sort\n",
            "encryption\n",
            "string\n",
            "math\n",
            "math\n",
            "sort\n",
            "string\n",
            "encryption\n",
            "math\n",
            "string\n",
            "sort\n",
            "math\n",
            "math\n",
            "sort\n",
            "math\n",
            "string\n",
            "math\n",
            "string\n",
            "string\n",
            "encryption\n",
            "math\n",
            "math\n",
            "sort\n",
            "math\n",
            "sort\n",
            "sort\n",
            "sort\n",
            "encryption\n",
            "math\n",
            "sort\n",
            "string\n",
            "encryption\n",
            "string\n",
            "math\n",
            "math\n",
            "sort\n",
            "string\n",
            "string\n",
            "sort\n",
            "sort\n",
            "sort\n",
            "sort\n",
            "math\n",
            "string\n",
            "math\n",
            "sort\n",
            "string\n",
            "math\n",
            "sort\n",
            "string\n",
            "string\n",
            "encryption\n",
            "sort\n",
            "math\n",
            "encryption\n",
            "math\n",
            "sort\n",
            "encryption\n",
            "encryption\n",
            "string\n",
            "math\n",
            "string\n",
            "sort\n",
            "sort\n",
            "sort\n",
            "math\n",
            "sort\n",
            "sort\n",
            "string\n",
            "string\n",
            "math\n",
            "math\n",
            "string\n",
            "math\n",
            "encryption\n",
            "sort\n",
            "math\n",
            "sort\n",
            "encryption\n",
            "encryption\n",
            "sort\n",
            "encryption\n",
            "encryption\n",
            "sort\n",
            "math\n",
            "encryption\n",
            "encryption\n",
            "sort\n",
            "sort\n",
            "string\n",
            "string\n",
            "encryption\n",
            "encryption\n",
            "sort\n",
            "sort\n",
            "string\n",
            "math\n",
            "math\n",
            "encryption\n",
            "string\n",
            "math\n",
            "math\n",
            "sort\n",
            "sort\n",
            "sort\n",
            "string\n",
            "sort\n",
            "math\n",
            "string\n",
            "sort\n",
            "sort\n",
            "sort\n",
            "math\n",
            "encryption\n",
            "sort\n",
            "string\n",
            "math\n",
            "encryption\n",
            "sort\n",
            "math\n",
            "encryption\n",
            "math\n",
            "sort\n",
            "math\n",
            "string\n",
            "sort\n",
            "encryption\n",
            "string\n",
            "sort\n",
            "sort\n",
            "math\n",
            "math\n",
            "sort\n",
            "math\n",
            "sort\n",
            "string\n",
            "math\n",
            "sort\n",
            "string\n",
            "encryption\n",
            "sort\n",
            "sort\n",
            "sort\n",
            "string\n",
            "sort\n",
            "encryption\n",
            "sort\n",
            "math\n",
            "math\n",
            "sort\n",
            "math\n",
            "math\n",
            "sort\n",
            "math\n",
            "sort\n",
            "math\n",
            "sort\n",
            "encryption\n",
            "string\n",
            "math\n",
            "sort\n",
            "encryption\n",
            "string\n",
            "sort\n",
            "sort\n",
            "math\n",
            "string\n",
            "sort\n",
            "encryption\n",
            "encryption\n",
            "math\n",
            "math\n",
            "math\n",
            "sort\n",
            "sort\n",
            "math\n",
            "string\n",
            "math\n",
            "math\n",
            "string\n",
            "sort\n",
            "math\n",
            "math\n",
            "string\n",
            "string\n",
            "sort\n",
            "string\n",
            "string\n",
            "sort\n",
            "sort\n",
            "sort\n",
            "math\n",
            "math\n",
            "string\n",
            "encryption\n",
            "sort\n",
            "math\n",
            "encryption\n",
            "string\n",
            "encryption\n",
            "encryption\n",
            "math\n",
            "math\n",
            "sort\n",
            "math\n",
            "string\n",
            "math\n",
            "math\n",
            "string\n",
            "math\n",
            "sort\n",
            "math\n",
            "math\n",
            "sort\n",
            "sort\n",
            "string\n",
            "encryption\n",
            "sort\n",
            "string\n",
            "sort\n",
            "math\n",
            "string\n",
            "encryption\n",
            "math\n",
            "sort\n",
            "sort\n",
            "math\n",
            "encryption\n",
            "encryption\n",
            "sort\n",
            "string\n",
            "sort\n",
            "encryption\n",
            "math\n",
            "sort\n",
            "math\n",
            "encryption\n",
            "math\n",
            "math\n",
            "sort\n",
            "sort\n",
            "string\n",
            "encryption\n",
            "string\n",
            "math\n",
            "sort\n",
            "encryption\n",
            "string\n",
            "math\n",
            "math\n",
            "encryption\n",
            "string\n",
            "encryption\n",
            "sort\n",
            "sort\n",
            "math\n",
            "sort\n",
            "sort\n",
            "string\n",
            "math\n",
            "string\n",
            "string\n",
            "encryption\n",
            "math\n",
            "string\n",
            "string\n",
            "sort\n",
            "math\n",
            "math\n",
            "math\n",
            "math\n",
            "sort\n",
            "encryption\n",
            "math\n",
            "math\n",
            "encryption\n",
            "string\n",
            "sort\n",
            "math\n",
            "sort\n",
            "sort\n",
            "math\n",
            "math\n",
            "string\n",
            "string\n",
            "sort\n",
            "encryption\n",
            "sort\n",
            "sort\n",
            "string\n",
            "string\n",
            "math\n",
            "math\n",
            "encryption\n",
            "math\n",
            "sort\n",
            "math\n",
            "sort\n",
            "encryption\n",
            "math\n",
            "math\n",
            "\n"
          ],
          "name": "stdout"
        }
      ]
    }
  ]
}